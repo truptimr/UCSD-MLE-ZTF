{
 "cells": [
  {
   "cell_type": "code",
   "execution_count": 1,
   "id": "6cdab3f2",
   "metadata": {},
   "outputs": [],
   "source": [
    "%matplotlib inline\n",
    "import pandas as pd\n",
    "import matplotlib.pyplot as plt\n",
    "import numpy as np"
   ]
  },
  {
   "cell_type": "markdown",
   "id": "f12dbb2a",
   "metadata": {},
   "source": [
    "# Import features extracted from light curves"
   ]
  },
  {
   "cell_type": "code",
   "execution_count": 2,
   "id": "6847d92f",
   "metadata": {},
   "outputs": [],
   "source": [
    "df = pd.read_csv('features2.csv', header=None, skiprows=1)\n",
    "header = pd.read_csv('features2.csv', header=None, nrows=1)\n",
    "df.columns = header.iloc[0]"
   ]
  },
  {
   "cell_type": "code",
   "execution_count": 3,
   "id": "25639401",
   "metadata": {},
   "outputs": [
    {
     "data": {
      "text/html": [
       "<div>\n",
       "<style scoped>\n",
       "    .dataframe tbody tr th:only-of-type {\n",
       "        vertical-align: middle;\n",
       "    }\n",
       "\n",
       "    .dataframe tbody tr th {\n",
       "        vertical-align: top;\n",
       "    }\n",
       "\n",
       "    .dataframe thead th {\n",
       "        text-align: right;\n",
       "    }\n",
       "</style>\n",
       "<table border=\"1\" class=\"dataframe\">\n",
       "  <thead>\n",
       "    <tr style=\"text-align: right;\">\n",
       "      <th></th>\n",
       "      <th>g_mean</th>\n",
       "      <th>g_wmean</th>\n",
       "      <th>g_MAD</th>\n",
       "      <th>g_IQR</th>\n",
       "      <th>g_f60</th>\n",
       "      <th>g_f70</th>\n",
       "      <th>g_f80</th>\n",
       "      <th>g_f90</th>\n",
       "      <th>g_skew</th>\n",
       "      <th>g_kurtosis</th>\n",
       "      <th>...</th>\n",
       "      <th>r_f90</th>\n",
       "      <th>r_skew</th>\n",
       "      <th>r_kurtosis</th>\n",
       "      <th>r_welsh_J</th>\n",
       "      <th>r_welsh_K</th>\n",
       "      <th>label</th>\n",
       "      <th>sourceid</th>\n",
       "      <th>RAdeg</th>\n",
       "      <th>DEdeg</th>\n",
       "      <th>ID</th>\n",
       "    </tr>\n",
       "  </thead>\n",
       "  <tbody>\n",
       "    <tr>\n",
       "      <th>0</th>\n",
       "      <td>18.266840</td>\n",
       "      <td>18.268926</td>\n",
       "      <td>0.030771</td>\n",
       "      <td>0.061090</td>\n",
       "      <td>0.069597</td>\n",
       "      <td>0.087088</td>\n",
       "      <td>0.113279</td>\n",
       "      <td>0.146547</td>\n",
       "      <td>-0.491997</td>\n",
       "      <td>0.573063</td>\n",
       "      <td>...</td>\n",
       "      <td>0.079991</td>\n",
       "      <td>-0.033536</td>\n",
       "      <td>-0.674624</td>\n",
       "      <td>0.000644</td>\n",
       "      <td>0.637462</td>\n",
       "      <td>RSCVN</td>\n",
       "      <td>487839</td>\n",
       "      <td>295.05785</td>\n",
       "      <td>12.56705</td>\n",
       "      <td>ZTFJ194013.88+123401.3</td>\n",
       "    </tr>\n",
       "    <tr>\n",
       "      <th>1</th>\n",
       "      <td>19.925826</td>\n",
       "      <td>19.969903</td>\n",
       "      <td>0.145218</td>\n",
       "      <td>0.286871</td>\n",
       "      <td>0.310142</td>\n",
       "      <td>0.407433</td>\n",
       "      <td>0.478775</td>\n",
       "      <td>0.624174</td>\n",
       "      <td>-0.123830</td>\n",
       "      <td>0.498638</td>\n",
       "      <td>...</td>\n",
       "      <td>0.523111</td>\n",
       "      <td>-0.618238</td>\n",
       "      <td>0.225351</td>\n",
       "      <td>0.019193</td>\n",
       "      <td>4.931144</td>\n",
       "      <td>SR</td>\n",
       "      <td>271695</td>\n",
       "      <td>277.02911</td>\n",
       "      <td>1.31651</td>\n",
       "      <td>ZTFJ182806.98+011859.4</td>\n",
       "    </tr>\n",
       "    <tr>\n",
       "      <th>2</th>\n",
       "      <td>19.161813</td>\n",
       "      <td>19.299435</td>\n",
       "      <td>0.264480</td>\n",
       "      <td>0.503004</td>\n",
       "      <td>0.578186</td>\n",
       "      <td>0.674479</td>\n",
       "      <td>0.751739</td>\n",
       "      <td>0.965016</td>\n",
       "      <td>-0.451999</td>\n",
       "      <td>-0.087775</td>\n",
       "      <td>...</td>\n",
       "      <td>0.620676</td>\n",
       "      <td>-0.478345</td>\n",
       "      <td>-0.851582</td>\n",
       "      <td>0.040503</td>\n",
       "      <td>2.874549</td>\n",
       "      <td>RR</td>\n",
       "      <td>570008</td>\n",
       "      <td>301.21524</td>\n",
       "      <td>-9.10789</td>\n",
       "      <td>ZTFJ200451.65-090628.4</td>\n",
       "    </tr>\n",
       "    <tr>\n",
       "      <th>3</th>\n",
       "      <td>16.602879</td>\n",
       "      <td>16.612717</td>\n",
       "      <td>0.091207</td>\n",
       "      <td>0.171326</td>\n",
       "      <td>0.267252</td>\n",
       "      <td>0.362235</td>\n",
       "      <td>0.435667</td>\n",
       "      <td>0.553401</td>\n",
       "      <td>-0.941617</td>\n",
       "      <td>0.653601</td>\n",
       "      <td>...</td>\n",
       "      <td>0.406826</td>\n",
       "      <td>-1.236671</td>\n",
       "      <td>1.955880</td>\n",
       "      <td>0.008101</td>\n",
       "      <td>11.155628</td>\n",
       "      <td>SR</td>\n",
       "      <td>437926</td>\n",
       "      <td>291.73444</td>\n",
       "      <td>26.68351</td>\n",
       "      <td>ZTFJ192656.26+264100.6</td>\n",
       "    </tr>\n",
       "    <tr>\n",
       "      <th>4</th>\n",
       "      <td>19.415213</td>\n",
       "      <td>19.456420</td>\n",
       "      <td>0.166479</td>\n",
       "      <td>0.321408</td>\n",
       "      <td>0.412489</td>\n",
       "      <td>0.473536</td>\n",
       "      <td>0.559076</td>\n",
       "      <td>0.620158</td>\n",
       "      <td>-0.248337</td>\n",
       "      <td>-0.686700</td>\n",
       "      <td>...</td>\n",
       "      <td>0.497180</td>\n",
       "      <td>0.080274</td>\n",
       "      <td>-0.926671</td>\n",
       "      <td>0.020252</td>\n",
       "      <td>10.024668</td>\n",
       "      <td>SR</td>\n",
       "      <td>331495</td>\n",
       "      <td>284.12455</td>\n",
       "      <td>-5.11396</td>\n",
       "      <td>ZTFJ185629.89-050650.2</td>\n",
       "    </tr>\n",
       "  </tbody>\n",
       "</table>\n",
       "<p>5 rows × 29 columns</p>\n",
       "</div>"
      ],
      "text/plain": [
       "0     g_mean    g_wmean     g_MAD     g_IQR     g_f60     g_f70     g_f80  \\\n",
       "0  18.266840  18.268926  0.030771  0.061090  0.069597  0.087088  0.113279   \n",
       "1  19.925826  19.969903  0.145218  0.286871  0.310142  0.407433  0.478775   \n",
       "2  19.161813  19.299435  0.264480  0.503004  0.578186  0.674479  0.751739   \n",
       "3  16.602879  16.612717  0.091207  0.171326  0.267252  0.362235  0.435667   \n",
       "4  19.415213  19.456420  0.166479  0.321408  0.412489  0.473536  0.559076   \n",
       "\n",
       "0     g_f90    g_skew  g_kurtosis  ...     r_f90    r_skew  r_kurtosis  \\\n",
       "0  0.146547 -0.491997    0.573063  ...  0.079991 -0.033536   -0.674624   \n",
       "1  0.624174 -0.123830    0.498638  ...  0.523111 -0.618238    0.225351   \n",
       "2  0.965016 -0.451999   -0.087775  ...  0.620676 -0.478345   -0.851582   \n",
       "3  0.553401 -0.941617    0.653601  ...  0.406826 -1.236671    1.955880   \n",
       "4  0.620158 -0.248337   -0.686700  ...  0.497180  0.080274   -0.926671   \n",
       "\n",
       "0  r_welsh_J  r_welsh_K  label  sourceid      RAdeg     DEdeg  \\\n",
       "0   0.000644   0.637462  RSCVN    487839  295.05785  12.56705   \n",
       "1   0.019193   4.931144     SR    271695  277.02911   1.31651   \n",
       "2   0.040503   2.874549     RR    570008  301.21524  -9.10789   \n",
       "3   0.008101  11.155628     SR    437926  291.73444  26.68351   \n",
       "4   0.020252  10.024668     SR    331495  284.12455  -5.11396   \n",
       "\n",
       "0                      ID  \n",
       "0  ZTFJ194013.88+123401.3  \n",
       "1  ZTFJ182806.98+011859.4  \n",
       "2  ZTFJ200451.65-090628.4  \n",
       "3  ZTFJ192656.26+264100.6  \n",
       "4  ZTFJ185629.89-050650.2  \n",
       "\n",
       "[5 rows x 29 columns]"
      ]
     },
     "execution_count": 3,
     "metadata": {},
     "output_type": "execute_result"
    }
   ],
   "source": [
    "df.head()"
   ]
  },
  {
   "cell_type": "markdown",
   "id": "fbcdb4cc",
   "metadata": {},
   "source": [
    "# Plot location of light curve sources in the sky"
   ]
  },
  {
   "cell_type": "code",
   "execution_count": 4,
   "id": "6cea0ecd",
   "metadata": {},
   "outputs": [
    {
     "data": {
      "text/plain": [
       "<matplotlib.collections.PathCollection at 0x7f846a64fa30>"
      ]
     },
     "execution_count": 4,
     "metadata": {},
     "output_type": "execute_result"
    },
    {
     "data": {
      "image/png": "[encoded data removed]",
      "text/plain": [
       "<Figure size 576x432 with 1 Axes>"
      ]
     },
     "metadata": {
      "needs_background": "light"
     },
     "output_type": "display_data"
    }
   ],
   "source": [
    "import astropy.coordinates as coord\n",
    "import astropy.units as u\n",
    "\n",
    "ra = coord.Angle(df.RAdeg, unit=u.degree)\n",
    "\n",
    "ra = ra.wrap_at(180*u.degree)\n",
    "dec = coord.Angle(df.DEdeg, unit=u.degree)\n",
    "\n",
    "fig = plt.figure(figsize=(8,6))\n",
    "ax = fig.add_subplot(111, projection=\"mollweide\")\n",
    "ax.scatter(ra.radian, dec.radian)"
   ]
  },
  {
   "cell_type": "markdown",
   "id": "39d40826",
   "metadata": {},
   "source": [
    "# Plot histogram of variable types"
   ]
  },
  {
   "cell_type": "code",
   "execution_count": 7,
   "id": "4e0c17f2",
   "metadata": {},
   "outputs": [
    {
     "data": {
      "text/plain": [
       "<AxesSubplot:xlabel='label', ylabel='Count'>"
      ]
     },
     "execution_count": 7,
     "metadata": {},
     "output_type": "execute_result"
    },
    {
     "data": {
      "image/png": "[encoded data removed]",
      "text/plain": [
       "<Figure size 432x288 with 1 Axes>"
      ]
     },
     "metadata": {
      "needs_background": "light"
     },
     "output_type": "display_data"
    }
   ],
   "source": [
    "import seaborn as sns\n",
    "sns.histplot(data=df, x=df.label)"
   ]
  },
  {
   "cell_type": "markdown",
   "id": "ac258357",
   "metadata": {},
   "source": [
    "# Drop rows with Blank values"
   ]
  },
  {
   "cell_type": "code",
   "execution_count": 10,
   "id": "bc7a1171",
   "metadata": {},
   "outputs": [],
   "source": [
    "df.replace('', np.nan, inplace=True)\n",
    "df.dropna(inplace=True)"
   ]
  },
  {
   "cell_type": "markdown",
   "id": "df2a0a7c",
   "metadata": {},
   "source": [
    "# Split into training and test data"
   ]
  },
  {
   "cell_type": "code",
   "execution_count": 11,
   "id": "cee3e2b6",
   "metadata": {},
   "outputs": [],
   "source": [
    "from sklearn import preprocessing\n",
    "from sklearn.model_selection import train_test_split\n",
    "\n",
    "# Map string labels to numbers\n",
    "label = df.label\n",
    "\n",
    "\n",
    "le = preprocessing.LabelEncoder()\n",
    "le.fit(label)\n",
    "\n",
    "# Drop columns that are not features\n",
    "X = df\n",
    "# Encode labels to form y labels\n",
    "y = le.transform(df.label)\n",
    "\n",
    "# Split dataset into training set and test set\n",
    "X_tr, X_ts, y_train, y_test = train_test_split(X, y, test_size=0.3) # 70% training and 30% test\n",
    "X_train = X_tr.drop(['label','ID','sourceid', 'RAdeg','DEdeg'],axis='columns')\n",
    "X_test = X_ts.drop(['label','ID','sourceid', 'RAdeg','DEdeg'],axis='columns')"
   ]
  },
  {
   "cell_type": "markdown",
   "id": "4206d385",
   "metadata": {},
   "source": [
    "# Train a simple Random Forest"
   ]
  },
  {
   "cell_type": "code",
   "execution_count": 12,
   "id": "23bba0ec",
   "metadata": {},
   "outputs": [
    {
     "name": "stdout",
     "output_type": "stream",
     "text": [
      "Accuracy: 0.697508896797153\n"
     ]
    }
   ],
   "source": [
    "#Import Random Forest Model\n",
    "from sklearn.ensemble import RandomForestClassifier\n",
    "from sklearn import metrics\n",
    "\n",
    "#Create a Gaussian Classifier\n",
    "clf=RandomForestClassifier(n_estimators=100)\n",
    "\n",
    "#Train the model using the training sets y_pred=clf.predict(X_test)\n",
    "clf.fit(X_train,y_train)\n",
    "\n",
    "# Predict test data output\n",
    "y_pred=clf.predict(X_test)\n",
    "\n",
    "# Estimate model accuracy\n",
    "print(\"Accuracy:\",metrics.accuracy_score(y_test, y_pred))"
   ]
  },
  {
   "cell_type": "markdown",
   "id": "360e26a6",
   "metadata": {},
   "source": [
    "## Prediction Error distribution accross variable type class"
   ]
  },
  {
   "cell_type": "code",
   "execution_count": 15,
   "id": "2cb1eabd",
   "metadata": {},
   "outputs": [
    {
     "data": {
      "text/plain": [
       "<AxesSubplot:xlabel='Test', ylabel='Count'>"
      ]
     },
     "execution_count": 15,
     "metadata": {},
     "output_type": "execute_result"
    },
    {
     "data": {
      "image/png": "[encoded data removed]",
      "text/plain": [
       "<Figure size 432x288 with 1 Axes>"
      ]
     },
     "metadata": {
      "needs_background": "light"
     },
     "output_type": "display_data"
    }
   ],
   "source": [
    "y_test_labels = le.inverse_transform(y_test)\n",
    "y_pred_labels = le.inverse_transform(y_pred)\n",
    "\n",
    "# Form a dataframe of test vs predicted labels\n",
    "pd_prediction = pd.DataFrame()\n",
    "pd_prediction['Test'] = y_test_labels\n",
    "pd_prediction['Pred'] = y_pred_labels\n",
    "pd_prediction['Accuracy'] = y_test_labels == y_pred_labels\n",
    "pd_prediction.head()\n",
    "\n",
    "sns.histplot(data=pd_prediction, x=pd_prediction.Test, hue = pd_prediction.Accuracy)\n",
    "\n",
    "# sns.histplot(data=pred_err, x=pred_err.Test)"
   ]
  },
  {
   "cell_type": "code",
   "execution_count": null,
   "id": "65b3268a",
   "metadata": {},
   "outputs": [],
   "source": []
  }
 ],
 "metadata": {
  "kernelspec": {
   "display_name": "Python 3",
   "language": "python",
   "name": "python3"
  },
  "language_info": {
   "codemirror_mode": {
    "name": "ipython",
    "version": 3
   },
   "file_extension": ".py",
   "mimetype": "text/x-python",
   "name": "python",
   "nbconvert_exporter": "python",
   "pygments_lexer": "ipython3",
   "version": "3.8.5"
  }
 },
 "nbformat": 4,
 "nbformat_minor": 5
}
