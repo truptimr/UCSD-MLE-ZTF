{
 "cells": [
  {
   "cell_type": "markdown",
   "id": "dcce19ed",
   "metadata": {},
   "source": [
    "## Objective:\n",
    "- Fit a One vs All classifier for for different types of variable stars\n",
    "- Use several different classifier methods: Random Forest, Decision Tree, Logistic Regression, Naive Bayes\n",
    "- Create a comparision table for different classifiers and labels. Compare using metrics like accuracy, precision and recall"
   ]
  },
  {
   "cell_type": "code",
   "execution_count": 1,
   "id": "6cdab3f2",
   "metadata": {},
   "outputs": [],
   "source": [
    "#Load libraries\n",
    "%matplotlib inline\n",
    "import pandas as pd\n",
    "import matplotlib.pyplot as plt\n",
    "import numpy as np"
   ]
  },
  {
   "cell_type": "markdown",
   "id": "96ff13e0",
   "metadata": {},
   "source": [
    "## Complete features and label table from Xiadian's website"
   ]
  },
  {
   "cell_type": "code",
   "execution_count": 2,
   "id": "6f99040f",
   "metadata": {},
   "outputs": [
    {
     "name": "stdout",
     "output_type": "stream",
     "text": [
      "['BYDra' 'EW' 'SR' 'RSCVN' 'RR' 'DSCT' 'EA' 'Mira' 'RRc' 'CEP']\n"
     ]
    }
   ],
   "source": [
    "widths = (8,7,4,13,43)\n",
    "header_pd = pd.read_fwf('Labeled_data.txt', widths = widths,skiprows=7, nrows=27)\n",
    "labeled_data = pd.read_csv('Labeled_data.txt', header=None, delim_whitespace=True, skiprows=36) # extract data\n",
    "labeled_data.columns = header_pd.iloc[:,3]\n",
    "labeled_data.head()\n",
    "label = labeled_data.Type.unique()\n",
    "label = np.delete(label, np.where(label == 'CEPII')) # CEPII has very few samples so we ignore it\n",
    "print(label)"
   ]
  },
  {
   "cell_type": "markdown",
   "id": "f12dbb2a",
   "metadata": {},
   "source": [
    "## Import features extracted from light curves\n",
    "These features are caluclated on 1000 light curves of each variable type. The light curves are imported from variables.cn:88/\n",
    "Feature list\n",
    "- mean : mean of the light curve\n",
    "- wmean : weight mean of the light curve\n",
    "- MAD : deviation about the median\n",
    "- IQR : inter quartile percentile of the light curve\n",
    "- f60 : 60 percentile  of light curve\n",
    "- f70 : 70 percentile of the light curve\n",
    "- f80 : 80 percentile of the light curve\n",
    "- f90 : 90 percentile of the light curve\n",
    "- skew : skewness of the light curve\n",
    "- kurtosis : kurtosis of the light curve\n",
    "- welsk_k, welsh_j : welsh and staton J and K statistics of the light curve\n",
    "- g_ : g band filter\n",
    "- r_ : r band filter"
   ]
  },
  {
   "cell_type": "code",
   "execution_count": 3,
   "id": "6847d92f",
   "metadata": {},
   "outputs": [],
   "source": [
    "df = pd.read_csv('features10000.csv', header=None, skiprows=1)\n",
    "header = pd.read_csv('features10000.csv', header=None, nrows=1)\n",
    "df.columns = header.iloc[0]"
   ]
  },
  {
   "cell_type": "code",
   "execution_count": 4,
   "id": "25639401",
   "metadata": {},
   "outputs": [
    {
     "data": {
      "text/html": [
       "<div>\n",
       "<style scoped>\n",
       "    .dataframe tbody tr th:only-of-type {\n",
       "        vertical-align: middle;\n",
       "    }\n",
       "\n",
       "    .dataframe tbody tr th {\n",
       "        vertical-align: top;\n",
       "    }\n",
       "\n",
       "    .dataframe thead th {\n",
       "        text-align: right;\n",
       "    }\n",
       "</style>\n",
       "<table border=\"1\" class=\"dataframe\">\n",
       "  <thead>\n",
       "    <tr style=\"text-align: right;\">\n",
       "      <th></th>\n",
       "      <th>sourceid</th>\n",
       "      <th>ID</th>\n",
       "      <th>RAdeg</th>\n",
       "      <th>DEdeg</th>\n",
       "      <th>g_mean</th>\n",
       "      <th>g_wmean</th>\n",
       "      <th>g_MAD</th>\n",
       "      <th>g_IQR</th>\n",
       "      <th>g_f60</th>\n",
       "      <th>g_f70</th>\n",
       "      <th>...</th>\n",
       "      <th>r_IQR</th>\n",
       "      <th>r_f60</th>\n",
       "      <th>r_f70</th>\n",
       "      <th>r_f80</th>\n",
       "      <th>r_f90</th>\n",
       "      <th>r_skew</th>\n",
       "      <th>r_kurtosis</th>\n",
       "      <th>r_welsh_J</th>\n",
       "      <th>r_welsh_K</th>\n",
       "      <th>Type</th>\n",
       "    </tr>\n",
       "  </thead>\n",
       "  <tbody>\n",
       "    <tr>\n",
       "      <th>0</th>\n",
       "      <td>1.0</td>\n",
       "      <td>ZTFJ000000.13+620605.8</td>\n",
       "      <td>0.000566</td>\n",
       "      <td>62.101631</td>\n",
       "      <td>17.994656</td>\n",
       "      <td>17.992102</td>\n",
       "      <td>0.034</td>\n",
       "      <td>0.07000</td>\n",
       "      <td>0.0820</td>\n",
       "      <td>0.10000</td>\n",
       "      <td>...</td>\n",
       "      <td>0.05125</td>\n",
       "      <td>0.0580</td>\n",
       "      <td>0.06655</td>\n",
       "      <td>0.0797</td>\n",
       "      <td>0.09370</td>\n",
       "      <td>0.105202</td>\n",
       "      <td>-0.632720</td>\n",
       "      <td>40.723268</td>\n",
       "      <td>1678.291273</td>\n",
       "      <td>BYDra</td>\n",
       "    </tr>\n",
       "    <tr>\n",
       "      <th>1</th>\n",
       "      <td>2.0</td>\n",
       "      <td>ZTFJ000000.14+721413.7</td>\n",
       "      <td>0.000620</td>\n",
       "      <td>72.237174</td>\n",
       "      <td>19.619402</td>\n",
       "      <td>19.579923</td>\n",
       "      <td>0.111</td>\n",
       "      <td>0.22650</td>\n",
       "      <td>0.2850</td>\n",
       "      <td>0.35950</td>\n",
       "      <td>...</td>\n",
       "      <td>0.22750</td>\n",
       "      <td>0.2712</td>\n",
       "      <td>0.30765</td>\n",
       "      <td>0.3614</td>\n",
       "      <td>0.44115</td>\n",
       "      <td>0.334634</td>\n",
       "      <td>-0.775188</td>\n",
       "      <td>258.579275</td>\n",
       "      <td>3360.702573</td>\n",
       "      <td>EW</td>\n",
       "    </tr>\n",
       "    <tr>\n",
       "      <th>2</th>\n",
       "      <td>3.0</td>\n",
       "      <td>ZTFJ000000.19+320847.2</td>\n",
       "      <td>0.000795</td>\n",
       "      <td>32.146449</td>\n",
       "      <td>15.313984</td>\n",
       "      <td>15.313984</td>\n",
       "      <td>0.072</td>\n",
       "      <td>0.14200</td>\n",
       "      <td>0.1580</td>\n",
       "      <td>0.18300</td>\n",
       "      <td>...</td>\n",
       "      <td>0.12600</td>\n",
       "      <td>0.1470</td>\n",
       "      <td>0.16080</td>\n",
       "      <td>0.1760</td>\n",
       "      <td>0.18860</td>\n",
       "      <td>-0.212606</td>\n",
       "      <td>-1.485137</td>\n",
       "      <td>171.745322</td>\n",
       "      <td>891.052032</td>\n",
       "      <td>EW</td>\n",
       "    </tr>\n",
       "    <tr>\n",
       "      <th>3</th>\n",
       "      <td>4.0</td>\n",
       "      <td>ZTFJ000000.26+311206.3</td>\n",
       "      <td>0.001085</td>\n",
       "      <td>31.201756</td>\n",
       "      <td>16.353295</td>\n",
       "      <td>16.353295</td>\n",
       "      <td>0.077</td>\n",
       "      <td>0.14900</td>\n",
       "      <td>0.1710</td>\n",
       "      <td>0.18700</td>\n",
       "      <td>...</td>\n",
       "      <td>0.10200</td>\n",
       "      <td>0.1322</td>\n",
       "      <td>0.15980</td>\n",
       "      <td>0.1946</td>\n",
       "      <td>0.20560</td>\n",
       "      <td>0.418285</td>\n",
       "      <td>-1.009552</td>\n",
       "      <td>202.025570</td>\n",
       "      <td>966.503331</td>\n",
       "      <td>EW</td>\n",
       "    </tr>\n",
       "    <tr>\n",
       "      <th>4</th>\n",
       "      <td>6.0</td>\n",
       "      <td>ZTFJ000000.30+233400.5</td>\n",
       "      <td>0.001249</td>\n",
       "      <td>23.566828</td>\n",
       "      <td>17.892283</td>\n",
       "      <td>17.878715</td>\n",
       "      <td>0.102</td>\n",
       "      <td>0.18975</td>\n",
       "      <td>0.2526</td>\n",
       "      <td>0.28225</td>\n",
       "      <td>...</td>\n",
       "      <td>0.22900</td>\n",
       "      <td>0.2700</td>\n",
       "      <td>0.29620</td>\n",
       "      <td>0.3132</td>\n",
       "      <td>0.33620</td>\n",
       "      <td>0.158998</td>\n",
       "      <td>-1.484462</td>\n",
       "      <td>253.787215</td>\n",
       "      <td>1019.579800</td>\n",
       "      <td>EW</td>\n",
       "    </tr>\n",
       "  </tbody>\n",
       "</table>\n",
       "<p>5 rows × 29 columns</p>\n",
       "</div>"
      ],
      "text/plain": [
       "0  sourceid                      ID     RAdeg      DEdeg     g_mean  \\\n",
       "0       1.0  ZTFJ000000.13+620605.8  0.000566  62.101631  17.994656   \n",
       "1       2.0  ZTFJ000000.14+721413.7  0.000620  72.237174  19.619402   \n",
       "2       3.0  ZTFJ000000.19+320847.2  0.000795  32.146449  15.313984   \n",
       "3       4.0  ZTFJ000000.26+311206.3  0.001085  31.201756  16.353295   \n",
       "4       6.0  ZTFJ000000.30+233400.5  0.001249  23.566828  17.892283   \n",
       "\n",
       "0    g_wmean  g_MAD    g_IQR   g_f60    g_f70  ...    r_IQR   r_f60    r_f70  \\\n",
       "0  17.992102  0.034  0.07000  0.0820  0.10000  ...  0.05125  0.0580  0.06655   \n",
       "1  19.579923  0.111  0.22650  0.2850  0.35950  ...  0.22750  0.2712  0.30765   \n",
       "2  15.313984  0.072  0.14200  0.1580  0.18300  ...  0.12600  0.1470  0.16080   \n",
       "3  16.353295  0.077  0.14900  0.1710  0.18700  ...  0.10200  0.1322  0.15980   \n",
       "4  17.878715  0.102  0.18975  0.2526  0.28225  ...  0.22900  0.2700  0.29620   \n",
       "\n",
       "0   r_f80    r_f90    r_skew  r_kurtosis   r_welsh_J    r_welsh_K   Type  \n",
       "0  0.0797  0.09370  0.105202   -0.632720   40.723268  1678.291273  BYDra  \n",
       "1  0.3614  0.44115  0.334634   -0.775188  258.579275  3360.702573     EW  \n",
       "2  0.1760  0.18860 -0.212606   -1.485137  171.745322   891.052032     EW  \n",
       "3  0.1946  0.20560  0.418285   -1.009552  202.025570   966.503331     EW  \n",
       "4  0.3132  0.33620  0.158998   -1.484462  253.787215  1019.579800     EW  \n",
       "\n",
       "[5 rows x 29 columns]"
      ]
     },
     "execution_count": 4,
     "metadata": {},
     "output_type": "execute_result"
    }
   ],
   "source": [
    "df.head()"
   ]
  },
  {
   "cell_type": "code",
   "execution_count": 5,
   "id": "bc7a1171",
   "metadata": {},
   "outputs": [],
   "source": [
    "# Drop rows with Blank values\n",
    "df.replace('', np.nan, inplace=True)\n",
    "df.dropna(inplace=True)"
   ]
  },
  {
   "cell_type": "code",
   "execution_count": 6,
   "id": "497e4ec2",
   "metadata": {},
   "outputs": [
    {
     "name": "stdout",
     "output_type": "stream",
     "text": [
      "['BYDra' 'EW' 'SR' 'RSCVN' 'RR' 'DSCT' 'EA' 'RRc' 'Mira' 'CEP']\n"
     ]
    }
   ],
   "source": [
    "# get all unique labels\n",
    "label = df.Type.unique()\n",
    "print(label)"
   ]
  },
  {
   "cell_type": "code",
   "execution_count": 7,
   "id": "4e0c17f2",
   "metadata": {},
   "outputs": [
    {
     "data": {
      "text/plain": [
       "<AxesSubplot:xlabel='Type', ylabel='Count'>"
      ]
     },
     "execution_count": 7,
     "metadata": {},
     "output_type": "execute_result"
    },
    {
     "data": {
      "image/png": "[encoded data removed]",
      "text/plain": [
       "<Figure size 432x288 with 1 Axes>"
      ]
     },
     "metadata": {
      "needs_background": "light"
     },
     "output_type": "display_data"
    }
   ],
   "source": [
    "# Plot histogram of variable types in the dataset\n",
    "import seaborn as sns\n",
    "sns.histplot(data=df, x=df.Type)"
   ]
  },
  {
   "cell_type": "markdown",
   "id": "b3525419",
   "metadata": {},
   "source": [
    "## Various functions to create multiple classifiers"
   ]
  },
  {
   "cell_type": "code",
   "execution_count": 8,
   "id": "261ae79d",
   "metadata": {},
   "outputs": [],
   "source": [
    "def multiple_to_2labels(df,variable_type):\n",
    "    \"\"\"\n",
    "    converts multiple labels for diffrent variable types to only two labels for one vs all classifier.\n",
    "    Returns 2 data frames: \n",
    "    1. Original data frame with new labels. \n",
    "    2. Dataframe with equal candidates of the two classes.\n",
    "    \"\"\"\n",
    "    OneClass = variable_type\n",
    "    df0 = df.copy()\n",
    "    df0.loc[df0.Type != OneClass,'Type'] = 'Other'\n",
    "    df1 = df0[df0.Type == 'Other']\n",
    "    df2 = df0[df0.Type == OneClass]\n",
    "\n",
    "    df3 = df1.sample(n=1000, random_state=1) # balance data type by only selecting 1000 of other type\n",
    "    frames = [df2,df3]\n",
    "    df_onevsall = pd.concat(frames)\n",
    "    return df0, df_onevsall"
   ]
  },
  {
   "cell_type": "code",
   "execution_count": 9,
   "id": "5f12dbb3",
   "metadata": {},
   "outputs": [],
   "source": [
    "from sklearn import preprocessing\n",
    "from sklearn.model_selection import train_test_split\n",
    "def preprocess_data(df):\n",
    "    \"\"\"\n",
    "    Preprocess data for one vs all classifier and split it to train/test data\n",
    "    \"\"\"\n",
    "    # Map string labels to numbers\n",
    "    label = df.Type\n",
    "\n",
    "    le = preprocessing.LabelEncoder()\n",
    "    le.fit(label)\n",
    "\n",
    "    # Drop columns that are not features\n",
    "    X = df\n",
    "    # Encode labels to form y labels\n",
    "    y = le.transform(df.Type)\n",
    "\n",
    "    # Split dataset into training set and test set\n",
    "    X_tr, X_ts, y_train, y_test = train_test_split(X, y, test_size=0.3) # 70% training and 30% test\n",
    "    X_train = X_tr.drop(['Type','sourceid', 'RAdeg','DEdeg','ID'],axis='columns')\n",
    "    X_test = X_ts.drop(['Type','sourceid', 'RAdeg','DEdeg','ID'],axis='columns')\n",
    "    return X_train, X_test, y_train, y_test\n",
    "    "
   ]
  },
  {
   "cell_type": "code",
   "execution_count": 10,
   "id": "a568c68f",
   "metadata": {},
   "outputs": [],
   "source": [
    "\n",
    "from sklearn import metrics\n",
    "# from sklearn.metrics import confusion_matrix\n",
    "def oneVSall_classiffier(model,X_train, X_test, y_train, y_test):\n",
    "    \"\"\"\n",
    "    Train Classifier using train dataset. Calculate classifier metrics using test dataset\n",
    "    \"\"\"\n",
    "    #Train the model using the training sets y_pred=clf.predict(X_test)\n",
    "    clf.fit(X_train,y_train)\n",
    "\n",
    "    # Predict test data output\n",
    "    y_pred = clf.predict(X_test)\n",
    "    \n",
    "    # Estimate model accuracy on test data\n",
    "    accuracy = metrics.accuracy_score(y_test, y_pred)\n",
    "    confusion = metrics.confusion_matrix(y_test, y_pred)\n",
    "    precision = metrics.precision_score(y_test, y_pred)\n",
    "    recall = metrics.recall_score(y_test, y_pred)\n",
    "                                      \n",
    "    return clf, accuracy, precision, recall, confusion"
   ]
  },
  {
   "cell_type": "markdown",
   "id": "588e7eb9",
   "metadata": {},
   "source": [
    "## Train and Compare Classifiers"
   ]
  },
  {
   "cell_type": "code",
   "execution_count": 11,
   "id": "efa98587",
   "metadata": {},
   "outputs": [],
   "source": [
    "# list of classification methods\n",
    "from sklearn.ensemble import RandomForestClassifier\n",
    "from sklearn.tree import DecisionTreeClassifier\n",
    "from sklearn.linear_model import LogisticRegression\n",
    "from sklearn.naive_bayes import GaussianNB\n",
    "\n",
    "names = [\"Random Forest\", \"Decision Tree\", \"Logistic Regression\", \"Naive Bayes\"]\n",
    "\n",
    "classifiers = [\n",
    "    RandomForestClassifier(n_estimators=100),\n",
    "    DecisionTreeClassifier(criterion=\"gini\", max_depth=3),\n",
    "    LogisticRegression(max_iter = 500),\n",
    "    GaussianNB()]\n"
   ]
  },
  {
   "cell_type": "code",
   "execution_count": 12,
   "id": "3b633b74",
   "metadata": {},
   "outputs": [
    {
     "name": "stdout",
     "output_type": "stream",
     "text": [
      "Random Forest\n",
      "BYDra\n",
      "EW\n",
      "SR\n",
      "RSCVN\n",
      "RR\n",
      "DSCT\n",
      "EA\n",
      "RRc\n",
      "Mira\n",
      "CEP\n",
      "Decision Tree\n",
      "BYDra\n",
      "EW\n",
      "SR\n",
      "RSCVN\n",
      "RR\n",
      "DSCT\n",
      "EA\n",
      "RRc\n",
      "Mira\n",
      "CEP\n",
      "Logistic Regression\n",
      "BYDra\n"
     ]
    },
    {
     "name": "stderr",
     "output_type": "stream",
     "text": [
      "/opt/anaconda3/lib/python3.8/site-packages/sklearn/linear_model/_logistic.py:763: ConvergenceWarning: lbfgs failed to converge (status=1):\n",
      "STOP: TOTAL NO. of ITERATIONS REACHED LIMIT.\n",
      "\n",
      "Increase the number of iterations (max_iter) or scale the data as shown in:\n",
      "    https://scikit-learn.org/stable/modules/preprocessing.html\n",
      "Please also refer to the documentation for alternative solver options:\n",
      "    https://scikit-learn.org/stable/modules/linear_model.html#logistic-regression\n",
      "  n_iter_i = _check_optimize_result(\n"
     ]
    },
    {
     "name": "stdout",
     "output_type": "stream",
     "text": [
      "EW\n"
     ]
    },
    {
     "name": "stderr",
     "output_type": "stream",
     "text": [
      "/opt/anaconda3/lib/python3.8/site-packages/sklearn/linear_model/_logistic.py:763: ConvergenceWarning: lbfgs failed to converge (status=1):\n",
      "STOP: TOTAL NO. of ITERATIONS REACHED LIMIT.\n",
      "\n",
      "Increase the number of iterations (max_iter) or scale the data as shown in:\n",
      "    https://scikit-learn.org/stable/modules/preprocessing.html\n",
      "Please also refer to the documentation for alternative solver options:\n",
      "    https://scikit-learn.org/stable/modules/linear_model.html#logistic-regression\n",
      "  n_iter_i = _check_optimize_result(\n"
     ]
    },
    {
     "name": "stdout",
     "output_type": "stream",
     "text": [
      "SR\n"
     ]
    },
    {
     "name": "stderr",
     "output_type": "stream",
     "text": [
      "/opt/anaconda3/lib/python3.8/site-packages/sklearn/linear_model/_logistic.py:763: ConvergenceWarning: lbfgs failed to converge (status=1):\n",
      "STOP: TOTAL NO. of ITERATIONS REACHED LIMIT.\n",
      "\n",
      "Increase the number of iterations (max_iter) or scale the data as shown in:\n",
      "    https://scikit-learn.org/stable/modules/preprocessing.html\n",
      "Please also refer to the documentation for alternative solver options:\n",
      "    https://scikit-learn.org/stable/modules/linear_model.html#logistic-regression\n",
      "  n_iter_i = _check_optimize_result(\n"
     ]
    },
    {
     "name": "stdout",
     "output_type": "stream",
     "text": [
      "RSCVN\n",
      "RR\n"
     ]
    },
    {
     "name": "stderr",
     "output_type": "stream",
     "text": [
      "/opt/anaconda3/lib/python3.8/site-packages/sklearn/linear_model/_logistic.py:763: ConvergenceWarning: lbfgs failed to converge (status=1):\n",
      "STOP: TOTAL NO. of ITERATIONS REACHED LIMIT.\n",
      "\n",
      "Increase the number of iterations (max_iter) or scale the data as shown in:\n",
      "    https://scikit-learn.org/stable/modules/preprocessing.html\n",
      "Please also refer to the documentation for alternative solver options:\n",
      "    https://scikit-learn.org/stable/modules/linear_model.html#logistic-regression\n",
      "  n_iter_i = _check_optimize_result(\n"
     ]
    },
    {
     "name": "stdout",
     "output_type": "stream",
     "text": [
      "DSCT\n"
     ]
    },
    {
     "name": "stderr",
     "output_type": "stream",
     "text": [
      "/opt/anaconda3/lib/python3.8/site-packages/sklearn/linear_model/_logistic.py:763: ConvergenceWarning: lbfgs failed to converge (status=1):\n",
      "STOP: TOTAL NO. of ITERATIONS REACHED LIMIT.\n",
      "\n",
      "Increase the number of iterations (max_iter) or scale the data as shown in:\n",
      "    https://scikit-learn.org/stable/modules/preprocessing.html\n",
      "Please also refer to the documentation for alternative solver options:\n",
      "    https://scikit-learn.org/stable/modules/linear_model.html#logistic-regression\n",
      "  n_iter_i = _check_optimize_result(\n"
     ]
    },
    {
     "name": "stdout",
     "output_type": "stream",
     "text": [
      "EA\n"
     ]
    },
    {
     "name": "stderr",
     "output_type": "stream",
     "text": [
      "/opt/anaconda3/lib/python3.8/site-packages/sklearn/linear_model/_logistic.py:763: ConvergenceWarning: lbfgs failed to converge (status=1):\n",
      "STOP: TOTAL NO. of ITERATIONS REACHED LIMIT.\n",
      "\n",
      "Increase the number of iterations (max_iter) or scale the data as shown in:\n",
      "    https://scikit-learn.org/stable/modules/preprocessing.html\n",
      "Please also refer to the documentation for alternative solver options:\n",
      "    https://scikit-learn.org/stable/modules/linear_model.html#logistic-regression\n",
      "  n_iter_i = _check_optimize_result(\n"
     ]
    },
    {
     "name": "stdout",
     "output_type": "stream",
     "text": [
      "RRc\n"
     ]
    },
    {
     "name": "stderr",
     "output_type": "stream",
     "text": [
      "/opt/anaconda3/lib/python3.8/site-packages/sklearn/linear_model/_logistic.py:763: ConvergenceWarning: lbfgs failed to converge (status=1):\n",
      "STOP: TOTAL NO. of ITERATIONS REACHED LIMIT.\n",
      "\n",
      "Increase the number of iterations (max_iter) or scale the data as shown in:\n",
      "    https://scikit-learn.org/stable/modules/preprocessing.html\n",
      "Please also refer to the documentation for alternative solver options:\n",
      "    https://scikit-learn.org/stable/modules/linear_model.html#logistic-regression\n",
      "  n_iter_i = _check_optimize_result(\n"
     ]
    },
    {
     "name": "stdout",
     "output_type": "stream",
     "text": [
      "Mira\n"
     ]
    },
    {
     "name": "stderr",
     "output_type": "stream",
     "text": [
      "/opt/anaconda3/lib/python3.8/site-packages/sklearn/linear_model/_logistic.py:763: ConvergenceWarning: lbfgs failed to converge (status=1):\n",
      "STOP: TOTAL NO. of ITERATIONS REACHED LIMIT.\n",
      "\n",
      "Increase the number of iterations (max_iter) or scale the data as shown in:\n",
      "    https://scikit-learn.org/stable/modules/preprocessing.html\n",
      "Please also refer to the documentation for alternative solver options:\n",
      "    https://scikit-learn.org/stable/modules/linear_model.html#logistic-regression\n",
      "  n_iter_i = _check_optimize_result(\n"
     ]
    },
    {
     "name": "stdout",
     "output_type": "stream",
     "text": [
      "CEP\n"
     ]
    },
    {
     "name": "stderr",
     "output_type": "stream",
     "text": [
      "/opt/anaconda3/lib/python3.8/site-packages/sklearn/linear_model/_logistic.py:763: ConvergenceWarning: lbfgs failed to converge (status=1):\n",
      "STOP: TOTAL NO. of ITERATIONS REACHED LIMIT.\n",
      "\n",
      "Increase the number of iterations (max_iter) or scale the data as shown in:\n",
      "    https://scikit-learn.org/stable/modules/preprocessing.html\n",
      "Please also refer to the documentation for alternative solver options:\n",
      "    https://scikit-learn.org/stable/modules/linear_model.html#logistic-regression\n",
      "  n_iter_i = _check_optimize_result(\n"
     ]
    },
    {
     "name": "stdout",
     "output_type": "stream",
     "text": [
      "Naive Bayes\n",
      "BYDra\n",
      "EW\n",
      "SR\n",
      "RSCVN\n",
      "RR\n",
      "DSCT\n",
      "EA\n",
      "RRc\n",
      "Mira\n",
      "CEP\n"
     ]
    }
   ],
   "source": [
    "# Run loop to train all classifiers and collect metrics in a dataframe\n",
    "accuracy ={}\n",
    "precision = {}\n",
    "recall = {}\n",
    "confusion ={}\n",
    "\n",
    "# create comparision dataframe\n",
    "header = pd.MultiIndex.from_product([names,\n",
    "                                     ['accuracy','precision','recall']],\n",
    "                                    names=['clf','metric'])\n",
    "index_label = label\n",
    "pd_comparison = pd.DataFrame(data=None, index=index_label, columns=header, dtype=None, copy=False)\n",
    "\n",
    "# train models and collect metrics on test data\n",
    "for name, clf in zip(names, classifiers): # loop over different classifiers\n",
    "    print(name)\n",
    "    accuracy[name] = {}\n",
    "    precision[name] = {}\n",
    "    recall[name] = {}\n",
    "    confusion[name] ={}\n",
    "    for variable_type in label: #loop over different types of variable stars\n",
    "        print(variable_type)\n",
    "        df0, df_onevsall = multiple_to_2labels(df,variable_type)\n",
    "        X_train, X_test, y_train, y_test = preprocess_data(df0)\n",
    "        clf, accuracy[name][variable_type],precision[name][variable_type],recall[name][variable_type], confusion[name][variable_type] = oneVSall_classiffier(clf,X_train, X_test, y_train, y_test)\n",
    "    pd_comparison.loc[:,(name,'accuracy')] = list(accuracy[name].values())\n",
    "    pd_comparison.loc[:,(name,'precision')] = list(precision[name].values())\n",
    "    pd_comparison.loc[:,(name,'recall')] = list(recall[name].values())"
   ]
  },
  {
   "cell_type": "code",
   "execution_count": 13,
   "id": "e92cb23c",
   "metadata": {},
   "outputs": [
    {
     "data": {
      "text/html": [
       "<div>\n",
       "<style scoped>\n",
       "    .dataframe tbody tr th:only-of-type {\n",
       "        vertical-align: middle;\n",
       "    }\n",
       "\n",
       "    .dataframe tbody tr th {\n",
       "        vertical-align: top;\n",
       "    }\n",
       "\n",
       "    .dataframe thead tr th {\n",
       "        text-align: left;\n",
       "    }\n",
       "</style>\n",
       "<table border=\"1\" class=\"dataframe\">\n",
       "  <thead>\n",
       "    <tr>\n",
       "      <th>clf</th>\n",
       "      <th colspan=\"3\" halign=\"left\">Random Forest</th>\n",
       "      <th colspan=\"3\" halign=\"left\">Decision Tree</th>\n",
       "      <th colspan=\"3\" halign=\"left\">Logistic Regression</th>\n",
       "      <th colspan=\"3\" halign=\"left\">Naive Bayes</th>\n",
       "    </tr>\n",
       "    <tr>\n",
       "      <th>metric</th>\n",
       "      <th>accuracy</th>\n",
       "      <th>precision</th>\n",
       "      <th>recall</th>\n",
       "      <th>accuracy</th>\n",
       "      <th>precision</th>\n",
       "      <th>recall</th>\n",
       "      <th>accuracy</th>\n",
       "      <th>precision</th>\n",
       "      <th>recall</th>\n",
       "      <th>accuracy</th>\n",
       "      <th>precision</th>\n",
       "      <th>recall</th>\n",
       "    </tr>\n",
       "  </thead>\n",
       "  <tbody>\n",
       "    <tr>\n",
       "      <th>BYDra</th>\n",
       "      <td>0.909527</td>\n",
       "      <td>0.927767</td>\n",
       "      <td>0.975899</td>\n",
       "      <td>0.892171</td>\n",
       "      <td>0.892171</td>\n",
       "      <td>1.000000</td>\n",
       "      <td>0.887371</td>\n",
       "      <td>0.889466</td>\n",
       "      <td>0.997089</td>\n",
       "      <td>0.515879</td>\n",
       "      <td>0.992933</td>\n",
       "      <td>0.463123</td>\n",
       "    </tr>\n",
       "    <tr>\n",
       "      <th>EW</th>\n",
       "      <td>0.938700</td>\n",
       "      <td>0.943545</td>\n",
       "      <td>0.990468</td>\n",
       "      <td>0.897710</td>\n",
       "      <td>0.898042</td>\n",
       "      <td>0.999589</td>\n",
       "      <td>0.895864</td>\n",
       "      <td>0.905753</td>\n",
       "      <td>0.986397</td>\n",
       "      <td>0.302806</td>\n",
       "      <td>0.984645</td>\n",
       "      <td>0.214375</td>\n",
       "    </tr>\n",
       "    <tr>\n",
       "      <th>SR</th>\n",
       "      <td>0.949778</td>\n",
       "      <td>0.956522</td>\n",
       "      <td>0.456432</td>\n",
       "      <td>0.902142</td>\n",
       "      <td>0.462857</td>\n",
       "      <td>0.321429</td>\n",
       "      <td>0.937592</td>\n",
       "      <td>0.785714</td>\n",
       "      <td>0.441767</td>\n",
       "      <td>0.283235</td>\n",
       "      <td>0.089829</td>\n",
       "      <td>0.879070</td>\n",
       "    </tr>\n",
       "    <tr>\n",
       "      <th>RSCVN</th>\n",
       "      <td>0.904727</td>\n",
       "      <td>0.733333</td>\n",
       "      <td>0.220000</td>\n",
       "      <td>0.891064</td>\n",
       "      <td>0.609756</td>\n",
       "      <td>0.082237</td>\n",
       "      <td>0.892171</td>\n",
       "      <td>0.500000</td>\n",
       "      <td>0.051370</td>\n",
       "      <td>0.500369</td>\n",
       "      <td>0.181597</td>\n",
       "      <td>0.967532</td>\n",
       "    </tr>\n",
       "    <tr>\n",
       "      <th>RR</th>\n",
       "      <td>0.960118</td>\n",
       "      <td>0.863436</td>\n",
       "      <td>0.717949</td>\n",
       "      <td>0.932792</td>\n",
       "      <td>0.733591</td>\n",
       "      <td>0.627063</td>\n",
       "      <td>0.950517</td>\n",
       "      <td>0.790795</td>\n",
       "      <td>0.692308</td>\n",
       "      <td>0.706795</td>\n",
       "      <td>0.239109</td>\n",
       "      <td>0.968627</td>\n",
       "    </tr>\n",
       "    <tr>\n",
       "      <th>DSCT</th>\n",
       "      <td>0.922083</td>\n",
       "      <td>0.930577</td>\n",
       "      <td>0.986358</td>\n",
       "      <td>0.889586</td>\n",
       "      <td>0.894619</td>\n",
       "      <td>0.992949</td>\n",
       "      <td>0.890694</td>\n",
       "      <td>0.902411</td>\n",
       "      <td>0.982910</td>\n",
       "      <td>0.429468</td>\n",
       "      <td>0.983462</td>\n",
       "      <td>0.368291</td>\n",
       "    </tr>\n",
       "    <tr>\n",
       "      <th>EA</th>\n",
       "      <td>0.977843</td>\n",
       "      <td>0.987094</td>\n",
       "      <td>0.987917</td>\n",
       "      <td>0.969719</td>\n",
       "      <td>0.984480</td>\n",
       "      <td>0.981187</td>\n",
       "      <td>0.972304</td>\n",
       "      <td>0.981833</td>\n",
       "      <td>0.987132</td>\n",
       "      <td>0.436484</td>\n",
       "      <td>0.997709</td>\n",
       "      <td>0.363674</td>\n",
       "    </tr>\n",
       "    <tr>\n",
       "      <th>RRc</th>\n",
       "      <td>0.956425</td>\n",
       "      <td>0.893204</td>\n",
       "      <td>0.657143</td>\n",
       "      <td>0.937223</td>\n",
       "      <td>0.849315</td>\n",
       "      <td>0.455882</td>\n",
       "      <td>0.948671</td>\n",
       "      <td>0.791489</td>\n",
       "      <td>0.673913</td>\n",
       "      <td>0.665436</td>\n",
       "      <td>0.237043</td>\n",
       "      <td>0.972125</td>\n",
       "    </tr>\n",
       "    <tr>\n",
       "      <th>Mira</th>\n",
       "      <td>0.997046</td>\n",
       "      <td>0.998399</td>\n",
       "      <td>0.998399</td>\n",
       "      <td>0.996677</td>\n",
       "      <td>0.998801</td>\n",
       "      <td>0.997606</td>\n",
       "      <td>0.997046</td>\n",
       "      <td>0.998395</td>\n",
       "      <td>0.998395</td>\n",
       "      <td>0.983752</td>\n",
       "      <td>1.000000</td>\n",
       "      <td>0.982505</td>\n",
       "    </tr>\n",
       "    <tr>\n",
       "      <th>CEP</th>\n",
       "      <td>0.955687</td>\n",
       "      <td>0.959734</td>\n",
       "      <td>0.993123</td>\n",
       "      <td>0.919498</td>\n",
       "      <td>0.928436</td>\n",
       "      <td>0.988311</td>\n",
       "      <td>0.947194</td>\n",
       "      <td>0.956065</td>\n",
       "      <td>0.987947</td>\n",
       "      <td>0.501846</td>\n",
       "      <td>0.983747</td>\n",
       "      <td>0.463710</td>\n",
       "    </tr>\n",
       "  </tbody>\n",
       "</table>\n",
       "</div>"
      ],
      "text/plain": [
       "clf    Random Forest                     Decision Tree                      \\\n",
       "metric      accuracy precision    recall      accuracy precision    recall   \n",
       "BYDra       0.909527  0.927767  0.975899      0.892171  0.892171  1.000000   \n",
       "EW          0.938700  0.943545  0.990468      0.897710  0.898042  0.999589   \n",
       "SR          0.949778  0.956522  0.456432      0.902142  0.462857  0.321429   \n",
       "RSCVN       0.904727  0.733333  0.220000      0.891064  0.609756  0.082237   \n",
       "RR          0.960118  0.863436  0.717949      0.932792  0.733591  0.627063   \n",
       "DSCT        0.922083  0.930577  0.986358      0.889586  0.894619  0.992949   \n",
       "EA          0.977843  0.987094  0.987917      0.969719  0.984480  0.981187   \n",
       "RRc         0.956425  0.893204  0.657143      0.937223  0.849315  0.455882   \n",
       "Mira        0.997046  0.998399  0.998399      0.996677  0.998801  0.997606   \n",
       "CEP         0.955687  0.959734  0.993123      0.919498  0.928436  0.988311   \n",
       "\n",
       "clf    Logistic Regression                     Naive Bayes                      \n",
       "metric            accuracy precision    recall    accuracy precision    recall  \n",
       "BYDra             0.887371  0.889466  0.997089    0.515879  0.992933  0.463123  \n",
       "EW                0.895864  0.905753  0.986397    0.302806  0.984645  0.214375  \n",
       "SR                0.937592  0.785714  0.441767    0.283235  0.089829  0.879070  \n",
       "RSCVN             0.892171  0.500000  0.051370    0.500369  0.181597  0.967532  \n",
       "RR                0.950517  0.790795  0.692308    0.706795  0.239109  0.968627  \n",
       "DSCT              0.890694  0.902411  0.982910    0.429468  0.983462  0.368291  \n",
       "EA                0.972304  0.981833  0.987132    0.436484  0.997709  0.363674  \n",
       "RRc               0.948671  0.791489  0.673913    0.665436  0.237043  0.972125  \n",
       "Mira              0.997046  0.998395  0.998395    0.983752  1.000000  0.982505  \n",
       "CEP               0.947194  0.956065  0.987947    0.501846  0.983747  0.463710  "
      ]
     },
     "execution_count": 13,
     "metadata": {},
     "output_type": "execute_result"
    }
   ],
   "source": [
    "# print the comparision table\n",
    "pd_comparison.head(20)"
   ]
  },
  {
   "cell_type": "code",
   "execution_count": null,
   "id": "d2dcb5ae",
   "metadata": {},
   "outputs": [],
   "source": []
  }
 ],
 "metadata": {
  "kernelspec": {
   "display_name": "Python 3",
   "language": "python",
   "name": "python3"
  },
  "language_info": {
   "codemirror_mode": {
    "name": "ipython",
    "version": 3
   },
   "file_extension": ".py",
   "mimetype": "text/x-python",
   "name": "python",
   "nbconvert_exporter": "python",
   "pygments_lexer": "ipython3",
   "version": "3.8.5"
  }
 },
 "nbformat": 4,
 "nbformat_minor": 5
}
