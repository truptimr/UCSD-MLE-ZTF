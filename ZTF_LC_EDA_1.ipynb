{
 "cells": [
  {
   "cell_type": "markdown",
   "metadata": {},
   "source": [
    "# Download lightcurve data from ZTF dataset and plot it"
   ]
  },
  {
   "cell_type": "code",
   "execution_count": 8,
   "metadata": {},
   "outputs": [],
   "source": [
    "# Import packages and modules\n",
    "%matplotlib inline\n",
    "import pandas as pd\n",
    "import matplotlib.pyplot as plt"
   ]
  },
  {
   "cell_type": "markdown",
   "metadata": {},
   "source": [
    "## Light curve API Parameters\n",
    "Filter parameter description can be found at \n",
    "[API filters](https://irsa.ipac.caltech.edu/docs/program_interface/ztf_lightcurve_api.html)"
   ]
  },
  {
   "cell_type": "code",
   "execution_count": 9,
   "metadata": {},
   "outputs": [
    {
     "name": "stdout",
     "output_type": "stream",
     "text": [
      "https://irsa.ipac.caltech.edu/cgi-bin/ZTF/nph_light_curves?POS=CIRCLE+255.9302+11.8654+0.0028&BANDNAME=r&NOBS_MIN=3&TIME=58194.0+58483.0&BAD_CATFLAGS_MASK=32768&FORMAT=ipac_table\n"
     ]
    }
   ],
   "source": [
    "# specify API parameters to filter the data\n",
    "circle_ra = 255.9302 # right acession of the object in the sky\n",
    "circle_dec = 11.8654 # declination of  the object in  the sky\n",
    "circle_radius = 0.0028 # circle radius in degrees\n",
    "filter_band = \"r\" # observation filterm\n",
    "observation_nums_min = 3 # minimum number of observations\n",
    "time_range_start = 58194.0 # time in modified julian date\n",
    "time_range_end = 58483.0\n",
    "flag_mask = 32768\n",
    "table_format = \"ipac_table\"\n",
    "\n",
    "circle = \"POS=CIRCLE\"+\"+\"+str(circle_ra)+\"+\"+str(circle_dec)+\"+\"+str(circle_radius)\n",
    "band = \"BANDNAME=\"+ filter_band\n",
    "obs = \"NOBS_MIN=\"+str(observation_nums_min)\n",
    "time_range = \"TIME=\" + str(time_range_start)+ \"+\" + str(time_range_end)\n",
    "mask = \"BAD_CATFLAGS_MASK=\" + str(flag_mask)\n",
    "table_format = \"FORMAT=\" + str(table_format)\n",
    "params = circle+ \"&\" + band + \"&\" + obs + \"&\" + time_range + \"&\" + mask + \"&\" + table_format\n",
    "\n",
    "url= \"https://irsa.ipac.caltech.edu/cgi-bin/ZTF/nph_light_curves?\" + params\n",
    "print(url)"
   ]
  },
  {
   "cell_type": "code",
   "execution_count": 10,
   "metadata": {},
   "outputs": [
    {
     "data": {
      "text/plain": [
       "Index(['oid', 'expid', 'hjd', 'mjd', 'mag', 'magerr', 'catflags', 'filtercode',\n",
       "       'ra', 'dec', 'chi', 'sharp', 'filefracday', 'field', 'ccdid', 'qid',\n",
       "       'limitmag', 'magzp', 'magzprms', 'clrcoeff', 'clrcounc', 'exptime',\n",
       "       'airmass', 'programid'],\n",
       "      dtype='object', name=0)"
      ]
     },
     "execution_count": 10,
     "metadata": {},
     "output_type": "execute_result"
    }
   ],
   "source": [
    "# download data in a pandas dataframe\n",
    "header = pd.read_csv(url, header=None, sep='|', skiprows=50,usecols=range(1,25), nrows=1) # extract column names\n",
    "data = pd.read_csv(url, header=None, delim_whitespace=True, skiprows=55) # extract data\n",
    "data.columns = header.iloc[0].str.strip()\n",
    "data.columns"
   ]
  },
  {
   "cell_type": "markdown",
   "metadata": {},
   "source": [
    "# Explanation of columm fields\n",
    "1. **oid** Object ID\n",
    "1. **expid** Exposure ID\n",
    "1. **hjd (d)** Heliocentric Julian Date of the midpoint of the exposure (using the mean ra and dec of the input catalog)\n",
    "1. **mjd (d)** Modified Julian Date of the start of the exposure\n",
    "1. **mag (mag)** Magnitude\n",
    "1. **magerr (mag)** Uncertainty in mag measurement. Includes correction to conform to photometric repeatability RMS derived from \"non-variable\" population.\n",
    "1. **catflags** Catalog flags for source from PSF-fitting catalog\n",
    "1. **filtercode** Filter code (abbreviated name)\n",
    "1. **ra (deg)** Right Ascension of source\n",
    "1. **dec (deg)** Declination of source\n",
    "1. **chi** Chi-squared of source\n",
    "1. **sharp** Sharpness of source\n",
    "1. **filefracday** Exposure file timestamp, with decimal representation YYYYMMDDdddddd: year, month, day, and fractional day\n",
    "1. **field** Field ID\n",
    "1. **ccdid CCD** number (1..16)\n",
    "1. **qid** Quadrant ID (1..4)\n",
    "1. **limitmag (mag)** Approximate 5-sigma limiting magnitude corresponding to epoch-based PSF-fit catalog\n",
    "1.  **magzp (mag)** Magnitude zeropoint from photometric calibration\n",
    "1. **magzprms (mag)** RMS deviation in magnitude zeropoint\n",
    "1. **clrcoeff** Color coefficient from linear fit\n",
    "1. **clrcounc** Color coefficient uncertainty from linear fit\n",
    "1. **exptime (s)** Exposure time from scheduler\n",
    "1. **airmass** Airmass at approximately the center of the focal plane at time of exposure\n",
    "1. **programid** Program ID"
   ]
  },
  {
   "cell_type": "code",
   "execution_count": 26,
   "metadata": {},
   "outputs": [],
   "source": [
    "# unique objects in the dataset\n",
    "oid_unique = data.oid.unique()\n"
   ]
  },
  {
   "cell_type": "code",
   "execution_count": 29,
   "metadata": {},
   "outputs": [],
   "source": [
    "data_obj1 = data.loc[data[\"oid\"] == oid_unique[0]]\n",
    "data_obj2 = data.loc[data[\"oid\"] == oid_unique[1]]"
   ]
  },
  {
   "cell_type": "code",
   "execution_count": 34,
   "metadata": {},
   "outputs": [
    {
     "data": {
      "image/png": "[encoded data removed]",
      "text/plain": [
       "<Figure size 432x288 with 1 Axes>"
      ]
     },
     "metadata": {
      "needs_background": "light"
     },
     "output_type": "display_data"
    }
   ],
   "source": [
    "plt.plot(data_obj1['mjd'],data_obj1['mag'],'.',color='b',label = 'object 1')\n",
    "plt.plot(data_obj2['mjd'],data_obj2['mag'],'.',color='r',label = 'object 2')\n",
    "plt.xlabel('time in mjd')\n",
    "plt.ylabel('magnitude')\n",
    "plt.title('observations as a function of time in mjd (time series)')\n",
    "plt.show()"
   ]
  },
  {
   "cell_type": "markdown",
   "metadata": {},
   "source": [
    "## Download another dataset \n",
    "To make Ensure data format is consistent"
   ]
  },
  {
   "cell_type": "code",
   "execution_count": 36,
   "metadata": {},
   "outputs": [
    {
     "data": {
      "text/html": [
       "<div>\n",
       "<style scoped>\n",
       "    .dataframe tbody tr th:only-of-type {\n",
       "        vertical-align: middle;\n",
       "    }\n",
       "\n",
       "    .dataframe tbody tr th {\n",
       "        vertical-align: top;\n",
       "    }\n",
       "\n",
       "    .dataframe thead th {\n",
       "        text-align: right;\n",
       "    }\n",
       "</style>\n",
       "<table border=\"1\" class=\"dataframe\">\n",
       "  <thead>\n",
       "    <tr style=\"text-align: right;\">\n",
       "      <th></th>\n",
       "      <th>oid</th>\n",
       "      <th>expid</th>\n",
       "      <th>hjd</th>\n",
       "      <th>mjd</th>\n",
       "      <th>mag</th>\n",
       "      <th>magerr</th>\n",
       "      <th>catflags</th>\n",
       "      <th>filtercode</th>\n",
       "      <th>ra</th>\n",
       "      <th>dec</th>\n",
       "      <th>...</th>\n",
       "      <th>ccdid</th>\n",
       "      <th>qid</th>\n",
       "      <th>limitmag</th>\n",
       "      <th>magzp</th>\n",
       "      <th>magzprms</th>\n",
       "      <th>clrcoeff</th>\n",
       "      <th>clrcounc</th>\n",
       "      <th>exptime</th>\n",
       "      <th>airmass</th>\n",
       "      <th>programid</th>\n",
       "    </tr>\n",
       "  </thead>\n",
       "  <tbody>\n",
       "    <tr>\n",
       "      <th>0</th>\n",
       "      <td>686103400034440</td>\n",
       "      <td>45151402</td>\n",
       "      <td>2.458206e+06</td>\n",
       "      <td>58205.514028</td>\n",
       "      <td>17.660419</td>\n",
       "      <td>0.031985</td>\n",
       "      <td>0</td>\n",
       "      <td>zg</td>\n",
       "      <td>298.002555</td>\n",
       "      <td>29.871463</td>\n",
       "      <td>...</td>\n",
       "      <td>3</td>\n",
       "      <td>4</td>\n",
       "      <td>20.969999</td>\n",
       "      <td>26.307392</td>\n",
       "      <td>0.018130</td>\n",
       "      <td>-0.060876</td>\n",
       "      <td>0.000006</td>\n",
       "      <td>30</td>\n",
       "      <td>1.247</td>\n",
       "      <td>1</td>\n",
       "    </tr>\n",
       "    <tr>\n",
       "      <th>1</th>\n",
       "      <td>686103400034440</td>\n",
       "      <td>45251668</td>\n",
       "      <td>2.458207e+06</td>\n",
       "      <td>58206.516690</td>\n",
       "      <td>17.659370</td>\n",
       "      <td>0.031974</td>\n",
       "      <td>0</td>\n",
       "      <td>zg</td>\n",
       "      <td>298.002536</td>\n",
       "      <td>29.871453</td>\n",
       "      <td>...</td>\n",
       "      <td>3</td>\n",
       "      <td>4</td>\n",
       "      <td>20.389999</td>\n",
       "      <td>26.109283</td>\n",
       "      <td>0.018583</td>\n",
       "      <td>-0.060469</td>\n",
       "      <td>0.000006</td>\n",
       "      <td>30</td>\n",
       "      <td>1.222</td>\n",
       "      <td>1</td>\n",
       "    </tr>\n",
       "    <tr>\n",
       "      <th>2</th>\n",
       "      <td>686103400034440</td>\n",
       "      <td>45252553</td>\n",
       "      <td>2.458207e+06</td>\n",
       "      <td>58206.525532</td>\n",
       "      <td>17.648050</td>\n",
       "      <td>0.031864</td>\n",
       "      <td>0</td>\n",
       "      <td>zg</td>\n",
       "      <td>298.002556</td>\n",
       "      <td>29.871470</td>\n",
       "      <td>...</td>\n",
       "      <td>3</td>\n",
       "      <td>4</td>\n",
       "      <td>20.740000</td>\n",
       "      <td>26.333904</td>\n",
       "      <td>0.017060</td>\n",
       "      <td>-0.061754</td>\n",
       "      <td>0.000006</td>\n",
       "      <td>30</td>\n",
       "      <td>1.186</td>\n",
       "      <td>1</td>\n",
       "    </tr>\n",
       "    <tr>\n",
       "      <th>3</th>\n",
       "      <td>686103400034440</td>\n",
       "      <td>45350884</td>\n",
       "      <td>2.458208e+06</td>\n",
       "      <td>58207.508843</td>\n",
       "      <td>17.632879</td>\n",
       "      <td>0.031717</td>\n",
       "      <td>0</td>\n",
       "      <td>zg</td>\n",
       "      <td>298.002551</td>\n",
       "      <td>29.871461</td>\n",
       "      <td>...</td>\n",
       "      <td>3</td>\n",
       "      <td>4</td>\n",
       "      <td>20.170000</td>\n",
       "      <td>26.335695</td>\n",
       "      <td>0.022384</td>\n",
       "      <td>-0.048380</td>\n",
       "      <td>0.000009</td>\n",
       "      <td>30</td>\n",
       "      <td>1.246</td>\n",
       "      <td>1</td>\n",
       "    </tr>\n",
       "    <tr>\n",
       "      <th>4</th>\n",
       "      <td>686103400034440</td>\n",
       "      <td>45451219</td>\n",
       "      <td>2.458209e+06</td>\n",
       "      <td>58208.512199</td>\n",
       "      <td>17.488995</td>\n",
       "      <td>0.030411</td>\n",
       "      <td>0</td>\n",
       "      <td>zg</td>\n",
       "      <td>298.002535</td>\n",
       "      <td>29.871479</td>\n",
       "      <td>...</td>\n",
       "      <td>3</td>\n",
       "      <td>4</td>\n",
       "      <td>19.260000</td>\n",
       "      <td>26.036299</td>\n",
       "      <td>0.033959</td>\n",
       "      <td>-0.007886</td>\n",
       "      <td>0.000020</td>\n",
       "      <td>30</td>\n",
       "      <td>1.218</td>\n",
       "      <td>1</td>\n",
       "    </tr>\n",
       "  </tbody>\n",
       "</table>\n",
       "<p>5 rows × 24 columns</p>\n",
       "</div>"
      ],
      "text/plain": [
       "0              oid     expid           hjd           mjd        mag    magerr  \\\n",
       "0  686103400034440  45151402  2.458206e+06  58205.514028  17.660419  0.031985   \n",
       "1  686103400034440  45251668  2.458207e+06  58206.516690  17.659370  0.031974   \n",
       "2  686103400034440  45252553  2.458207e+06  58206.525532  17.648050  0.031864   \n",
       "3  686103400034440  45350884  2.458208e+06  58207.508843  17.632879  0.031717   \n",
       "4  686103400034440  45451219  2.458209e+06  58208.512199  17.488995  0.030411   \n",
       "\n",
       "0  catflags filtercode          ra        dec  ...  ccdid  qid   limitmag  \\\n",
       "0         0         zg  298.002555  29.871463  ...      3    4  20.969999   \n",
       "1         0         zg  298.002536  29.871453  ...      3    4  20.389999   \n",
       "2         0         zg  298.002556  29.871470  ...      3    4  20.740000   \n",
       "3         0         zg  298.002551  29.871461  ...      3    4  20.170000   \n",
       "4         0         zg  298.002535  29.871479  ...      3    4  19.260000   \n",
       "\n",
       "0      magzp  magzprms  clrcoeff  clrcounc  exptime  airmass  programid  \n",
       "0  26.307392  0.018130 -0.060876  0.000006       30    1.247          1  \n",
       "1  26.109283  0.018583 -0.060469  0.000006       30    1.222          1  \n",
       "2  26.333904  0.017060 -0.061754  0.000006       30    1.186          1  \n",
       "3  26.335695  0.022384 -0.048380  0.000009       30    1.246          1  \n",
       "4  26.036299  0.033959 -0.007886  0.000020       30    1.218          1  \n",
       "\n",
       "[5 rows x 24 columns]"
      ]
     },
     "execution_count": 36,
     "metadata": {},
     "output_type": "execute_result"
    }
   ],
   "source": [
    "# explore another section of the dataset\n",
    "url = 'https://irsa.ipac.caltech.edu/cgi-bin/ZTF/nph_light_curves?ID=686103400034440&ID=686103400106565&BAD_CATFLAGS_MASK=32768&FORMAT=ipac_table'\n",
    "# header = pd.read_csv(url, header=None, sep='|', skiprows=50,usecols=range(1,25), nrows=1) # extract column names\n",
    "data2 = pd.read_csv(url, header=None, delim_whitespace=True, skiprows=55) # extract data\n",
    "data2.columns = header.iloc[0].str.strip()\n",
    "data2.head(10)"
   ]
  },
  {
   "cell_type": "code",
   "execution_count": null,
   "metadata": {},
   "outputs": [],
   "source": []
  }
 ],
 "metadata": {
  "kernelspec": {
   "display_name": "Python 3",
   "language": "python",
   "name": "python3"
  },
  "language_info": {
   "codemirror_mode": {
    "name": "ipython",
    "version": 3
   },
   "file_extension": ".py",
   "mimetype": "text/x-python",
   "name": "python",
   "nbconvert_exporter": "python",
   "pygments_lexer": "ipython3",
   "version": "3.8.5"
  }
 },
 "nbformat": 4,
 "nbformat_minor": 4
}
