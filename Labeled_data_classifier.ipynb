{
 "cells": [
  {
   "cell_type": "markdown",
   "id": "494b9951",
   "metadata": {},
   "source": [
    "# Import modules"
   ]
  },
  {
   "cell_type": "code",
   "execution_count": 1,
   "id": "5337e9e8",
   "metadata": {},
   "outputs": [],
   "source": [
    "%matplotlib inline\n",
    "import pandas as pd\n",
    "import matplotlib.pyplot as plt\n",
    "import numpy as np"
   ]
  },
  {
   "cell_type": "markdown",
   "id": "a0ab4fac",
   "metadata": {},
   "source": [
    "# Import Labeled Data set"
   ]
  },
  {
   "cell_type": "code",
   "execution_count": 2,
   "id": "0e7afc4b",
   "metadata": {},
   "outputs": [],
   "source": [
    "widths = (8,7,4,13,43)\n",
    "header_pd = pd.read_fwf('Labeled_data.txt', widths = widths,skiprows=7, nrows=27)\n",
    "labeled_data = pd.read_csv('Labeled_data.txt', header=None, delim_whitespace=True, skiprows=37) # extract data\n",
    "labeled_data.columns = header_pd.iloc[:,3]\n",
    "label = labeled_data.Type.unique()"
   ]
  },
  {
   "cell_type": "code",
   "execution_count": 3,
   "id": "36599de9",
   "metadata": {},
   "outputs": [
    {
     "data": {
      "text/html": [
       "<div>\n",
       "<style scoped>\n",
       "    .dataframe tbody tr th:only-of-type {\n",
       "        vertical-align: middle;\n",
       "    }\n",
       "\n",
       "    .dataframe tbody tr th {\n",
       "        vertical-align: top;\n",
       "    }\n",
       "\n",
       "    .dataframe thead th {\n",
       "        text-align: right;\n",
       "    }\n",
       "</style>\n",
       "<table border=\"1\" class=\"dataframe\">\n",
       "  <thead>\n",
       "    <tr style=\"text-align: right;\">\n",
       "      <th>-------------</th>\n",
       "      <th>ID</th>\n",
       "      <th>SourceID</th>\n",
       "      <th>RAdeg</th>\n",
       "      <th>DEdeg</th>\n",
       "      <th>Per</th>\n",
       "      <th>R21</th>\n",
       "      <th>phi21</th>\n",
       "      <th>T0</th>\n",
       "      <th>gmag</th>\n",
       "      <th>rmag</th>\n",
       "      <th>...</th>\n",
       "      <th>phi21_r</th>\n",
       "      <th>R2_g</th>\n",
       "      <th>R2_r</th>\n",
       "      <th>Amp_g</th>\n",
       "      <th>Amp_r</th>\n",
       "      <th>log(FAP_g)</th>\n",
       "      <th>log(FAP_r)</th>\n",
       "      <th>Type</th>\n",
       "      <th>Dmin_g</th>\n",
       "      <th>Dmin_r</th>\n",
       "    </tr>\n",
       "  </thead>\n",
       "  <tbody>\n",
       "    <tr>\n",
       "      <th>0</th>\n",
       "      <td>ZTFJ000000.14+721413.7</td>\n",
       "      <td>2</td>\n",
       "      <td>0.00061</td>\n",
       "      <td>72.23716</td>\n",
       "      <td>0.299150</td>\n",
       "      <td>0.263</td>\n",
       "      <td>6.308</td>\n",
       "      <td>58388.255579</td>\n",
       "      <td>19.613</td>\n",
       "      <td>18.804</td>\n",
       "      <td>...</td>\n",
       "      <td>6.308</td>\n",
       "      <td>0.624</td>\n",
       "      <td>0.873</td>\n",
       "      <td>0.540</td>\n",
       "      <td>0.438</td>\n",
       "      <td>-13.490</td>\n",
       "      <td>-27.331</td>\n",
       "      <td>EW</td>\n",
       "      <td>0.190</td>\n",
       "      <td>0.078</td>\n",
       "    </tr>\n",
       "    <tr>\n",
       "      <th>1</th>\n",
       "      <td>ZTFJ000000.19+320847.2</td>\n",
       "      <td>3</td>\n",
       "      <td>0.00080</td>\n",
       "      <td>32.14645</td>\n",
       "      <td>0.287059</td>\n",
       "      <td>0.010</td>\n",
       "      <td>8.024</td>\n",
       "      <td>58280.478081</td>\n",
       "      <td>15.311</td>\n",
       "      <td>14.610</td>\n",
       "      <td>...</td>\n",
       "      <td>8.024</td>\n",
       "      <td>0.940</td>\n",
       "      <td>0.977</td>\n",
       "      <td>0.219</td>\n",
       "      <td>0.197</td>\n",
       "      <td>-7.506</td>\n",
       "      <td>-10.079</td>\n",
       "      <td>EW</td>\n",
       "      <td>0.020</td>\n",
       "      <td>0.017</td>\n",
       "    </tr>\n",
       "    <tr>\n",
       "      <th>2</th>\n",
       "      <td>ZTFJ000000.26+311206.3</td>\n",
       "      <td>4</td>\n",
       "      <td>0.00109</td>\n",
       "      <td>31.20176</td>\n",
       "      <td>0.362217</td>\n",
       "      <td>0.132</td>\n",
       "      <td>6.281</td>\n",
       "      <td>58283.461994</td>\n",
       "      <td>16.350</td>\n",
       "      <td>15.844</td>\n",
       "      <td>...</td>\n",
       "      <td>6.281</td>\n",
       "      <td>0.951</td>\n",
       "      <td>0.960</td>\n",
       "      <td>0.233</td>\n",
       "      <td>0.226</td>\n",
       "      <td>-7.830</td>\n",
       "      <td>-9.245</td>\n",
       "      <td>EW</td>\n",
       "      <td>0.013</td>\n",
       "      <td>0.020</td>\n",
       "    </tr>\n",
       "    <tr>\n",
       "      <th>3</th>\n",
       "      <td>ZTFJ000000.30+711634.1</td>\n",
       "      <td>5</td>\n",
       "      <td>0.00125</td>\n",
       "      <td>71.27616</td>\n",
       "      <td>0.268515</td>\n",
       "      <td>0.160</td>\n",
       "      <td>5.236</td>\n",
       "      <td>58657.423517</td>\n",
       "      <td>19.144</td>\n",
       "      <td>17.875</td>\n",
       "      <td>...</td>\n",
       "      <td>5.236</td>\n",
       "      <td>0.363</td>\n",
       "      <td>0.623</td>\n",
       "      <td>0.173</td>\n",
       "      <td>0.154</td>\n",
       "      <td>-9.865</td>\n",
       "      <td>-22.037</td>\n",
       "      <td>EW</td>\n",
       "      <td>0.000</td>\n",
       "      <td>0.005</td>\n",
       "    </tr>\n",
       "    <tr>\n",
       "      <th>4</th>\n",
       "      <td>ZTFJ000000.30+233400.5</td>\n",
       "      <td>6</td>\n",
       "      <td>0.00125</td>\n",
       "      <td>23.56682</td>\n",
       "      <td>0.269874</td>\n",
       "      <td>0.193</td>\n",
       "      <td>6.302</td>\n",
       "      <td>58437.268664</td>\n",
       "      <td>17.890</td>\n",
       "      <td>16.944</td>\n",
       "      <td>...</td>\n",
       "      <td>6.302</td>\n",
       "      <td>0.910</td>\n",
       "      <td>0.976</td>\n",
       "      <td>0.373</td>\n",
       "      <td>0.352</td>\n",
       "      <td>-7.075</td>\n",
       "      <td>-8.819</td>\n",
       "      <td>EW</td>\n",
       "      <td>0.098</td>\n",
       "      <td>0.034</td>\n",
       "    </tr>\n",
       "  </tbody>\n",
       "</table>\n",
       "<p>5 rows × 27 columns</p>\n",
       "</div>"
      ],
      "text/plain": [
       "-------------                      ID  SourceID    RAdeg     DEdeg       Per  \\\n",
       "0              ZTFJ000000.14+721413.7         2  0.00061  72.23716  0.299150   \n",
       "1              ZTFJ000000.19+320847.2         3  0.00080  32.14645  0.287059   \n",
       "2              ZTFJ000000.26+311206.3         4  0.00109  31.20176  0.362217   \n",
       "3              ZTFJ000000.30+711634.1         5  0.00125  71.27616  0.268515   \n",
       "4              ZTFJ000000.30+233400.5         6  0.00125  23.56682  0.269874   \n",
       "\n",
       "-------------    R21  phi21            T0    gmag    rmag  ...  phi21_r  \\\n",
       "0              0.263  6.308  58388.255579  19.613  18.804  ...    6.308   \n",
       "1              0.010  8.024  58280.478081  15.311  14.610  ...    8.024   \n",
       "2              0.132  6.281  58283.461994  16.350  15.844  ...    6.281   \n",
       "3              0.160  5.236  58657.423517  19.144  17.875  ...    5.236   \n",
       "4              0.193  6.302  58437.268664  17.890  16.944  ...    6.302   \n",
       "\n",
       "-------------   R2_g   R2_r  Amp_g  Amp_r  log(FAP_g)  log(FAP_r)  Type  \\\n",
       "0              0.624  0.873  0.540  0.438     -13.490     -27.331    EW   \n",
       "1              0.940  0.977  0.219  0.197      -7.506     -10.079    EW   \n",
       "2              0.951  0.960  0.233  0.226      -7.830      -9.245    EW   \n",
       "3              0.363  0.623  0.173  0.154      -9.865     -22.037    EW   \n",
       "4              0.910  0.976  0.373  0.352      -7.075      -8.819    EW   \n",
       "\n",
       "-------------  Dmin_g  Dmin_r  \n",
       "0               0.190   0.078  \n",
       "1               0.020   0.017  \n",
       "2               0.013   0.020  \n",
       "3               0.000   0.005  \n",
       "4               0.098   0.034  \n",
       "\n",
       "[5 rows x 27 columns]"
      ]
     },
     "execution_count": 3,
     "metadata": {},
     "output_type": "execute_result"
    }
   ],
   "source": [
    "labeled_data.head()"
   ]
  },
  {
   "cell_type": "markdown",
   "id": "272a01b1",
   "metadata": {},
   "source": [
    "# Split into training and test data"
   ]
  },
  {
   "cell_type": "code",
   "execution_count": 4,
   "id": "2b75601b",
   "metadata": {},
   "outputs": [],
   "source": [
    "from sklearn import preprocessing\n",
    "from sklearn.model_selection import train_test_split\n",
    "\n",
    "# Map string labels to numbers\n",
    "le = preprocessing.LabelEncoder()\n",
    "le.fit(label)\n",
    "\n",
    "# Drop columns that are not features\n",
    "X = labeled_data.drop(['Type','ID','SourceID', 'RAdeg','DEdeg'],axis='columns')\n",
    "# Encode labels to form y labels\n",
    "y = le.transform(labeled_data.Type)\n",
    "\n",
    "# Split dataset into training set and test set\n",
    "X_train, X_test, y_train, y_test = train_test_split(X, y, test_size=0.3) # 70% training and 30% test"
   ]
  },
  {
   "cell_type": "markdown",
   "id": "52fe4dd9",
   "metadata": {},
   "source": [
    "# Train a simple Random Forest estimator"
   ]
  },
  {
   "cell_type": "code",
   "execution_count": 5,
   "id": "4e7e9e90",
   "metadata": {},
   "outputs": [
    {
     "name": "stdout",
     "output_type": "stream",
     "text": [
      "Accuracy: 0.9355939287191712\n"
     ]
    }
   ],
   "source": [
    "#Import Random Forest Model\n",
    "from sklearn.ensemble import RandomForestClassifier\n",
    "from sklearn import metrics\n",
    "\n",
    "#Create a Gaussian Classifier\n",
    "clf=RandomForestClassifier(n_estimators=100)\n",
    "\n",
    "#Train the model using the training sets y_pred=clf.predict(X_test)\n",
    "clf.fit(X_train,y_train)\n",
    "\n",
    "# Predict test data output\n",
    "y_pred=clf.predict(X_test)\n",
    "\n",
    "# Estimate model accuracy\n",
    "print(\"Accuracy:\",metrics.accuracy_score(y_test, y_pred))"
   ]
  },
  {
   "cell_type": "markdown",
   "id": "beb4ba73",
   "metadata": {},
   "source": [
    "# Visualize Feature importance"
   ]
  },
  {
   "cell_type": "code",
   "execution_count": 6,
   "id": "ada10f9f",
   "metadata": {},
   "outputs": [
    {
     "data": {
      "text/plain": [
       "-------------\n",
       "Dmin_r        0.160408\n",
       "Per           0.136470\n",
       "Per_r         0.126535\n",
       "Dmin_g        0.103965\n",
       "R21           0.060927\n",
       "Per_g         0.057392\n",
       "Amp_r         0.051201\n",
       "R21_r         0.049830\n",
       "Amp_g         0.040010\n",
       "phi21_r       0.029277\n",
       "R2_g          0.025612\n",
       "R2_r          0.023288\n",
       "R21_g         0.021823\n",
       "phi21         0.019534\n",
       "phi21_g       0.016055\n",
       "rmag          0.015162\n",
       "Num_g         0.013667\n",
       "gmag          0.012041\n",
       "log(FAP_r)    0.010516\n",
       "log(FAP_g)    0.010181\n",
       "Num_r         0.008952\n",
       "T0            0.007153\n",
       "dtype: float64"
      ]
     },
     "execution_count": 6,
     "metadata": {},
     "output_type": "execute_result"
    }
   ],
   "source": [
    "# feature importance\n",
    "feature_imp = pd.Series(clf.feature_importances_,index=X.columns).sort_values(ascending=False)\n",
    "feature_imp"
   ]
  },
  {
   "cell_type": "code",
   "execution_count": 7,
   "id": "24543ac0",
   "metadata": {
    "scrolled": true
   },
   "outputs": [
    {
     "name": "stderr",
     "output_type": "stream",
     "text": [
      "No handles with labels found to put in legend.\n"
     ]
    },
    {
     "data": {
      "image/png": "[encoded data removed]",
      "text/plain": [
       "<Figure size 432x288 with 1 Axes>"
      ]
     },
     "metadata": {
      "needs_background": "light"
     },
     "output_type": "display_data"
    }
   ],
   "source": [
    "import seaborn as sns\n",
    "\n",
    "# Creating a bar plot\n",
    "sns.barplot(x=feature_imp, y=feature_imp.index)\n",
    "# Add labels to your graph\n",
    "plt.xlabel('Feature Importance Score')\n",
    "plt.ylabel('Features')\n",
    "plt.title(\"Visualizing Important Features\")\n",
    "plt.legend()\n",
    "plt.show()"
   ]
  },
  {
   "cell_type": "markdown",
   "id": "ca19f7a7",
   "metadata": {},
   "source": [
    "# Plot location of test data"
   ]
  },
  {
   "cell_type": "code",
   "execution_count": null,
   "id": "a7663057",
   "metadata": {},
   "outputs": [],
   "source": [
    "# import astropy.coordinates as coord\n",
    "# import astropy.units as u\n",
    "\n",
    "# ra = coord.Angle(labeled_data.RAdeg[1:700000:7000], unit=u.degree)\n",
    "\n",
    "# ra = ra.wrap_at(180*u.degree)\n",
    "# dec = coord.Angle(labeled_data.DEdeg[1:700000:7000], unit=u.degree)\n",
    "\n",
    "# fig = plt.figure(figsize=(8,6))\n",
    "# ax = fig.add_subplot(111, projection=\"mollweide\")\n",
    "# ax.scatter(ra.radian, dec.radian)"
   ]
  }
 ],
 "metadata": {
  "kernelspec": {
   "display_name": "Python 3",
   "language": "python",
   "name": "python3"
  },
  "language_info": {
   "codemirror_mode": {
    "name": "ipython",
    "version": 3
   },
   "file_extension": ".py",
   "mimetype": "text/x-python",
   "name": "python",
   "nbconvert_exporter": "python",
   "pygments_lexer": "ipython3",
   "version": "3.8.5"
  }
 },
 "nbformat": 4,
 "nbformat_minor": 5
}
