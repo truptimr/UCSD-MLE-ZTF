{
 "cells": [
  {
   "cell_type": "markdown",
   "id": "d2436235",
   "metadata": {},
   "source": [
    "# Description\n",
    "This notebook develops a classifier for variable stars detected with ZTF. The data is downloded from following url http://variables.cn:88/ztf/ \n",
    "The data is contains 23 features processed from the ZTF light curves and corresponding variable type label. The data contains 781,602 labled periodic variables. \n",
    "The notebook demonstrates the use of a simple random forest classifer for the Labeled data set."
   ]
  },
  {
   "cell_type": "markdown",
   "id": "494b9951",
   "metadata": {},
   "source": [
    "## Import modules"
   ]
  },
  {
   "cell_type": "code",
   "execution_count": 1,
   "id": "5337e9e8",
   "metadata": {},
   "outputs": [],
   "source": [
    "%matplotlib inline\n",
    "import pandas as pd\n",
    "import matplotlib.pyplot as plt\n",
    "import numpy as np"
   ]
  },
  {
   "cell_type": "markdown",
   "id": "a0ab4fac",
   "metadata": {},
   "source": [
    "## Import Labeled Data set"
   ]
  },
  {
   "cell_type": "code",
   "execution_count": 2,
   "id": "0e7afc4b",
   "metadata": {},
   "outputs": [],
   "source": [
    "widths = (8,7,4,13,43)\n",
    "header_pd = pd.read_fwf('../databases/Labeled_data.txt', widths = widths,skiprows=7, nrows=27)\n",
    "labeled_data = pd.read_csv('../databases/Labeled_data.txt', header=None, delim_whitespace=True, skiprows=37) # extract data\n",
    "labeled_data.columns = header_pd.iloc[:,3]"
   ]
  },
  {
   "cell_type": "code",
   "execution_count": 3,
   "id": "36599de9",
   "metadata": {},
   "outputs": [],
   "source": [
    "label = labeled_data.Type.unique()"
   ]
  },
  {
   "cell_type": "markdown",
   "id": "1ff2503e",
   "metadata": {},
   "source": [
    "## Variable Type Distribution in the data"
   ]
  },
  {
   "cell_type": "code",
   "execution_count": 4,
   "id": "b3cca185",
   "metadata": {},
   "outputs": [
    {
     "data": {
      "text/plain": [
       "<AxesSubplot:xlabel='Type', ylabel='Count'>"
      ]
     },
     "execution_count": 4,
     "metadata": {},
     "output_type": "execute_result"
    },
    {
     "data": {
      "image/png": "[encoded data removed]",
      "text/plain": [
       "<Figure size 432x288 with 1 Axes>"
      ]
     },
     "metadata": {
      "needs_background": "light"
     },
     "output_type": "display_data"
    }
   ],
   "source": [
    "import seaborn as sns\n",
    "sns.histplot(data=labeled_data, x=labeled_data.Type)"
   ]
  },
  {
   "cell_type": "markdown",
   "id": "77c3c6f9",
   "metadata": {},
   "source": [
    "# Train a Classifier"
   ]
  },
  {
   "cell_type": "markdown",
   "id": "272a01b1",
   "metadata": {},
   "source": [
    "## Split into training and test data"
   ]
  },
  {
   "cell_type": "code",
   "execution_count": 5,
   "id": "2b75601b",
   "metadata": {},
   "outputs": [],
   "source": [
    "from sklearn import preprocessing\n",
    "from sklearn.model_selection import train_test_split\n",
    "\n",
    "\n",
    "# for X data\n",
    "X = labeled_data\n",
    "\n",
    "# Encode labels to form y labels\n",
    "le = preprocessing.LabelEncoder()\n",
    "le.fit(label)\n",
    "y = le.transform(labeled_data.Type)\n",
    "\n",
    "# Split dataset into training set and test set\n",
    "X_tr, X_ts, y_train, y_test = train_test_split(X, y, test_size=0.3) # 70% training and 30% test\n",
    "X_train = X_tr.drop(['ID','SourceID', 'RAdeg','DEdeg', 'Type'],axis='columns')\n",
    "X_test = X_ts.drop(['ID','SourceID', 'RAdeg','DEdeg', 'Type'],axis='columns')"
   ]
  },
  {
   "cell_type": "markdown",
   "id": "7c31064d",
   "metadata": {},
   "source": [
    "## Distribution of variable star types in the training data"
   ]
  },
  {
   "cell_type": "code",
   "execution_count": 6,
   "id": "6238cfed",
   "metadata": {},
   "outputs": [
    {
     "data": {
      "text/plain": [
       "<AxesSubplot:xlabel='Type', ylabel='Count'>"
      ]
     },
     "execution_count": 6,
     "metadata": {},
     "output_type": "execute_result"
    },
    {
     "data": {
      "image/png": "[encoded data removed]",
      "text/plain": [
       "<Figure size 432x288 with 1 Axes>"
      ]
     },
     "metadata": {
      "needs_background": "light"
     },
     "output_type": "display_data"
    }
   ],
   "source": [
    "sns.histplot(data=labeled_data, x=X_tr.Type)"
   ]
  },
  {
   "cell_type": "markdown",
   "id": "52fe4dd9",
   "metadata": {},
   "source": [
    "## Train a simple Random Forest estimator"
   ]
  },
  {
   "cell_type": "code",
   "execution_count": null,
   "id": "4e7e9e90",
   "metadata": {},
   "outputs": [],
   "source": [
    "#Import Random Forest Model\n",
    "from sklearn.ensemble import RandomForestClassifier\n",
    "from sklearn import metrics\n",
    "\n",
    "#Create a Gaussian Classifier\n",
    "clf=RandomForestClassifier(n_estimators=100)\n",
    "\n",
    "#Train the model using the training sets y_pred=clf.predict(X_test)\n",
    "clf.fit(X_train,y_train)\n",
    "\n",
    "# Predict test data output\n",
    "y_pred=clf.predict(X_test)\n",
    "\n",
    "# Estimate model accuracy\n",
    "print(\"Accuracy:\",metrics.accuracy_score(y_test, y_pred))"
   ]
  },
  {
   "cell_type": "markdown",
   "id": "d183af1c",
   "metadata": {},
   "source": [
    "## Prediction Error distribution accross variable type class"
   ]
  },
  {
   "cell_type": "code",
   "execution_count": null,
   "id": "b80adbf6",
   "metadata": {},
   "outputs": [],
   "source": [
    "y_test_labels = le.inverse_transform(y_test)\n",
    "y_pred_labels = le.inverse_transform(y_pred)\n",
    "\n",
    "# Form a dataframe of test vs predicted labels\n",
    "pd_prediction = pd.DataFrame()\n",
    "pd_prediction['Test'] = y_test_labels\n",
    "pd_prediction['Pred'] = y_pred_labels\n",
    "pd_prediction['Accuracy'] = y_test_labels == y_pred_labels\n",
    "pd_prediction.head()\n",
    "\n",
    "sns.histplot(data=pd_prediction, x=pd_prediction.Test, hue = pd_prediction.Accuracy)\n",
    "\n",
    "# sns.histplot(data=pred_err, x=pred_err.Test)\n"
   ]
  },
  {
   "cell_type": "markdown",
   "id": "beb4ba73",
   "metadata": {},
   "source": [
    "# Visualize Feature importance"
   ]
  },
  {
   "cell_type": "code",
   "execution_count": null,
   "id": "93fd358e",
   "metadata": {},
   "outputs": [],
   "source": [
    "# Feature Description\n",
    "widths = (8,7,4,13,43)\n",
    "header_pd = pd.read_fwf('../databases/Labeled_data.txt', widths = widths,skiprows=7, nrows=27)\n",
    "header_pd.head(30)"
   ]
  },
  {
   "cell_type": "code",
   "execution_count": null,
   "id": "ada10f9f",
   "metadata": {},
   "outputs": [],
   "source": [
    "# feature importance\n",
    "feature_imp = pd.Series(clf.feature_importances_,index=X_train.columns).sort_values(ascending=False)\n",
    "feature_imp"
   ]
  },
  {
   "cell_type": "code",
   "execution_count": null,
   "id": "24543ac0",
   "metadata": {
    "scrolled": true
   },
   "outputs": [],
   "source": [
    "# Creating a bar plot\n",
    "sns.barplot(x=feature_imp, y=feature_imp.index)\n",
    "# Add labels to your graph\n",
    "plt.xlabel('Feature Importance Score')\n",
    "plt.ylabel('Features')\n",
    "plt.title(\"Visualizing Important Features\")\n",
    "plt.legend()\n",
    "plt.show()"
   ]
  },
  {
   "cell_type": "markdown",
   "id": "ca19f7a7",
   "metadata": {},
   "source": [
    "# Plot location of test data"
   ]
  },
  {
   "cell_type": "code",
   "execution_count": null,
   "id": "a7663057",
   "metadata": {},
   "outputs": [],
   "source": [
    "import astropy.coordinates as coord\n",
    "import astropy.units as u\n",
    "\n",
    "ra = coord.Angle(X_ts.RAdeg, unit=u.degree)\n",
    "\n",
    "ra = ra.wrap_at(180*u.degree)\n",
    "dec = coord.Angle(X_ts.DEdeg, unit=u.degree)\n",
    "\n",
    "fig = plt.figure(figsize=(8,6))\n",
    "ax = fig.add_subplot(111, projection=\"mollweide\")\n",
    "ax.scatter(ra.radian, dec.radian)"
   ]
  },
  {
   "cell_type": "markdown",
   "id": "94aae0c4",
   "metadata": {},
   "source": [
    "# Hypertune the Random Forest Classifier"
   ]
  },
  {
   "cell_type": "code",
   "execution_count": null,
   "id": "8ed271f6",
   "metadata": {},
   "outputs": [],
   "source": [
    "from sklearn.model_selection import RandomizedSearchCV# Number of trees in random forest\n",
    "n_estimators = [int(x) for x in np.linspace(start = 100, stop = 1000, num = 10)]\n",
    "# Number of features to consider at every split\n",
    "max_features = ['auto', 'sqrt']\n",
    "# Maximum number of levels in tree\n",
    "max_depth = [int(x) for x in np.linspace(10, 110, num = 11)]\n",
    "max_depth.append(None)\n",
    "# Minimum number of samples required to split a node\n",
    "min_samples_split = [2, 5, 10]\n",
    "# Minimum number of samples required at each leaf node\n",
    "min_samples_leaf = [1, 2, 4]\n",
    "# Method of selecting samples for training each tree\n",
    "bootstrap = [True, False]# Create the random grid\n",
    "random_grid = {'n_estimators': n_estimators,\n",
    "               'max_features': max_features,\n",
    "               'max_depth': max_depth,\n",
    "               'min_samples_split': min_samples_split,\n",
    "               'min_samples_leaf': min_samples_leaf,\n",
    "               'bootstrap': bootstrap}"
   ]
  },
  {
   "cell_type": "code",
   "execution_count": null,
   "id": "502400fd",
   "metadata": {},
   "outputs": [],
   "source": [
    "# Use the random grid to search for best hyperparameters\n",
    "# First create the base model to tune\n",
    "rf = RandomForestClassifier()\n",
    "# Random search of parameters, using 3 fold cross validation, \n",
    "# search across 100 different combinations, and use all available cores\n",
    "rf_random = RandomizedSearchCV(estimator = rf, param_distributions = random_grid, n_iter = 5, cv = 3, verbose=2, random_state=42, n_jobs = -1)# Fit the random search model\n",
    "rf_random.fit(X_train, y_train)"
   ]
  },
  {
   "cell_type": "code",
   "execution_count": null,
   "id": "200f6a7b",
   "metadata": {},
   "outputs": [],
   "source": [
    "best_rf = rf_random.best_estimator_\n",
    "# Predict test data output\n",
    "y_pred=best_rf.predict(X_test)\n",
    "# Estimate model accuracy\n",
    "print(\"Accuracy:\",metrics.accuracy_score(y_test, y_pred))"
   ]
  }
 ],
 "metadata": {
  "kernelspec": {
   "display_name": "Python 3",
   "language": "python",
   "name": "python3"
  },
  "language_info": {
   "codemirror_mode": {
    "name": "ipython",
    "version": 3
   },
   "file_extension": ".py",
   "mimetype": "text/x-python",
   "name": "python",
   "nbconvert_exporter": "python",
   "pygments_lexer": "ipython3",
   "version": "3.8.5"
  }
 },
 "nbformat": 4,
 "nbformat_minor": 5
}
