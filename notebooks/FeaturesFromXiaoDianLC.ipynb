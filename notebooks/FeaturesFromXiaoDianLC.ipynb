{
 "cells": [
  {
   "cell_type": "markdown",
   "id": "8166bac7",
   "metadata": {},
   "source": [
    "# Calculate features for downloaded light curves"
   ]
  },
  {
   "cell_type": "code",
   "execution_count": null,
   "id": "5526f730",
   "metadata": {},
   "outputs": [],
   "source": [
    "%matplotlib inline\n",
    "import pandas as pd\n",
    "import matplotlib.pyplot as plt\n",
    "import numpy as np\n",
    "import time\n",
    "import sqlalchemy as db"
   ]
  },
  {
   "cell_type": "code",
   "execution_count": null,
   "id": "e31c508f",
   "metadata": {},
   "outputs": [],
   "source": [
    "widths = (8,7,4,13,43)\n",
    "header_pd = pd.read_fwf('../databases/Labeled_data.txt', widths = widths,skiprows=7, nrows=27)\n",
    "labeled_data = pd.read_csv('../databases/Labeled_data.txt', header=None, delim_whitespace=True, skiprows=37) # extract data\n",
    "labeled_data.columns = header_pd.iloc[:,3]\n",
    "labeled_data.head()"
   ]
  },
  {
   "cell_type": "code",
   "execution_count": null,
   "id": "bf064ad0",
   "metadata": {},
   "outputs": [],
   "source": [
    "label = labeled_data.Type.unique()\n",
    "label = np.delete(label, np.where(label == 'CEPII')) # CEPII has very few example so we ignore it\n",
    "label = np.delete(label, np.where(label == 'CEP')) # CEP has very few example so we ignore it\n",
    "\n",
    "print(label)"
   ]
  },
  {
   "cell_type": "code",
   "execution_count": null,
   "id": "b802eaa2",
   "metadata": {},
   "outputs": [],
   "source": [
    "RA = []\n",
    "Dec = []\n",
    "SourceID = []\n",
    "Type = []\n",
    "ID = []\n",
    "g_mean = []\n",
    "g_wmean = [] # weighted mean\n",
    "g_MAD = []\n",
    "g_IQR = []\n",
    "g_f60 = []\n",
    "g_f70 = []\n",
    "g_f80 = []\n",
    "g_f90 = []\n",
    "g_skew = []\n",
    "g_kurtosis = []\n",
    "g_welsh_K = []\n",
    "g_welsh_J = []\n",
    "\n",
    "r_mean = []\n",
    "r_wmean = [] # weighted mean\n",
    "r_MAD = []\n",
    "r_IQR = []\n",
    "r_f60 = []\n",
    "r_f70 = []\n",
    "r_f80 = []\n",
    "r_f90 = []\n",
    "r_skew = []\n",
    "r_kurtosis = []\n",
    "r_welsh_K = []\n",
    "r_welsh_J = []"
   ]
  },
  {
   "cell_type": "code",
   "execution_count": null,
   "id": "84a1f330",
   "metadata": {},
   "outputs": [],
   "source": [
    "def weighted_mean_del(mag,mag_err):\n",
    "    mag2 = (mag_err*mag_err) # mag err square\n",
    "    mag2_inv = 1/mag2.values; # take inverse of the values\n",
    "    w = pd.Series(mag2_inv) # covert it back to s series\n",
    "    sw = w.sum() # sum of weights\n",
    "    wmag = mag*w # multiply magnitude with weights\n",
    "    wmean = wmag.sum()/sw # weighted mean\n",
    "    return wmean"
   ]
  },
  {
   "cell_type": "code",
   "execution_count": null,
   "id": "40878991",
   "metadata": {},
   "outputs": [],
   "source": [
    "def weighted_mean(mag,e_mag):\n",
    "    w = 1/(e_mag*e_mag)\n",
    "    sw = np.sum(w)\n",
    "    wmag = w*mag\n",
    "    wmean = np.sum(wmag)/sw\n",
    "    return wmean"
   ]
  },
  {
   "cell_type": "code",
   "execution_count": null,
   "id": "3ebe0b59",
   "metadata": {},
   "outputs": [],
   "source": [
    "# welsh J, K statistics\n",
    "def welsh_staton(mag_series,wmean):\n",
    "    N = len(mag_series)\n",
    "    d_i = N/(N-1)*(mag_series - wmean) # replace mean by weighted mean\n",
    "    d_i1 = d_i.shift(periods=-1)\n",
    "    d_i1.fillna(0, inplace = True)\n",
    "    Pi = d_i*d_i1\n",
    "    Pi_val = Pi.values\n",
    "    Psign = np.sign(Pi_val)\n",
    "    Jval = Psign*np.sqrt(np.abs(Pi_val))\n",
    "    J = np.sum(Jval) \n",
    "    K1 = abs(d_i.values)/N\n",
    "    K2 = np.sqrt(1/N*np.sum(d_i.values*d_i.values))\n",
    "    K = np.sum(K1*K2)\n",
    "    return J, K "
   ]
  },
  {
   "cell_type": "code",
   "execution_count": null,
   "id": "595b504d",
   "metadata": {},
   "outputs": [],
   "source": [
    "engine = db.create_engine('sqlite:///../databases/save_LC_1000each.db', echo=False)\n",
    "sqlite_connection = engine.connect()\n",
    "metadata = db.MetaData()\n",
    "metadata.reflect(bind=engine)\n",
    "LC={}\n",
    "table_list = metadata.sorted_tables\n"
   ]
  },
  {
   "cell_type": "code",
   "execution_count": null,
   "id": "d8481cd6",
   "metadata": {},
   "outputs": [],
   "source": [
    "i = 0\n",
    "for table in table_list:\n",
    "    data = db.Table(table, metadata, autoload=True, autoload_with=engine)\n",
    "    query = db.select([data])\n",
    "    ResultProxy = sqlite_connection.execute(query)\n",
    "    ResultSet = ResultProxy.fetchall()\n",
    "    lc = pd.DataFrame(ResultSet)\n",
    "    if len(lc) >1:\n",
    "        lc.columns = ResultSet[0].keys()\n",
    "        RA.append(lc.RAdeg[1])\n",
    "        Dec.append(lc.DEdeg[1])\n",
    "        SourceID.append(lc.SourceID[1])\n",
    "        ID.append(lc.ID[1])\n",
    "        Type.append(lc.Type[1])\n",
    "        \n",
    "        dfg = lc.loc[lc[\"band\"] == \"g\"]\n",
    "        dfr = lc.loc[lc[\"band\"] == \"r\"]\n",
    "        if len(dfg) > 1:\n",
    "            N = len(dfg)\n",
    "    #         wmean_temp = np.average(dfg.mag, weights = dfg.e_mag*dfg.e_mag)\n",
    "            wmean_temp = weighted_mean(dfg.mag.values,dfg.e_mag.values)\n",
    "            K_temp, J_temp =  welsh_staton(dfg.mag, wmean_temp)\n",
    "            g_mean.append(dfg.mag.mean())\n",
    "            g_wmean.append(wmean_temp) \n",
    "            deviation = abs(dfg.mag - dfg.mag.median())\n",
    "            g_MAD.append(deviation.median())\n",
    "            g_IQR.append(dfg.mag.quantile(0.75) - dfg.mag.quantile(0.25))\n",
    "            g_f60.append(dfg.mag.quantile(0.80) - dfg.mag.quantile(0.2))\n",
    "            g_f70.append(dfg.mag.quantile(0.85) - dfg.mag.quantile(0.15))\n",
    "            g_f80.append(dfg.mag.quantile(0.9) - dfg.mag.quantile(0.10))\n",
    "            g_f90.append(dfg.mag.quantile(0.95) - dfg.mag.quantile(0.05))\n",
    "            g_skew.append(dfg.mag.skew())\n",
    "            g_kurtosis.append(dfg.mag.kurtosis())\n",
    "            g_welsh_J.append(J_temp)\n",
    "            g_welsh_K.append(K_temp)\n",
    "        else:\n",
    "            g_mean.append(np.NaN)\n",
    "            g_wmean.append(np.NaN) \n",
    "            g_MAD.append(np.NaN)\n",
    "            g_IQR.append(np.NaN)\n",
    "            g_f60.append(np.NaN)\n",
    "            g_f70.append(np.NaN)\n",
    "            g_f80.append(np.NaN)\n",
    "            g_f90.append(np.NaN)\n",
    "            g_skew.append(np.NaN)\n",
    "            g_kurtosis.append(np.NaN)\n",
    "            g_welsh_J.append(np.NaN)\n",
    "            g_welsh_K.append(np.NaN)\n",
    "                \n",
    "        if len(dfr) >1:\n",
    "            N = len(dfr)\n",
    "            wmean_temp = weighted_mean(dfr.mag.values,dfr.e_mag.values)\n",
    "    #         wmean_temp = np.average(dfr.mag, weights = dfr.e_mag*dfr.e_mag)\n",
    "            K_temp, J_temp =  welsh_staton(dfr.mag, wmean_temp )\n",
    "            r_mean.append(dfr.mag.mean())\n",
    "            r_wmean.append(wmean_temp) \n",
    "            deviation = abs(dfr.mag - dfr.mag.median())\n",
    "            r_MAD.append(deviation.median())\n",
    "            r_IQR.append(dfr.mag.quantile(0.75) - dfr.mag.quantile(0.25))\n",
    "            r_f60.append(dfr.mag.quantile(0.80) - dfr.mag.quantile(0.2))\n",
    "            r_f70.append(dfr.mag.quantile(0.85) - dfr.mag.quantile(0.15))\n",
    "            r_f80.append(dfr.mag.quantile(0.9) - dfr.mag.quantile(0.10))\n",
    "            r_f90.append(dfr.mag.quantile(0.95) - dfr.mag.quantile(0.05))\n",
    "            r_skew.append(dfr.mag.skew())\n",
    "            r_kurtosis.append(dfr.mag.kurtosis())\n",
    "            r_welsh_J.append(J_temp)\n",
    "            r_welsh_K.append(K_temp)\n",
    "        else:\n",
    "            r_mean.append(np.NaN)\n",
    "            r_wmean.append(np.NaN) \n",
    "            r_MAD.append(np.NaN)\n",
    "            r_IQR.append(np.NaN)\n",
    "            r_f60.append(np.NaN)\n",
    "            r_f70.append(np.NaN)\n",
    "            r_f80.append(np.NaN)\n",
    "            r_f90.append(np.NaN)\n",
    "            r_skew.append(np.NaN)\n",
    "            r_kurtosis.append(np.NaN)\n",
    "            r_welsh_J.append(np.NaN)\n",
    "            r_welsh_K.append(np.NaN)\n",
    "\n",
    "    else:\n",
    "        RA.append(np.NaN)\n",
    "        Dec.append(np.NaN)\n",
    "        SourceID.append(np.NaN) \n",
    "        ID.append(np.NaN)\n",
    "        Type.append(np.NaN)\n",
    "        g_mean.append(np.NaN)\n",
    "        g_wmean.append(np.NaN) \n",
    "        g_MAD.append(np.NaN)\n",
    "        g_IQR.append(np.NaN)\n",
    "        g_f60.append(np.NaN)\n",
    "        g_f70.append(np.NaN)\n",
    "        g_f80.append(np.NaN)\n",
    "        g_f90.append(np.NaN)\n",
    "        g_skew.append(np.NaN)\n",
    "        g_kurtosis.append(np.NaN)\n",
    "        g_welsh_J.append(np.NaN)\n",
    "        g_welsh_K.append(np.NaN)\n",
    "        r_mean.append(np.NaN)\n",
    "        r_wmean.append(np.NaN) \n",
    "        r_MAD.append(np.NaN)\n",
    "        r_IQR.append(np.NaN) \n",
    "        r_f60.append(np.NaN)\n",
    "        r_f70.append(np.NaN)\n",
    "        r_f80.append(np.NaN)\n",
    "        r_f90.append(np.NaN)\n",
    "        r_skew.append(np.NaN)\n",
    "        r_kurtosis.append(np.NaN)\n",
    "        r_welsh_J.append(np.NaN)\n",
    "        r_welsh_K.append(np.NaN)\n",
    "    print(i)\n",
    "    i = i+1"
   ]
  },
  {
   "cell_type": "code",
   "execution_count": null,
   "id": "74d6fec1",
   "metadata": {},
   "outputs": [],
   "source": [
    "len(lc)"
   ]
  },
  {
   "cell_type": "code",
   "execution_count": null,
   "id": "3f80a9d8",
   "metadata": {},
   "outputs": [],
   "source": [
    "# del features\n",
    "features = pd.DataFrame()\n",
    "N = 17998\n",
    "features['sourceid'] = SourceID[0:N]\n",
    "features['ID'] = ID[0:N]\n",
    "# features['ID'] = labeled_data_sampled.ID.values[0:N]\n",
    "features['RAdeg'] = RA[0:N]\n",
    "features['DEdeg'] = Dec[0:N]\n",
    "\n",
    "# g filter data\n",
    "features['g_mean'] = g_mean[0:N]\n",
    "features['g_wmean'] = g_wmean[0:N]\n",
    "features['g_MAD'] = g_MAD[0:N]\n",
    "features['g_IQR'] = g_IQR[0:N]\n",
    "features['g_f60'] = g_f60[0:N]\n",
    "features['g_f70'] = g_f70[0:N]\n",
    "features['g_f80'] = g_f80[0:N]\n",
    "features['g_f90'] = g_f90[0:N]\n",
    "features['g_skew'] = g_skew[0:N]\n",
    "features['g_kurtosis'] = g_kurtosis[0:N]\n",
    "features['g_welsh_J'] = g_welsh_J[0:N]\n",
    "features['g_welsh_K'] = g_welsh_K[0:N]\n",
    "\n",
    "# r filter data\n",
    "features['r_mean'] = r_mean[0:N]\n",
    "features['r_wmean'] = r_wmean[0:N]\n",
    "features['r_MAD'] = r_MAD[0:N]\n",
    "features['r_IQR'] = r_IQR[0:N]\n",
    "features['r_f60'] = r_f60[0:N]\n",
    "features['r_f70'] = r_f70[0:N]\n",
    "features['r_f80'] = r_f80[0:N]\n",
    "features['r_f90'] = r_f90[0:N]\n",
    "features['r_skew'] = r_skew[0:N]\n",
    "features['r_kurtosis'] = r_kurtosis[0:N]\n",
    "features['r_welsh_J'] = r_welsh_J[0:N]\n",
    "features['r_welsh_K'] = r_welsh_K[0:N]\n",
    "features['Type'] = Type[0:N]\n",
    "\n",
    "# features['label'] = label[0:N]\n",
    "# features.to_csv('../features/features10000.csv',index=False)"
   ]
  },
  {
   "cell_type": "code",
   "execution_count": null,
   "id": "f4ec4692",
   "metadata": {},
   "outputs": [],
   "source": [
    "features.tail(100)"
   ]
  },
  {
   "cell_type": "code",
   "execution_count": null,
   "id": "51393834",
   "metadata": {},
   "outputs": [],
   "source": [
    "features_pd = pd.read_csv('../features/features20000.csv',header='infer')"
   ]
  },
  {
   "cell_type": "code",
   "execution_count": null,
   "id": "8bde67ac",
   "metadata": {},
   "outputs": [],
   "source": [
    "# features_pd['Type'] = 'EW'\n",
    "features_pd.info()"
   ]
  },
  {
   "cell_type": "code",
   "execution_count": null,
   "id": "080b2764",
   "metadata": {},
   "outputs": [],
   "source": [
    "for k in range(0,9):\n",
    "    for i in range(0,2000):\n",
    "        features_pd.loc[(i+k*1999),'Type'] = label[k]\n",
    "    "
   ]
  },
  {
   "cell_type": "code",
   "execution_count": null,
   "id": "9d60dae6",
   "metadata": {},
   "outputs": [],
   "source": [
    "features_pd.head()"
   ]
  },
  {
   "cell_type": "code",
   "execution_count": null,
   "id": "7d963327",
   "metadata": {},
   "outputs": [],
   "source": [
    "features_pd.dropna(inplace=True)"
   ]
  },
  {
   "cell_type": "code",
   "execution_count": null,
   "id": "502ad068",
   "metadata": {},
   "outputs": [],
   "source": [
    "features_pd.info()"
   ]
  },
  {
   "cell_type": "code",
   "execution_count": null,
   "id": "086f88d0",
   "metadata": {},
   "outputs": [],
   "source": [
    "import seaborn as sns\n",
    "sns.histplot(data=features_pd, x=features_pd.Type)"
   ]
  },
  {
   "cell_type": "code",
   "execution_count": null,
   "id": "dce28305",
   "metadata": {},
   "outputs": [],
   "source": []
  }
 ],
 "metadata": {
  "kernelspec": {
   "display_name": "Python 3",
   "language": "python",
   "name": "python3"
  },
  "language_info": {
   "codemirror_mode": {
    "name": "ipython",
    "version": 3
   },
   "file_extension": ".py",
   "mimetype": "text/x-python",
   "name": "python",
   "nbconvert_exporter": "python",
   "pygments_lexer": "ipython3",
   "version": "3.8.5"
  }
 },
 "nbformat": 4,
 "nbformat_minor": 5
}
