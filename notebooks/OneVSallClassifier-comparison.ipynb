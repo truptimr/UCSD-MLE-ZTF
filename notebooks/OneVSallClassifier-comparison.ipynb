{
 "cells": [
  {
   "cell_type": "markdown",
   "id": "dcce19ed",
   "metadata": {},
   "source": [
    "## Objective:\n",
    "- Fit a One vs All classifier for for different types of variable stars\n",
    "- Use several different classifier methods: Random Forest, Decision Tree, Logistic Regression, Naive Bayes\n",
    "- Create a comparision table for different classifiers and labels. Compare using metrics like accuracy, precision and recall"
   ]
  },
  {
   "cell_type": "code",
   "execution_count": 1,
   "id": "6cdab3f2",
   "metadata": {},
   "outputs": [],
   "source": [
    "#Load libraries\n",
    "%matplotlib inline\n",
    "import pandas as pd\n",
    "import matplotlib.pyplot as plt\n",
    "import numpy as np"
   ]
  },
  {
   "cell_type": "markdown",
   "id": "96ff13e0",
   "metadata": {},
   "source": [
    "## Complete features and label table from Xiadian's website"
   ]
  },
  {
   "cell_type": "code",
   "execution_count": 2,
   "id": "6f99040f",
   "metadata": {},
   "outputs": [
    {
     "name": "stdout",
     "output_type": "stream",
     "text": [
      "['BYDra' 'EW' 'SR' 'RSCVN' 'RR' 'DSCT' 'EA' 'Mira' 'RRc' 'CEP']\n"
     ]
    }
   ],
   "source": [
    "widths = (8,7,4,13,43)\n",
    "header_pd = pd.read_fwf('../databases/Labeled_data.txt', widths = widths,skiprows=7, nrows=27)\n",
    "labeled_data = pd.read_csv('../databases/Labeled_data.txt', header=None, delim_whitespace=True, skiprows=36) # extract data\n",
    "labeled_data.columns = header_pd.iloc[:,3]\n",
    "labeled_data.head()\n",
    "label = labeled_data.Type.unique()\n",
    "label = np.delete(label, np.where(label == 'CEPII')) # CEPII has very few samples so we ignore it\n",
    "print(label)"
   ]
  },
  {
   "cell_type": "markdown",
   "id": "f12dbb2a",
   "metadata": {},
   "source": [
    "## Import features extracted from light curves\n",
    "These features are caluclated on 1000 light curves of each variable type. The light curves are imported from variables.cn:88/\n",
    "Feature list\n",
    "- mean : mean of the light curve\n",
    "- wmean : weight mean of the light curve\n",
    "- MAD : deviation about the median\n",
    "- IQR : inter quartile percentile of the light curve\n",
    "- f60 : 60 percentile  of light curve\n",
    "- f70 : 70 percentile of the light curve\n",
    "- f80 : 80 percentile of the light curve\n",
    "- f90 : 90 percentile of the light curve\n",
    "- skew : skewness of the light curve\n",
    "- kurtosis : kurtosis of the light curve\n",
    "- welsk_k, welsh_j : welsh and staton J and K statistics of the light curve\n",
    "- g_ : g band filter\n",
    "- r_ : r band filter"
   ]
  },
  {
   "cell_type": "code",
   "execution_count": 3,
   "id": "6847d92f",
   "metadata": {},
   "outputs": [],
   "source": [
    "df = pd.read_csv('../features/features10000.csv', header=None, skiprows=1)\n",
    "header = pd.read_csv('../features/features10000.csv', header=None, nrows=1)\n",
    "df.columns = header.iloc[0]"
   ]
  },
  {
   "cell_type": "code",
   "execution_count": 4,
   "id": "25639401",
   "metadata": {},
   "outputs": [
    {
     "data": {
      "text/html": [
       "<div>\n",
       "<style scoped>\n",
       "    .dataframe tbody tr th:only-of-type {\n",
       "        vertical-align: middle;\n",
       "    }\n",
       "\n",
       "    .dataframe tbody tr th {\n",
       "        vertical-align: top;\n",
       "    }\n",
       "\n",
       "    .dataframe thead th {\n",
       "        text-align: right;\n",
       "    }\n",
       "</style>\n",
       "<table border=\"1\" class=\"dataframe\">\n",
       "  <thead>\n",
       "    <tr style=\"text-align: right;\">\n",
       "      <th></th>\n",
       "      <th>sourceid</th>\n",
       "      <th>ID</th>\n",
       "      <th>RAdeg</th>\n",
       "      <th>DEdeg</th>\n",
       "      <th>g_mean</th>\n",
       "      <th>g_wmean</th>\n",
       "      <th>g_MAD</th>\n",
       "      <th>g_IQR</th>\n",
       "      <th>g_f60</th>\n",
       "      <th>g_f70</th>\n",
       "      <th>...</th>\n",
       "      <th>r_IQR</th>\n",
       "      <th>r_f60</th>\n",
       "      <th>r_f70</th>\n",
       "      <th>r_f80</th>\n",
       "      <th>r_f90</th>\n",
       "      <th>r_skew</th>\n",
       "      <th>r_kurtosis</th>\n",
       "      <th>r_welsh_J</th>\n",
       "      <th>r_welsh_K</th>\n",
       "      <th>Type</th>\n",
       "    </tr>\n",
       "  </thead>\n",
       "  <tbody>\n",
       "    <tr>\n",
       "      <th>0</th>\n",
       "      <td>1.0</td>\n",
       "      <td>ZTFJ000000.13+620605.8</td>\n",
       "      <td>0.000566</td>\n",
       "      <td>62.101631</td>\n",
       "      <td>17.994656</td>\n",
       "      <td>17.992102</td>\n",
       "      <td>0.034</td>\n",
       "      <td>0.07000</td>\n",
       "      <td>0.0820</td>\n",
       "      <td>0.10000</td>\n",
       "      <td>...</td>\n",
       "      <td>0.05125</td>\n",
       "      <td>0.0580</td>\n",
       "      <td>0.06655</td>\n",
       "      <td>0.0797</td>\n",
       "      <td>0.09370</td>\n",
       "      <td>0.105202</td>\n",
       "      <td>-0.632720</td>\n",
       "      <td>40.723268</td>\n",
       "      <td>1678.291273</td>\n",
       "      <td>BYDra</td>\n",
       "    </tr>\n",
       "    <tr>\n",
       "      <th>1</th>\n",
       "      <td>2.0</td>\n",
       "      <td>ZTFJ000000.14+721413.7</td>\n",
       "      <td>0.000620</td>\n",
       "      <td>72.237174</td>\n",
       "      <td>19.619402</td>\n",
       "      <td>19.579923</td>\n",
       "      <td>0.111</td>\n",
       "      <td>0.22650</td>\n",
       "      <td>0.2850</td>\n",
       "      <td>0.35950</td>\n",
       "      <td>...</td>\n",
       "      <td>0.22750</td>\n",
       "      <td>0.2712</td>\n",
       "      <td>0.30765</td>\n",
       "      <td>0.3614</td>\n",
       "      <td>0.44115</td>\n",
       "      <td>0.334634</td>\n",
       "      <td>-0.775188</td>\n",
       "      <td>258.579275</td>\n",
       "      <td>3360.702573</td>\n",
       "      <td>EW</td>\n",
       "    </tr>\n",
       "    <tr>\n",
       "      <th>2</th>\n",
       "      <td>3.0</td>\n",
       "      <td>ZTFJ000000.19+320847.2</td>\n",
       "      <td>0.000795</td>\n",
       "      <td>32.146449</td>\n",
       "      <td>15.313984</td>\n",
       "      <td>15.313984</td>\n",
       "      <td>0.072</td>\n",
       "      <td>0.14200</td>\n",
       "      <td>0.1580</td>\n",
       "      <td>0.18300</td>\n",
       "      <td>...</td>\n",
       "      <td>0.12600</td>\n",
       "      <td>0.1470</td>\n",
       "      <td>0.16080</td>\n",
       "      <td>0.1760</td>\n",
       "      <td>0.18860</td>\n",
       "      <td>-0.212606</td>\n",
       "      <td>-1.485137</td>\n",
       "      <td>171.745322</td>\n",
       "      <td>891.052032</td>\n",
       "      <td>EW</td>\n",
       "    </tr>\n",
       "    <tr>\n",
       "      <th>3</th>\n",
       "      <td>4.0</td>\n",
       "      <td>ZTFJ000000.26+311206.3</td>\n",
       "      <td>0.001085</td>\n",
       "      <td>31.201756</td>\n",
       "      <td>16.353295</td>\n",
       "      <td>16.353295</td>\n",
       "      <td>0.077</td>\n",
       "      <td>0.14900</td>\n",
       "      <td>0.1710</td>\n",
       "      <td>0.18700</td>\n",
       "      <td>...</td>\n",
       "      <td>0.10200</td>\n",
       "      <td>0.1322</td>\n",
       "      <td>0.15980</td>\n",
       "      <td>0.1946</td>\n",
       "      <td>0.20560</td>\n",
       "      <td>0.418285</td>\n",
       "      <td>-1.009552</td>\n",
       "      <td>202.025570</td>\n",
       "      <td>966.503331</td>\n",
       "      <td>EW</td>\n",
       "    </tr>\n",
       "    <tr>\n",
       "      <th>4</th>\n",
       "      <td>6.0</td>\n",
       "      <td>ZTFJ000000.30+233400.5</td>\n",
       "      <td>0.001249</td>\n",
       "      <td>23.566828</td>\n",
       "      <td>17.892283</td>\n",
       "      <td>17.878715</td>\n",
       "      <td>0.102</td>\n",
       "      <td>0.18975</td>\n",
       "      <td>0.2526</td>\n",
       "      <td>0.28225</td>\n",
       "      <td>...</td>\n",
       "      <td>0.22900</td>\n",
       "      <td>0.2700</td>\n",
       "      <td>0.29620</td>\n",
       "      <td>0.3132</td>\n",
       "      <td>0.33620</td>\n",
       "      <td>0.158998</td>\n",
       "      <td>-1.484462</td>\n",
       "      <td>253.787215</td>\n",
       "      <td>1019.579800</td>\n",
       "      <td>EW</td>\n",
       "    </tr>\n",
       "  </tbody>\n",
       "</table>\n",
       "<p>5 rows × 29 columns</p>\n",
       "</div>"
      ],
      "text/plain": [
       "0  sourceid                      ID     RAdeg      DEdeg     g_mean  \\\n",
       "0       1.0  ZTFJ000000.13+620605.8  0.000566  62.101631  17.994656   \n",
       "1       2.0  ZTFJ000000.14+721413.7  0.000620  72.237174  19.619402   \n",
       "2       3.0  ZTFJ000000.19+320847.2  0.000795  32.146449  15.313984   \n",
       "3       4.0  ZTFJ000000.26+311206.3  0.001085  31.201756  16.353295   \n",
       "4       6.0  ZTFJ000000.30+233400.5  0.001249  23.566828  17.892283   \n",
       "\n",
       "0    g_wmean  g_MAD    g_IQR   g_f60    g_f70  ...    r_IQR   r_f60    r_f70  \\\n",
       "0  17.992102  0.034  0.07000  0.0820  0.10000  ...  0.05125  0.0580  0.06655   \n",
       "1  19.579923  0.111  0.22650  0.2850  0.35950  ...  0.22750  0.2712  0.30765   \n",
       "2  15.313984  0.072  0.14200  0.1580  0.18300  ...  0.12600  0.1470  0.16080   \n",
       "3  16.353295  0.077  0.14900  0.1710  0.18700  ...  0.10200  0.1322  0.15980   \n",
       "4  17.878715  0.102  0.18975  0.2526  0.28225  ...  0.22900  0.2700  0.29620   \n",
       "\n",
       "0   r_f80    r_f90    r_skew  r_kurtosis   r_welsh_J    r_welsh_K   Type  \n",
       "0  0.0797  0.09370  0.105202   -0.632720   40.723268  1678.291273  BYDra  \n",
       "1  0.3614  0.44115  0.334634   -0.775188  258.579275  3360.702573     EW  \n",
       "2  0.1760  0.18860 -0.212606   -1.485137  171.745322   891.052032     EW  \n",
       "3  0.1946  0.20560  0.418285   -1.009552  202.025570   966.503331     EW  \n",
       "4  0.3132  0.33620  0.158998   -1.484462  253.787215  1019.579800     EW  \n",
       "\n",
       "[5 rows x 29 columns]"
      ]
     },
     "execution_count": 4,
     "metadata": {},
     "output_type": "execute_result"
    }
   ],
   "source": [
    "df.head()"
   ]
  },
  {
   "cell_type": "code",
   "execution_count": 5,
   "id": "bc7a1171",
   "metadata": {},
   "outputs": [],
   "source": [
    "# Drop rows with Blank values\n",
    "df.replace('', np.nan, inplace=True)\n",
    "df.dropna(inplace=True)"
   ]
  },
  {
   "cell_type": "code",
   "execution_count": 6,
   "id": "497e4ec2",
   "metadata": {},
   "outputs": [
    {
     "name": "stdout",
     "output_type": "stream",
     "text": [
      "['BYDra' 'EW' 'SR' 'RSCVN' 'RR' 'DSCT' 'EA' 'RRc' 'Mira' 'CEP']\n"
     ]
    }
   ],
   "source": [
    "# get all unique labels\n",
    "label = df.Type.unique()\n",
    "print(label)"
   ]
  },
  {
   "cell_type": "code",
   "execution_count": 7,
   "id": "4e0c17f2",
   "metadata": {},
   "outputs": [
    {
     "data": {
      "text/plain": [
       "<AxesSubplot:xlabel='Type', ylabel='Count'>"
      ]
     },
     "execution_count": 7,
     "metadata": {},
     "output_type": "execute_result"
    },
    {
     "data": {
      "image/png": "[encoded data removed]",
      "text/plain": [
       "<Figure size 432x288 with 1 Axes>"
      ]
     },
     "metadata": {
      "needs_background": "light"
     },
     "output_type": "display_data"
    }
   ],
   "source": [
    "# Plot histogram of variable types in the dataset\n",
    "import seaborn as sns\n",
    "sns.histplot(data=df, x=df.Type)"
   ]
  },
  {
   "cell_type": "markdown",
   "id": "b3525419",
   "metadata": {},
   "source": [
    "## Various functions to create multiple classifiers"
   ]
  },
  {
   "cell_type": "code",
   "execution_count": 8,
   "id": "261ae79d",
   "metadata": {},
   "outputs": [],
   "source": [
    "def multiple_to_2labels(df,variable_type):\n",
    "    \"\"\"\n",
    "    converts multiple labels for diffrent variable types to only two labels for one vs all classifier.\n",
    "    Returns 2 data frames: \n",
    "    1. Original data frame with new labels. \n",
    "    2. Dataframe with equal candidates of the two classes.\n",
    "    \"\"\"\n",
    "    OneClass = variable_type\n",
    "    df0 = df.copy()\n",
    "    df0.loc[df0.Type != OneClass,'Type'] = 'Other'\n",
    "    df1 = df0[df0.Type == 'Other']\n",
    "    df2 = df0[df0.Type == OneClass]\n",
    "\n",
    "    df3 = df1.sample(n=1000, random_state=1) # balance data type by only selecting 1000 of other type\n",
    "    frames = [df2,df3]\n",
    "    df_onevsall = pd.concat(frames)\n",
    "    return df0, df_onevsall"
   ]
  },
  {
   "cell_type": "code",
   "execution_count": 9,
   "id": "5f12dbb3",
   "metadata": {},
   "outputs": [],
   "source": [
    "from sklearn import preprocessing\n",
    "from sklearn.model_selection import train_test_split\n",
    "def preprocess_data(df):\n",
    "    \"\"\"\n",
    "    Preprocess data for one vs all classifier and split it to train/test data\n",
    "    \"\"\"\n",
    "    # Map string labels to numbers\n",
    "    label = df.Type\n",
    "\n",
    "    le = preprocessing.LabelEncoder()\n",
    "    le.fit(label)\n",
    "\n",
    "    # Drop columns that are not features\n",
    "    X = df\n",
    "    # Encode labels to form y labels\n",
    "    y = le.transform(df.Type)\n",
    "\n",
    "    # Split dataset into training set and test set\n",
    "    X_tr, X_ts, y_train, y_test = train_test_split(X, y, test_size=0.3) # 70% training and 30% test\n",
    "    X_train = X_tr.drop(['Type','sourceid', 'RAdeg','DEdeg','ID'],axis='columns')\n",
    "    X_test = X_ts.drop(['Type','sourceid', 'RAdeg','DEdeg','ID'],axis='columns')\n",
    "    return X_train, X_test, y_train, y_test\n",
    "    "
   ]
  },
  {
   "cell_type": "code",
   "execution_count": 10,
   "id": "a568c68f",
   "metadata": {},
   "outputs": [],
   "source": [
    "\n",
    "from sklearn import metrics\n",
    "# from sklearn.metrics import confusion_matrix\n",
    "def oneVSall_classiffier(name,model,X_train, X_test, y_train, y_test):\n",
    "    \"\"\"\n",
    "    Train Classifier using train dataset. Calculate classifier metrics using test dataset\n",
    "    \"\"\"\n",
    "    #Train the model using the training sets y_pred=clf.predict(X_test)\n",
    "    if name == (\"Isolation Forest\" or \"One Class SVM\"):\n",
    "        X_train = X_train[y_train==0]\n",
    "        model.fit(X_train)\n",
    "    else:\n",
    "        model.fit(X_train,y_train)\n",
    "\n",
    "    # Predict test data output\n",
    "    y_pred = model.predict(X_test)\n",
    "    \n",
    "    # Estimate model performance on test data\n",
    "    if name == \"Isolation Forest\" or \"One Class SVM\":\n",
    "        one_index = np.where(y_pred==1)\n",
    "        y_pred[one_index] = 1\n",
    "        negone_index = np.where(y_pred==-1)\n",
    "        y_pred[negone_index] = 0\n",
    "    accuracy = metrics.accuracy_score(y_test, y_pred)\n",
    "    confusion = metrics.confusion_matrix(y_test, y_pred)\n",
    "    precision = metrics.precision_score(y_test, y_pred)\n",
    "    recall = metrics.recall_score(y_test, y_pred)\n",
    "                                      \n",
    "    return model, accuracy, precision, recall, confusion"
   ]
  },
  {
   "cell_type": "markdown",
   "id": "588e7eb9",
   "metadata": {},
   "source": [
    "## Train and Compare Classifiers"
   ]
  },
  {
   "cell_type": "code",
   "execution_count": 11,
   "id": "efa98587",
   "metadata": {},
   "outputs": [],
   "source": [
    "# list of classification methods\n",
    "from sklearn.ensemble import RandomForestClassifier\n",
    "from sklearn.tree import DecisionTreeClassifier\n",
    "from sklearn.linear_model import LogisticRegression\n",
    "from sklearn.naive_bayes import GaussianNB\n",
    "from sklearn.ensemble import IsolationForest\n",
    "from xgboost import XGBClassifier\n",
    "from sklearn.svm import OneClassSVM\n",
    "\n",
    "names = [\"Isolation Forest\", \"One Class SVM\", \"XG Boost\",\"Random Forest\", \"Decision Tree\", \"Logistic Regression\", \"Naive Bayes\"]\n",
    "\n",
    "classifiers = [\n",
    "    IsolationForest(contamination=0.01),\n",
    "    OneClassSVM(gamma='scale', nu=0.01),\n",
    "    XGBClassifier(),\n",
    "    RandomForestClassifier(n_estimators=100),\n",
    "    DecisionTreeClassifier(criterion=\"gini\", max_depth=3),\n",
    "    LogisticRegression(max_iter = 500),\n",
    "    GaussianNB()]\n",
    "    \n"
   ]
  },
  {
   "cell_type": "code",
   "execution_count": 12,
   "id": "3b633b74",
   "metadata": {},
   "outputs": [
    {
     "name": "stdout",
     "output_type": "stream",
     "text": [
      "Isolation Forest\n",
      "BYDra\n",
      "EW\n",
      "SR\n",
      "RSCVN\n",
      "RR\n",
      "DSCT\n",
      "EA\n",
      "RRc\n",
      "Mira\n",
      "CEP\n",
      "One Class SVM\n",
      "BYDra\n",
      "EW\n",
      "SR\n",
      "RSCVN\n",
      "RR\n",
      "DSCT\n",
      "EA\n",
      "RRc\n",
      "Mira\n",
      "CEP\n",
      "XG Boost\n",
      "BYDra\n"
     ]
    },
    {
     "name": "stderr",
     "output_type": "stream",
     "text": [
      "/opt/anaconda3/lib/python3.8/site-packages/xgboost/sklearn.py:1146: UserWarning: The use of label encoder in XGBClassifier is deprecated and will be removed in a future release. To remove this warning, do the following: 1) Pass option use_label_encoder=False when constructing XGBClassifier object; and 2) Encode your labels (y) as integers starting with 0, i.e. 0, 1, 2, ..., [num_class - 1].\n",
      "  warnings.warn(label_encoder_deprecation_msg, UserWarning)\n"
     ]
    },
    {
     "name": "stdout",
     "output_type": "stream",
     "text": [
      "[12:30:12] WARNING: /Users/travis/build/dmlc/xgboost/src/learner.cc:1095: Starting in XGBoost 1.3.0, the default evaluation metric used with the objective 'binary:logistic' was changed from 'error' to 'logloss'. Explicitly set eval_metric if you'd like to restore the old behavior.\n",
      "EW\n"
     ]
    },
    {
     "name": "stderr",
     "output_type": "stream",
     "text": [
      "/opt/anaconda3/lib/python3.8/site-packages/xgboost/sklearn.py:1146: UserWarning: The use of label encoder in XGBClassifier is deprecated and will be removed in a future release. To remove this warning, do the following: 1) Pass option use_label_encoder=False when constructing XGBClassifier object; and 2) Encode your labels (y) as integers starting with 0, i.e. 0, 1, 2, ..., [num_class - 1].\n",
      "  warnings.warn(label_encoder_deprecation_msg, UserWarning)\n"
     ]
    },
    {
     "name": "stdout",
     "output_type": "stream",
     "text": [
      "[12:30:26] WARNING: /Users/travis/build/dmlc/xgboost/src/learner.cc:1095: Starting in XGBoost 1.3.0, the default evaluation metric used with the objective 'binary:logistic' was changed from 'error' to 'logloss'. Explicitly set eval_metric if you'd like to restore the old behavior.\n",
      "SR\n"
     ]
    },
    {
     "name": "stderr",
     "output_type": "stream",
     "text": [
      "/opt/anaconda3/lib/python3.8/site-packages/xgboost/sklearn.py:1146: UserWarning: The use of label encoder in XGBClassifier is deprecated and will be removed in a future release. To remove this warning, do the following: 1) Pass option use_label_encoder=False when constructing XGBClassifier object; and 2) Encode your labels (y) as integers starting with 0, i.e. 0, 1, 2, ..., [num_class - 1].\n",
      "  warnings.warn(label_encoder_deprecation_msg, UserWarning)\n"
     ]
    },
    {
     "name": "stdout",
     "output_type": "stream",
     "text": [
      "[12:30:41] WARNING: /Users/travis/build/dmlc/xgboost/src/learner.cc:1095: Starting in XGBoost 1.3.0, the default evaluation metric used with the objective 'binary:logistic' was changed from 'error' to 'logloss'. Explicitly set eval_metric if you'd like to restore the old behavior.\n",
      "RSCVN\n",
      "[12:30:53] WARNING: /Users/travis/build/dmlc/xgboost/src/learner.cc:1095: Starting in XGBoost 1.3.0, the default evaluation metric used with the objective 'binary:logistic' was changed from 'error' to 'logloss'. Explicitly set eval_metric if you'd like to restore the old behavior.\n"
     ]
    },
    {
     "name": "stderr",
     "output_type": "stream",
     "text": [
      "/opt/anaconda3/lib/python3.8/site-packages/xgboost/sklearn.py:1146: UserWarning: The use of label encoder in XGBClassifier is deprecated and will be removed in a future release. To remove this warning, do the following: 1) Pass option use_label_encoder=False when constructing XGBClassifier object; and 2) Encode your labels (y) as integers starting with 0, i.e. 0, 1, 2, ..., [num_class - 1].\n",
      "  warnings.warn(label_encoder_deprecation_msg, UserWarning)\n"
     ]
    },
    {
     "name": "stdout",
     "output_type": "stream",
     "text": [
      "RR\n",
      "[12:31:09] WARNING: /Users/travis/build/dmlc/xgboost/src/learner.cc:1095: Starting in XGBoost 1.3.0, the default evaluation metric used with the objective 'binary:logistic' was changed from 'error' to 'logloss'. Explicitly set eval_metric if you'd like to restore the old behavior.\n"
     ]
    },
    {
     "name": "stderr",
     "output_type": "stream",
     "text": [
      "/opt/anaconda3/lib/python3.8/site-packages/xgboost/sklearn.py:1146: UserWarning: The use of label encoder in XGBClassifier is deprecated and will be removed in a future release. To remove this warning, do the following: 1) Pass option use_label_encoder=False when constructing XGBClassifier object; and 2) Encode your labels (y) as integers starting with 0, i.e. 0, 1, 2, ..., [num_class - 1].\n",
      "  warnings.warn(label_encoder_deprecation_msg, UserWarning)\n"
     ]
    },
    {
     "name": "stdout",
     "output_type": "stream",
     "text": [
      "DSCT\n"
     ]
    },
    {
     "name": "stderr",
     "output_type": "stream",
     "text": [
      "/opt/anaconda3/lib/python3.8/site-packages/xgboost/sklearn.py:1146: UserWarning: The use of label encoder in XGBClassifier is deprecated and will be removed in a future release. To remove this warning, do the following: 1) Pass option use_label_encoder=False when constructing XGBClassifier object; and 2) Encode your labels (y) as integers starting with 0, i.e. 0, 1, 2, ..., [num_class - 1].\n",
      "  warnings.warn(label_encoder_deprecation_msg, UserWarning)\n"
     ]
    },
    {
     "name": "stdout",
     "output_type": "stream",
     "text": [
      "[12:31:23] WARNING: /Users/travis/build/dmlc/xgboost/src/learner.cc:1095: Starting in XGBoost 1.3.0, the default evaluation metric used with the objective 'binary:logistic' was changed from 'error' to 'logloss'. Explicitly set eval_metric if you'd like to restore the old behavior.\n",
      "EA\n"
     ]
    },
    {
     "name": "stderr",
     "output_type": "stream",
     "text": [
      "/opt/anaconda3/lib/python3.8/site-packages/xgboost/sklearn.py:1146: UserWarning: The use of label encoder in XGBClassifier is deprecated and will be removed in a future release. To remove this warning, do the following: 1) Pass option use_label_encoder=False when constructing XGBClassifier object; and 2) Encode your labels (y) as integers starting with 0, i.e. 0, 1, 2, ..., [num_class - 1].\n",
      "  warnings.warn(label_encoder_deprecation_msg, UserWarning)\n"
     ]
    },
    {
     "name": "stdout",
     "output_type": "stream",
     "text": [
      "[12:31:37] WARNING: /Users/travis/build/dmlc/xgboost/src/learner.cc:1095: Starting in XGBoost 1.3.0, the default evaluation metric used with the objective 'binary:logistic' was changed from 'error' to 'logloss'. Explicitly set eval_metric if you'd like to restore the old behavior.\n",
      "RRc\n"
     ]
    },
    {
     "name": "stderr",
     "output_type": "stream",
     "text": [
      "/opt/anaconda3/lib/python3.8/site-packages/xgboost/sklearn.py:1146: UserWarning: The use of label encoder in XGBClassifier is deprecated and will be removed in a future release. To remove this warning, do the following: 1) Pass option use_label_encoder=False when constructing XGBClassifier object; and 2) Encode your labels (y) as integers starting with 0, i.e. 0, 1, 2, ..., [num_class - 1].\n",
      "  warnings.warn(label_encoder_deprecation_msg, UserWarning)\n"
     ]
    },
    {
     "name": "stdout",
     "output_type": "stream",
     "text": [
      "[12:31:46] WARNING: /Users/travis/build/dmlc/xgboost/src/learner.cc:1095: Starting in XGBoost 1.3.0, the default evaluation metric used with the objective 'binary:logistic' was changed from 'error' to 'logloss'. Explicitly set eval_metric if you'd like to restore the old behavior.\n",
      "Mira\n",
      "[12:31:57] WARNING: /Users/travis/build/dmlc/xgboost/src/learner.cc:1095: Starting in XGBoost 1.3.0, the default evaluation metric used with the objective 'binary:logistic' was changed from 'error' to 'logloss'. Explicitly set eval_metric if you'd like to restore the old behavior.\n"
     ]
    },
    {
     "name": "stderr",
     "output_type": "stream",
     "text": [
      "/opt/anaconda3/lib/python3.8/site-packages/xgboost/sklearn.py:1146: UserWarning: The use of label encoder in XGBClassifier is deprecated and will be removed in a future release. To remove this warning, do the following: 1) Pass option use_label_encoder=False when constructing XGBClassifier object; and 2) Encode your labels (y) as integers starting with 0, i.e. 0, 1, 2, ..., [num_class - 1].\n",
      "  warnings.warn(label_encoder_deprecation_msg, UserWarning)\n"
     ]
    },
    {
     "name": "stdout",
     "output_type": "stream",
     "text": [
      "CEP\n",
      "[12:32:01] WARNING: /Users/travis/build/dmlc/xgboost/src/learner.cc:1095: Starting in XGBoost 1.3.0, the default evaluation metric used with the objective 'binary:logistic' was changed from 'error' to 'logloss'. Explicitly set eval_metric if you'd like to restore the old behavior.\n"
     ]
    },
    {
     "name": "stderr",
     "output_type": "stream",
     "text": [
      "/opt/anaconda3/lib/python3.8/site-packages/xgboost/sklearn.py:1146: UserWarning: The use of label encoder in XGBClassifier is deprecated and will be removed in a future release. To remove this warning, do the following: 1) Pass option use_label_encoder=False when constructing XGBClassifier object; and 2) Encode your labels (y) as integers starting with 0, i.e. 0, 1, 2, ..., [num_class - 1].\n",
      "  warnings.warn(label_encoder_deprecation_msg, UserWarning)\n"
     ]
    },
    {
     "name": "stdout",
     "output_type": "stream",
     "text": [
      "Random Forest\n",
      "BYDra\n",
      "EW\n",
      "SR\n",
      "RSCVN\n",
      "RR\n",
      "DSCT\n",
      "EA\n",
      "RRc\n",
      "Mira\n",
      "CEP\n",
      "Decision Tree\n",
      "BYDra\n",
      "EW\n",
      "SR\n",
      "RSCVN\n",
      "RR\n",
      "DSCT\n",
      "EA\n",
      "RRc\n",
      "Mira\n",
      "CEP\n",
      "Logistic Regression\n",
      "BYDra\n"
     ]
    },
    {
     "name": "stderr",
     "output_type": "stream",
     "text": [
      "/opt/anaconda3/lib/python3.8/site-packages/sklearn/linear_model/_logistic.py:763: ConvergenceWarning: lbfgs failed to converge (status=1):\n",
      "STOP: TOTAL NO. of ITERATIONS REACHED LIMIT.\n",
      "\n",
      "Increase the number of iterations (max_iter) or scale the data as shown in:\n",
      "    https://scikit-learn.org/stable/modules/preprocessing.html\n",
      "Please also refer to the documentation for alternative solver options:\n",
      "    https://scikit-learn.org/stable/modules/linear_model.html#logistic-regression\n",
      "  n_iter_i = _check_optimize_result(\n"
     ]
    },
    {
     "name": "stdout",
     "output_type": "stream",
     "text": [
      "EW\n"
     ]
    },
    {
     "name": "stderr",
     "output_type": "stream",
     "text": [
      "/opt/anaconda3/lib/python3.8/site-packages/sklearn/linear_model/_logistic.py:763: ConvergenceWarning: lbfgs failed to converge (status=1):\n",
      "STOP: TOTAL NO. of ITERATIONS REACHED LIMIT.\n",
      "\n",
      "Increase the number of iterations (max_iter) or scale the data as shown in:\n",
      "    https://scikit-learn.org/stable/modules/preprocessing.html\n",
      "Please also refer to the documentation for alternative solver options:\n",
      "    https://scikit-learn.org/stable/modules/linear_model.html#logistic-regression\n",
      "  n_iter_i = _check_optimize_result(\n"
     ]
    },
    {
     "name": "stdout",
     "output_type": "stream",
     "text": [
      "SR\n"
     ]
    },
    {
     "name": "stderr",
     "output_type": "stream",
     "text": [
      "/opt/anaconda3/lib/python3.8/site-packages/sklearn/linear_model/_logistic.py:763: ConvergenceWarning: lbfgs failed to converge (status=1):\n",
      "STOP: TOTAL NO. of ITERATIONS REACHED LIMIT.\n",
      "\n",
      "Increase the number of iterations (max_iter) or scale the data as shown in:\n",
      "    https://scikit-learn.org/stable/modules/preprocessing.html\n",
      "Please also refer to the documentation for alternative solver options:\n",
      "    https://scikit-learn.org/stable/modules/linear_model.html#logistic-regression\n",
      "  n_iter_i = _check_optimize_result(\n"
     ]
    },
    {
     "name": "stdout",
     "output_type": "stream",
     "text": [
      "RSCVN\n",
      "RR\n"
     ]
    },
    {
     "name": "stderr",
     "output_type": "stream",
     "text": [
      "/opt/anaconda3/lib/python3.8/site-packages/sklearn/linear_model/_logistic.py:763: ConvergenceWarning: lbfgs failed to converge (status=1):\n",
      "STOP: TOTAL NO. of ITERATIONS REACHED LIMIT.\n",
      "\n",
      "Increase the number of iterations (max_iter) or scale the data as shown in:\n",
      "    https://scikit-learn.org/stable/modules/preprocessing.html\n",
      "Please also refer to the documentation for alternative solver options:\n",
      "    https://scikit-learn.org/stable/modules/linear_model.html#logistic-regression\n",
      "  n_iter_i = _check_optimize_result(\n"
     ]
    },
    {
     "name": "stdout",
     "output_type": "stream",
     "text": [
      "DSCT\n"
     ]
    },
    {
     "name": "stderr",
     "output_type": "stream",
     "text": [
      "/opt/anaconda3/lib/python3.8/site-packages/sklearn/linear_model/_logistic.py:763: ConvergenceWarning: lbfgs failed to converge (status=1):\n",
      "STOP: TOTAL NO. of ITERATIONS REACHED LIMIT.\n",
      "\n",
      "Increase the number of iterations (max_iter) or scale the data as shown in:\n",
      "    https://scikit-learn.org/stable/modules/preprocessing.html\n",
      "Please also refer to the documentation for alternative solver options:\n",
      "    https://scikit-learn.org/stable/modules/linear_model.html#logistic-regression\n",
      "  n_iter_i = _check_optimize_result(\n"
     ]
    },
    {
     "name": "stdout",
     "output_type": "stream",
     "text": [
      "EA\n"
     ]
    },
    {
     "name": "stderr",
     "output_type": "stream",
     "text": [
      "/opt/anaconda3/lib/python3.8/site-packages/sklearn/linear_model/_logistic.py:763: ConvergenceWarning: lbfgs failed to converge (status=1):\n",
      "STOP: TOTAL NO. of ITERATIONS REACHED LIMIT.\n",
      "\n",
      "Increase the number of iterations (max_iter) or scale the data as shown in:\n",
      "    https://scikit-learn.org/stable/modules/preprocessing.html\n",
      "Please also refer to the documentation for alternative solver options:\n",
      "    https://scikit-learn.org/stable/modules/linear_model.html#logistic-regression\n",
      "  n_iter_i = _check_optimize_result(\n"
     ]
    },
    {
     "name": "stdout",
     "output_type": "stream",
     "text": [
      "RRc\n"
     ]
    },
    {
     "name": "stderr",
     "output_type": "stream",
     "text": [
      "/opt/anaconda3/lib/python3.8/site-packages/sklearn/linear_model/_logistic.py:763: ConvergenceWarning: lbfgs failed to converge (status=1):\n",
      "STOP: TOTAL NO. of ITERATIONS REACHED LIMIT.\n",
      "\n",
      "Increase the number of iterations (max_iter) or scale the data as shown in:\n",
      "    https://scikit-learn.org/stable/modules/preprocessing.html\n",
      "Please also refer to the documentation for alternative solver options:\n",
      "    https://scikit-learn.org/stable/modules/linear_model.html#logistic-regression\n",
      "  n_iter_i = _check_optimize_result(\n"
     ]
    },
    {
     "name": "stdout",
     "output_type": "stream",
     "text": [
      "Mira\n"
     ]
    },
    {
     "name": "stderr",
     "output_type": "stream",
     "text": [
      "/opt/anaconda3/lib/python3.8/site-packages/sklearn/linear_model/_logistic.py:763: ConvergenceWarning: lbfgs failed to converge (status=1):\n",
      "STOP: TOTAL NO. of ITERATIONS REACHED LIMIT.\n",
      "\n",
      "Increase the number of iterations (max_iter) or scale the data as shown in:\n",
      "    https://scikit-learn.org/stable/modules/preprocessing.html\n",
      "Please also refer to the documentation for alternative solver options:\n",
      "    https://scikit-learn.org/stable/modules/linear_model.html#logistic-regression\n",
      "  n_iter_i = _check_optimize_result(\n"
     ]
    },
    {
     "name": "stdout",
     "output_type": "stream",
     "text": [
      "CEP\n"
     ]
    },
    {
     "name": "stderr",
     "output_type": "stream",
     "text": [
      "/opt/anaconda3/lib/python3.8/site-packages/sklearn/linear_model/_logistic.py:763: ConvergenceWarning: lbfgs failed to converge (status=1):\n",
      "STOP: TOTAL NO. of ITERATIONS REACHED LIMIT.\n",
      "\n",
      "Increase the number of iterations (max_iter) or scale the data as shown in:\n",
      "    https://scikit-learn.org/stable/modules/preprocessing.html\n",
      "Please also refer to the documentation for alternative solver options:\n",
      "    https://scikit-learn.org/stable/modules/linear_model.html#logistic-regression\n",
      "  n_iter_i = _check_optimize_result(\n"
     ]
    },
    {
     "name": "stdout",
     "output_type": "stream",
     "text": [
      "Naive Bayes\n",
      "BYDra\n",
      "EW\n",
      "SR\n",
      "RSCVN\n",
      "RR\n",
      "DSCT\n",
      "EA\n",
      "RRc\n",
      "Mira\n",
      "CEP\n"
     ]
    }
   ],
   "source": [
    "# Run loop to train all classifiers and collect metrics in a dataframe\n",
    "accuracy ={}\n",
    "precision = {}\n",
    "recall = {}\n",
    "confusion ={}\n",
    "\n",
    "# create comparision dataframe\n",
    "header = pd.MultiIndex.from_product([names,\n",
    "                                     ['accuracy','precision','recall']],\n",
    "                                    names=['classifier','metric'])\n",
    "index_label = label\n",
    "pd_comparison = pd.DataFrame(data=None, index=index_label, columns=header, dtype=None, copy=False)\n",
    "\n",
    "# train models and collect metrics on test data\n",
    "for name, clf in zip(names, classifiers): # loop over different classifiers\n",
    "    print(name)\n",
    "    accuracy[name] = {}\n",
    "    precision[name] = {}\n",
    "    recall[name] = {}\n",
    "    confusion[name] ={}\n",
    "    for variable_type in label: #loop over different types of variable stars\n",
    "        print(variable_type)\n",
    "        df0, df_onevsall = multiple_to_2labels(df,variable_type)\n",
    "        X_train, X_test, y_train, y_test = preprocess_data(df_onevsall)\n",
    "        clf, accuracy[name][variable_type],precision[name][variable_type],recall[name][variable_type], confusion[name][variable_type] = oneVSall_classiffier(name,clf,X_train, X_test, y_train, y_test)\n",
    "    pd_comparison.loc[:,(name,'accuracy')] = list(accuracy[name].values())\n",
    "    pd_comparison.loc[:,(name,'precision')] = list(precision[name].values())\n",
    "    pd_comparison.loc[:,(name,'recall')] = list(recall[name].values())"
   ]
  },
  {
   "cell_type": "code",
   "execution_count": 13,
   "id": "bfee8703",
   "metadata": {},
   "outputs": [
    {
     "name": "stdout",
     "output_type": "stream",
     "text": [
      "[[268  24]\n",
      " [ 44 257]]\n"
     ]
    }
   ],
   "source": [
    "print(confusion['XG Boost']['EW'])"
   ]
  },
  {
   "cell_type": "code",
   "execution_count": 14,
   "id": "cde604b6",
   "metadata": {},
   "outputs": [
    {
     "name": "stdout",
     "output_type": "stream",
     "text": [
      "[[268  30]\n",
      " [ 23 258]]\n"
     ]
    }
   ],
   "source": [
    "print(confusion['Decision Tree']['RR'])"
   ]
  },
  {
   "cell_type": "code",
   "execution_count": 15,
   "id": "50a45832",
   "metadata": {},
   "outputs": [
    {
     "name": "stdout",
     "output_type": "stream",
     "text": [
      "[[  3 277]\n",
      " [  2 311]]\n"
     ]
    }
   ],
   "source": [
    "print(confusion['One Class SVM']['EW'])"
   ]
  },
  {
   "cell_type": "code",
   "execution_count": 16,
   "id": "fe547265",
   "metadata": {},
   "outputs": [
    {
     "name": "stdout",
     "output_type": "stream",
     "text": [
      "[[255  33]\n",
      " [ 61 251]]\n"
     ]
    }
   ],
   "source": [
    "print(confusion['XG Boost']['BYDra'])"
   ]
  },
  {
   "cell_type": "code",
   "execution_count": 17,
   "id": "a03915fe",
   "metadata": {},
   "outputs": [
    {
     "name": "stdout",
     "output_type": "stream",
     "text": [
      "[[278   8]\n",
      " [200 114]]\n"
     ]
    }
   ],
   "source": [
    "print(confusion['Naive Bayes']['BYDra'])"
   ]
  },
  {
   "cell_type": "code",
   "execution_count": 18,
   "id": "e92cb23c",
   "metadata": {},
   "outputs": [
    {
     "data": {
      "text/html": [
       "<div>\n",
       "<style scoped>\n",
       "    .dataframe tbody tr th:only-of-type {\n",
       "        vertical-align: middle;\n",
       "    }\n",
       "\n",
       "    .dataframe tbody tr th {\n",
       "        vertical-align: top;\n",
       "    }\n",
       "\n",
       "    .dataframe thead tr th {\n",
       "        text-align: left;\n",
       "    }\n",
       "</style>\n",
       "<table border=\"1\" class=\"dataframe\">\n",
       "  <thead>\n",
       "    <tr>\n",
       "      <th>classifier</th>\n",
       "      <th colspan=\"3\" halign=\"left\">Isolation Forest</th>\n",
       "      <th colspan=\"3\" halign=\"left\">One Class SVM</th>\n",
       "      <th colspan=\"3\" halign=\"left\">XG Boost</th>\n",
       "      <th colspan=\"3\" halign=\"left\">Random Forest</th>\n",
       "      <th colspan=\"3\" halign=\"left\">Decision Tree</th>\n",
       "      <th colspan=\"3\" halign=\"left\">Logistic Regression</th>\n",
       "      <th colspan=\"3\" halign=\"left\">Naive Bayes</th>\n",
       "    </tr>\n",
       "    <tr>\n",
       "      <th>metric</th>\n",
       "      <th>accuracy</th>\n",
       "      <th>precision</th>\n",
       "      <th>recall</th>\n",
       "      <th>accuracy</th>\n",
       "      <th>precision</th>\n",
       "      <th>recall</th>\n",
       "      <th>accuracy</th>\n",
       "      <th>precision</th>\n",
       "      <th>recall</th>\n",
       "      <th>accuracy</th>\n",
       "      <th>...</th>\n",
       "      <th>recall</th>\n",
       "      <th>accuracy</th>\n",
       "      <th>precision</th>\n",
       "      <th>recall</th>\n",
       "      <th>accuracy</th>\n",
       "      <th>precision</th>\n",
       "      <th>recall</th>\n",
       "      <th>accuracy</th>\n",
       "      <th>precision</th>\n",
       "      <th>recall</th>\n",
       "    </tr>\n",
       "  </thead>\n",
       "  <tbody>\n",
       "    <tr>\n",
       "      <th>BYDra</th>\n",
       "      <td>0.378333</td>\n",
       "      <td>0.425287</td>\n",
       "      <td>0.752542</td>\n",
       "      <td>0.491667</td>\n",
       "      <td>0.493289</td>\n",
       "      <td>0.989899</td>\n",
       "      <td>0.843333</td>\n",
       "      <td>0.883803</td>\n",
       "      <td>0.804487</td>\n",
       "      <td>0.840000</td>\n",
       "      <td>...</td>\n",
       "      <td>0.794613</td>\n",
       "      <td>0.795000</td>\n",
       "      <td>0.881423</td>\n",
       "      <td>0.705696</td>\n",
       "      <td>0.825000</td>\n",
       "      <td>0.913934</td>\n",
       "      <td>0.726384</td>\n",
       "      <td>0.653333</td>\n",
       "      <td>0.934426</td>\n",
       "      <td>0.363057</td>\n",
       "    </tr>\n",
       "    <tr>\n",
       "      <th>EW</th>\n",
       "      <td>0.413153</td>\n",
       "      <td>0.457944</td>\n",
       "      <td>0.808581</td>\n",
       "      <td>0.529511</td>\n",
       "      <td>0.528912</td>\n",
       "      <td>0.993610</td>\n",
       "      <td>0.885329</td>\n",
       "      <td>0.914591</td>\n",
       "      <td>0.853821</td>\n",
       "      <td>0.902192</td>\n",
       "      <td>...</td>\n",
       "      <td>0.882943</td>\n",
       "      <td>0.804384</td>\n",
       "      <td>0.767516</td>\n",
       "      <td>0.848592</td>\n",
       "      <td>0.706577</td>\n",
       "      <td>0.687050</td>\n",
       "      <td>0.687050</td>\n",
       "      <td>0.593592</td>\n",
       "      <td>0.984127</td>\n",
       "      <td>0.205298</td>\n",
       "    </tr>\n",
       "    <tr>\n",
       "      <th>SR</th>\n",
       "      <td>0.433396</td>\n",
       "      <td>0.433396</td>\n",
       "      <td>1.000000</td>\n",
       "      <td>0.433396</td>\n",
       "      <td>0.434535</td>\n",
       "      <td>0.982833</td>\n",
       "      <td>0.842402</td>\n",
       "      <td>0.850000</td>\n",
       "      <td>0.785714</td>\n",
       "      <td>0.829268</td>\n",
       "      <td>...</td>\n",
       "      <td>0.745690</td>\n",
       "      <td>0.733583</td>\n",
       "      <td>0.835821</td>\n",
       "      <td>0.482759</td>\n",
       "      <td>0.836773</td>\n",
       "      <td>0.839024</td>\n",
       "      <td>0.761062</td>\n",
       "      <td>0.499062</td>\n",
       "      <td>0.465066</td>\n",
       "      <td>0.906383</td>\n",
       "    </tr>\n",
       "    <tr>\n",
       "      <th>RSCVN</th>\n",
       "      <td>0.520000</td>\n",
       "      <td>0.518395</td>\n",
       "      <td>1.000000</td>\n",
       "      <td>0.513333</td>\n",
       "      <td>0.512733</td>\n",
       "      <td>0.983713</td>\n",
       "      <td>0.796667</td>\n",
       "      <td>0.788820</td>\n",
       "      <td>0.824675</td>\n",
       "      <td>0.801667</td>\n",
       "      <td>...</td>\n",
       "      <td>0.833866</td>\n",
       "      <td>0.741667</td>\n",
       "      <td>0.722397</td>\n",
       "      <td>0.773649</td>\n",
       "      <td>0.783333</td>\n",
       "      <td>0.722826</td>\n",
       "      <td>0.904762</td>\n",
       "      <td>0.668333</td>\n",
       "      <td>0.588235</td>\n",
       "      <td>0.964286</td>\n",
       "    </tr>\n",
       "    <tr>\n",
       "      <th>RR</th>\n",
       "      <td>0.509499</td>\n",
       "      <td>0.506087</td>\n",
       "      <td>1.000000</td>\n",
       "      <td>0.481865</td>\n",
       "      <td>0.473592</td>\n",
       "      <td>0.996296</td>\n",
       "      <td>0.943005</td>\n",
       "      <td>0.952555</td>\n",
       "      <td>0.928826</td>\n",
       "      <td>0.927461</td>\n",
       "      <td>...</td>\n",
       "      <td>0.934066</td>\n",
       "      <td>0.908463</td>\n",
       "      <td>0.895833</td>\n",
       "      <td>0.918149</td>\n",
       "      <td>0.898100</td>\n",
       "      <td>0.866894</td>\n",
       "      <td>0.927007</td>\n",
       "      <td>0.803109</td>\n",
       "      <td>0.703081</td>\n",
       "      <td>0.969112</td>\n",
       "    </tr>\n",
       "    <tr>\n",
       "      <th>DSCT</th>\n",
       "      <td>0.387584</td>\n",
       "      <td>0.428302</td>\n",
       "      <td>0.785467</td>\n",
       "      <td>0.491611</td>\n",
       "      <td>0.494881</td>\n",
       "      <td>0.976431</td>\n",
       "      <td>0.848993</td>\n",
       "      <td>0.850340</td>\n",
       "      <td>0.844595</td>\n",
       "      <td>0.813758</td>\n",
       "      <td>...</td>\n",
       "      <td>0.781250</td>\n",
       "      <td>0.771812</td>\n",
       "      <td>0.827731</td>\n",
       "      <td>0.674658</td>\n",
       "      <td>0.817114</td>\n",
       "      <td>0.851301</td>\n",
       "      <td>0.768456</td>\n",
       "      <td>0.656040</td>\n",
       "      <td>0.909910</td>\n",
       "      <td>0.341216</td>\n",
       "    </tr>\n",
       "    <tr>\n",
       "      <th>EA</th>\n",
       "      <td>0.400335</td>\n",
       "      <td>0.449905</td>\n",
       "      <td>0.780328</td>\n",
       "      <td>0.484087</td>\n",
       "      <td>0.489796</td>\n",
       "      <td>0.972973</td>\n",
       "      <td>0.953099</td>\n",
       "      <td>0.924092</td>\n",
       "      <td>0.982456</td>\n",
       "      <td>0.958124</td>\n",
       "      <td>...</td>\n",
       "      <td>0.954397</td>\n",
       "      <td>0.948074</td>\n",
       "      <td>0.960993</td>\n",
       "      <td>0.931271</td>\n",
       "      <td>0.949749</td>\n",
       "      <td>0.953988</td>\n",
       "      <td>0.953988</td>\n",
       "      <td>0.634841</td>\n",
       "      <td>0.981132</td>\n",
       "      <td>0.325000</td>\n",
       "    </tr>\n",
       "    <tr>\n",
       "      <th>RRc</th>\n",
       "      <td>0.498282</td>\n",
       "      <td>0.498282</td>\n",
       "      <td>1.000000</td>\n",
       "      <td>0.469072</td>\n",
       "      <td>0.464223</td>\n",
       "      <td>0.992537</td>\n",
       "      <td>0.917526</td>\n",
       "      <td>0.901099</td>\n",
       "      <td>0.921348</td>\n",
       "      <td>0.900344</td>\n",
       "      <td>...</td>\n",
       "      <td>0.893773</td>\n",
       "      <td>0.826460</td>\n",
       "      <td>0.801948</td>\n",
       "      <td>0.860627</td>\n",
       "      <td>0.867698</td>\n",
       "      <td>0.857143</td>\n",
       "      <td>0.878049</td>\n",
       "      <td>0.802405</td>\n",
       "      <td>0.731156</td>\n",
       "      <td>0.973244</td>\n",
       "    </tr>\n",
       "    <tr>\n",
       "      <th>Mira</th>\n",
       "      <td>0.508911</td>\n",
       "      <td>0.553879</td>\n",
       "      <td>0.862416</td>\n",
       "      <td>0.601980</td>\n",
       "      <td>0.601980</td>\n",
       "      <td>1.000000</td>\n",
       "      <td>0.994059</td>\n",
       "      <td>1.000000</td>\n",
       "      <td>0.989583</td>\n",
       "      <td>0.992079</td>\n",
       "      <td>...</td>\n",
       "      <td>0.993311</td>\n",
       "      <td>0.982178</td>\n",
       "      <td>0.990196</td>\n",
       "      <td>0.980583</td>\n",
       "      <td>1.000000</td>\n",
       "      <td>1.000000</td>\n",
       "      <td>1.000000</td>\n",
       "      <td>0.990099</td>\n",
       "      <td>0.993220</td>\n",
       "      <td>0.989865</td>\n",
       "    </tr>\n",
       "    <tr>\n",
       "      <th>CEP</th>\n",
       "      <td>0.453510</td>\n",
       "      <td>0.508584</td>\n",
       "      <td>0.800676</td>\n",
       "      <td>0.580645</td>\n",
       "      <td>0.581081</td>\n",
       "      <td>0.986885</td>\n",
       "      <td>0.933586</td>\n",
       "      <td>0.951140</td>\n",
       "      <td>0.935897</td>\n",
       "      <td>0.916509</td>\n",
       "      <td>...</td>\n",
       "      <td>0.925676</td>\n",
       "      <td>0.755218</td>\n",
       "      <td>0.867769</td>\n",
       "      <td>0.684039</td>\n",
       "      <td>0.882353</td>\n",
       "      <td>0.874576</td>\n",
       "      <td>0.911661</td>\n",
       "      <td>0.648956</td>\n",
       "      <td>0.945205</td>\n",
       "      <td>0.438095</td>\n",
       "    </tr>\n",
       "  </tbody>\n",
       "</table>\n",
       "<p>10 rows × 21 columns</p>\n",
       "</div>"
      ],
      "text/plain": [
       "classifier Isolation Forest                     One Class SVM            \\\n",
       "metric             accuracy precision    recall      accuracy precision   \n",
       "BYDra              0.378333  0.425287  0.752542      0.491667  0.493289   \n",
       "EW                 0.413153  0.457944  0.808581      0.529511  0.528912   \n",
       "SR                 0.433396  0.433396  1.000000      0.433396  0.434535   \n",
       "RSCVN              0.520000  0.518395  1.000000      0.513333  0.512733   \n",
       "RR                 0.509499  0.506087  1.000000      0.481865  0.473592   \n",
       "DSCT               0.387584  0.428302  0.785467      0.491611  0.494881   \n",
       "EA                 0.400335  0.449905  0.780328      0.484087  0.489796   \n",
       "RRc                0.498282  0.498282  1.000000      0.469072  0.464223   \n",
       "Mira               0.508911  0.553879  0.862416      0.601980  0.601980   \n",
       "CEP                0.453510  0.508584  0.800676      0.580645  0.581081   \n",
       "\n",
       "classifier            XG Boost                     Random Forest  ...  \\\n",
       "metric        recall  accuracy precision    recall      accuracy  ...   \n",
       "BYDra       0.989899  0.843333  0.883803  0.804487      0.840000  ...   \n",
       "EW          0.993610  0.885329  0.914591  0.853821      0.902192  ...   \n",
       "SR          0.982833  0.842402  0.850000  0.785714      0.829268  ...   \n",
       "RSCVN       0.983713  0.796667  0.788820  0.824675      0.801667  ...   \n",
       "RR          0.996296  0.943005  0.952555  0.928826      0.927461  ...   \n",
       "DSCT        0.976431  0.848993  0.850340  0.844595      0.813758  ...   \n",
       "EA          0.972973  0.953099  0.924092  0.982456      0.958124  ...   \n",
       "RRc         0.992537  0.917526  0.901099  0.921348      0.900344  ...   \n",
       "Mira        1.000000  0.994059  1.000000  0.989583      0.992079  ...   \n",
       "CEP         0.986885  0.933586  0.951140  0.935897      0.916509  ...   \n",
       "\n",
       "classifier           Decision Tree                     Logistic Regression  \\\n",
       "metric        recall      accuracy precision    recall            accuracy   \n",
       "BYDra       0.794613      0.795000  0.881423  0.705696            0.825000   \n",
       "EW          0.882943      0.804384  0.767516  0.848592            0.706577   \n",
       "SR          0.745690      0.733583  0.835821  0.482759            0.836773   \n",
       "RSCVN       0.833866      0.741667  0.722397  0.773649            0.783333   \n",
       "RR          0.934066      0.908463  0.895833  0.918149            0.898100   \n",
       "DSCT        0.781250      0.771812  0.827731  0.674658            0.817114   \n",
       "EA          0.954397      0.948074  0.960993  0.931271            0.949749   \n",
       "RRc         0.893773      0.826460  0.801948  0.860627            0.867698   \n",
       "Mira        0.993311      0.982178  0.990196  0.980583            1.000000   \n",
       "CEP         0.925676      0.755218  0.867769  0.684039            0.882353   \n",
       "\n",
       "classifier                     Naive Bayes                      \n",
       "metric     precision    recall    accuracy precision    recall  \n",
       "BYDra       0.913934  0.726384    0.653333  0.934426  0.363057  \n",
       "EW          0.687050  0.687050    0.593592  0.984127  0.205298  \n",
       "SR          0.839024  0.761062    0.499062  0.465066  0.906383  \n",
       "RSCVN       0.722826  0.904762    0.668333  0.588235  0.964286  \n",
       "RR          0.866894  0.927007    0.803109  0.703081  0.969112  \n",
       "DSCT        0.851301  0.768456    0.656040  0.909910  0.341216  \n",
       "EA          0.953988  0.953988    0.634841  0.981132  0.325000  \n",
       "RRc         0.857143  0.878049    0.802405  0.731156  0.973244  \n",
       "Mira        1.000000  1.000000    0.990099  0.993220  0.989865  \n",
       "CEP         0.874576  0.911661    0.648956  0.945205  0.438095  \n",
       "\n",
       "[10 rows x 21 columns]"
      ]
     },
     "execution_count": 18,
     "metadata": {},
     "output_type": "execute_result"
    }
   ],
   "source": [
    "# print the comparision table\n",
    "pd_comparison.head(20)"
   ]
  },
  {
   "cell_type": "code",
   "execution_count": 19,
   "id": "e1317135",
   "metadata": {},
   "outputs": [],
   "source": [
    "pd_comparison.to_csv('comparison_unbalanced.csv')"
   ]
  },
  {
   "cell_type": "code",
   "execution_count": null,
   "id": "209b757e",
   "metadata": {},
   "outputs": [],
   "source": []
  }
 ],
 "metadata": {
  "kernelspec": {
   "display_name": "Python 3",
   "language": "python",
   "name": "python3"
  },
  "language_info": {
   "codemirror_mode": {
    "name": "ipython",
    "version": 3
   },
   "file_extension": ".py",
   "mimetype": "text/x-python",
   "name": "python",
   "nbconvert_exporter": "python",
   "pygments_lexer": "ipython3",
   "version": "3.8.5"
  }
 },
 "nbformat": 4,
 "nbformat_minor": 5
}
