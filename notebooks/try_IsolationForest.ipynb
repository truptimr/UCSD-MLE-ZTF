{
 "cells": [
  {
   "cell_type": "code",
   "execution_count": 1,
   "id": "1674b80b",
   "metadata": {},
   "outputs": [],
   "source": [
    "#Load libraries\n",
    "%matplotlib inline\n",
    "import pandas as pd\n",
    "import matplotlib.pyplot as plt\n",
    "import numpy as np"
   ]
  },
  {
   "cell_type": "code",
   "execution_count": 2,
   "id": "8d1e670b",
   "metadata": {},
   "outputs": [],
   "source": [
    "df = pd.read_csv('../features/features10000.csv', header=None, skiprows=1)\n",
    "header = pd.read_csv('../features/features10000.csv', header=None, nrows=1)\n",
    "df.columns = header.iloc[0]"
   ]
  },
  {
   "cell_type": "code",
   "execution_count": 3,
   "id": "b8c0e3ad",
   "metadata": {},
   "outputs": [
    {
     "name": "stdout",
     "output_type": "stream",
     "text": [
      "['BYDra' 'EW' 'SR' 'RSCVN' 'RR' 'DSCT' 'EA' 'RRc' 'Mira' 'CEP']\n"
     ]
    }
   ],
   "source": [
    "# Drop rows with Blank values\n",
    "df.replace('', np.nan, inplace=True)\n",
    "df.dropna(inplace=True)\n",
    "# get all unique labels\n",
    "label = df.Type.unique()\n",
    "print(label)"
   ]
  },
  {
   "cell_type": "code",
   "execution_count": 4,
   "id": "4ea05dd9",
   "metadata": {},
   "outputs": [],
   "source": [
    "variable_type = 'EW'\n",
    "OneClass = variable_type\n",
    "df0 = df.copy()\n",
    "df0.loc[df0.Type != OneClass,'Type'] = 'Other'\n",
    "df1 = df0[df0.Type == 'Other']\n",
    "df2 = df0[df0.Type == OneClass]\n",
    "\n",
    "df3 = df1.sample(n=1000, random_state=1) # balance data type by only selecting 1000 of other type\n",
    "frames = [df2,df3]\n",
    "df_onevsall = pd.concat(frames)\n",
    "# return df0, df_onevsall"
   ]
  },
  {
   "cell_type": "code",
   "execution_count": 5,
   "id": "73201591",
   "metadata": {},
   "outputs": [],
   "source": [
    "from sklearn import preprocessing\n",
    "from sklearn.model_selection import train_test_split\n",
    "# Map string labels to numbers\n",
    "label = df0.Type\n",
    "\n",
    "le = preprocessing.LabelEncoder()\n",
    "le.fit(label)\n",
    "\n",
    "# Drop columns that are not features\n",
    "X = df0\n",
    "# Encode labels to form y labels\n",
    "y = le.transform(df0.Type)\n",
    "\n",
    "# Split dataset into training set and test set\n",
    "X_tr, X_ts, y_train, y_test = train_test_split(X, y, test_size=0.3) # 70% training and 30% test\n",
    "X_train = X_tr.drop(['Type','sourceid', 'RAdeg','DEdeg','ID'],axis='columns')\n",
    "X_test = X_ts.drop(['Type','sourceid', 'RAdeg','DEdeg','ID'],axis='columns')"
   ]
  },
  {
   "cell_type": "code",
   "execution_count": 6,
   "id": "98f24ceb",
   "metadata": {},
   "outputs": [],
   "source": [
    "from sklearn.ensemble import IsolationForest\n",
    "\n",
    "model = IsolationForest(contamination=0.01)\n",
    "X_train = X_train[y_train==0]\n",
    "y_train = y_train ==0\n",
    "model.fit(X_train)\n",
    "y_pred = model.predict(X_test)"
   ]
  },
  {
   "cell_type": "code",
   "execution_count": 7,
   "id": "72bfcd56",
   "metadata": {},
   "outputs": [],
   "source": [
    "from sklearn import metrics\n",
    "one_index = np.where(y_pred==1)\n",
    "y_pred[one_index] = 1\n",
    "negone_index = np.where(y_pred==-1)\n",
    "y_pred[negone_index] = 0\n",
    "accuracy = metrics.accuracy_score(y_test, y_pred)\n",
    "confusion = metrics.confusion_matrix(y_test, y_pred)\n",
    "precision = metrics.precision_score(y_test, y_pred)\n",
    "recall = metrics.recall_score(y_test, y_pred)"
   ]
  },
  {
   "cell_type": "code",
   "execution_count": 8,
   "id": "de0cba44",
   "metadata": {},
   "outputs": [
    {
     "name": "stdout",
     "output_type": "stream",
     "text": [
      "0.7359675036927622\n"
     ]
    }
   ],
   "source": [
    "print(accuracy)"
   ]
  },
  {
   "cell_type": "code",
   "execution_count": null,
   "id": "e3b7a61f",
   "metadata": {},
   "outputs": [],
   "source": []
  }
 ],
 "metadata": {
  "kernelspec": {
   "display_name": "Python 3",
   "language": "python",
   "name": "python3"
  },
  "language_info": {
   "codemirror_mode": {
    "name": "ipython",
    "version": 3
   },
   "file_extension": ".py",
   "mimetype": "text/x-python",
   "name": "python",
   "nbconvert_exporter": "python",
   "pygments_lexer": "ipython3",
   "version": "3.8.5"
  }
 },
 "nbformat": 4,
 "nbformat_minor": 5
}
