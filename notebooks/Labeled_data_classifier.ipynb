{
 "cells": [
  {
   "cell_type": "markdown",
   "id": "d2436235",
   "metadata": {},
   "source": [
    "# Description\n",
    "This notebook develops a classifier for variable stars detected with ZTF. The data is downloded from following url http://variables.cn:88/ztf/ \n",
    "The data is contains 23 features processed from the ZTF light curves and corresponding variable type label. The data contains 781,602 labled periodic variables. \n",
    "The notebook demonstrates the use of a simple random forest classifer for the Labeled data set."
   ]
  },
  {
   "cell_type": "markdown",
   "id": "494b9951",
   "metadata": {},
   "source": [
    "## Import modules"
   ]
  },
  {
   "cell_type": "code",
   "execution_count": 1,
   "id": "5337e9e8",
   "metadata": {},
   "outputs": [],
   "source": [
    "%matplotlib inline\n",
    "import pandas as pd\n",
    "import matplotlib.pyplot as plt\n",
    "import numpy as np"
   ]
  },
  {
   "cell_type": "markdown",
   "id": "a0ab4fac",
   "metadata": {},
   "source": [
    "## Import Labeled Data set"
   ]
  },
  {
   "cell_type": "code",
   "execution_count": 2,
   "id": "0e7afc4b",
   "metadata": {},
   "outputs": [],
   "source": [
    "widths = (8,7,4,13,43)\n",
    "header_pd = pd.read_fwf('../databases/Labeled_data.txt', widths = widths,skiprows=7, nrows=27)\n",
    "labeled_data = pd.read_csv('../databases/Labeled_data.txt', header=None, delim_whitespace=True, skiprows=37) # extract data\n",
    "labeled_data.columns = header_pd.iloc[:,3]"
   ]
  },
  {
   "cell_type": "code",
   "execution_count": 3,
   "id": "36599de9",
   "metadata": {},
   "outputs": [],
   "source": [
    "label = labeled_data.Type.unique()"
   ]
  },
  {
   "cell_type": "markdown",
   "id": "1ff2503e",
   "metadata": {},
   "source": [
    "## Variable Type Distribution in the data"
   ]
  },
  {
   "cell_type": "code",
   "execution_count": 4,
   "id": "b3cca185",
   "metadata": {},
   "outputs": [
    {
     "data": {
      "text/plain": [
       "<AxesSubplot:xlabel='Type', ylabel='Count'>"
      ]
     },
     "execution_count": 4,
     "metadata": {},
     "output_type": "execute_result"
    },
    {
     "data": {
      "image/png": "[encoded data removed]",
      "text/plain": [
       "<Figure size 432x288 with 1 Axes>"
      ]
     },
     "metadata": {
      "needs_background": "light"
     },
     "output_type": "display_data"
    }
   ],
   "source": [
    "import seaborn as sns\n",
    "sns.histplot(data=labeled_data, x=labeled_data.Type)"
   ]
  },
  {
   "cell_type": "markdown",
   "id": "77c3c6f9",
   "metadata": {},
   "source": [
    "# Train a Classifier"
   ]
  },
  {
   "cell_type": "markdown",
   "id": "272a01b1",
   "metadata": {},
   "source": [
    "## Split into training and test data"
   ]
  },
  {
   "cell_type": "code",
   "execution_count": 5,
   "id": "2b75601b",
   "metadata": {},
   "outputs": [],
   "source": [
    "from sklearn import preprocessing\n",
    "from sklearn.model_selection import train_test_split\n",
    "\n",
    "\n",
    "# for X data\n",
    "X = labeled_data\n",
    "\n",
    "# Encode labels to form y labels\n",
    "le = preprocessing.LabelEncoder()\n",
    "le.fit(label)\n",
    "y = le.transform(labeled_data.Type)\n",
    "\n",
    "# Split dataset into training set and test set\n",
    "X_tr, X_ts, y_train, y_test = train_test_split(X, y, test_size=0.3) # 70% training and 30% test\n",
    "X_train = X_tr.drop(['ID','SourceID', 'RAdeg','DEdeg', 'Type'],axis='columns')\n",
    "X_test = X_ts.drop(['ID','SourceID', 'RAdeg','DEdeg', 'Type'],axis='columns')"
   ]
  },
  {
   "cell_type": "markdown",
   "id": "7c31064d",
   "metadata": {},
   "source": [
    "## Distribution of variable star types in the training data"
   ]
  },
  {
   "cell_type": "code",
   "execution_count": 6,
   "id": "6238cfed",
   "metadata": {},
   "outputs": [
    {
     "data": {
      "text/plain": [
       "<AxesSubplot:xlabel='Type', ylabel='Count'>"
      ]
     },
     "execution_count": 6,
     "metadata": {},
     "output_type": "execute_result"
    },
    {
     "data": {
      "image/png": "[encoded data removed]",
      "text/plain": [
       "<Figure size 432x288 with 1 Axes>"
      ]
     },
     "metadata": {
      "needs_background": "light"
     },
     "output_type": "display_data"
    }
   ],
   "source": [
    "sns.histplot(data=labeled_data, x=X_tr.Type)"
   ]
  },
  {
   "cell_type": "markdown",
   "id": "52fe4dd9",
   "metadata": {},
   "source": [
    "## Train a simple Random Forest estimator"
   ]
  },
  {
   "cell_type": "code",
   "execution_count": 7,
   "id": "4e7e9e90",
   "metadata": {},
   "outputs": [
    {
     "name": "stdout",
     "output_type": "stream",
     "text": [
      "Accuracy: 0.9364554057684844\n"
     ]
    }
   ],
   "source": [
    "#Import Random Forest Model\n",
    "from sklearn.ensemble import RandomForestClassifier\n",
    "from sklearn import metrics\n",
    "\n",
    "#Create a Gaussian Classifier\n",
    "clf=RandomForestClassifier(n_estimators=100)\n",
    "\n",
    "#Train the model using the training sets y_pred=clf.predict(X_test)\n",
    "clf.fit(X_train,y_train)\n",
    "\n",
    "# Predict test data output\n",
    "y_pred=clf.predict(X_test)\n",
    "\n",
    "# Estimate model accuracy\n",
    "print(\"Accuracy:\",metrics.accuracy_score(y_test, y_pred))"
   ]
  },
  {
   "cell_type": "markdown",
   "id": "d183af1c",
   "metadata": {},
   "source": [
    "## Prediction Error distribution accross variable type class"
   ]
  },
  {
   "cell_type": "code",
   "execution_count": 8,
   "id": "b80adbf6",
   "metadata": {},
   "outputs": [
    {
     "data": {
      "text/plain": [
       "<AxesSubplot:xlabel='Test', ylabel='Count'>"
      ]
     },
     "execution_count": 8,
     "metadata": {},
     "output_type": "execute_result"
    },
    {
     "data": {
      "image/png": "[encoded data removed]",
      "text/plain": [
       "<Figure size 432x288 with 1 Axes>"
      ]
     },
     "metadata": {
      "needs_background": "light"
     },
     "output_type": "display_data"
    }
   ],
   "source": [
    "y_test_labels = le.inverse_transform(y_test)\n",
    "y_pred_labels = le.inverse_transform(y_pred)\n",
    "\n",
    "# Form a dataframe of test vs predicted labels\n",
    "pd_prediction = pd.DataFrame()\n",
    "pd_prediction['Test'] = y_test_labels\n",
    "pd_prediction['Pred'] = y_pred_labels\n",
    "pd_prediction['Accuracy'] = y_test_labels == y_pred_labels\n",
    "pd_prediction.head()\n",
    "\n",
    "sns.histplot(data=pd_prediction, x=pd_prediction.Test, hue = pd_prediction.Accuracy)\n",
    "\n",
    "# sns.histplot(data=pred_err, x=pred_err.Test)\n"
   ]
  },
  {
   "cell_type": "markdown",
   "id": "beb4ba73",
   "metadata": {},
   "source": [
    "# Visualize Feature importance"
   ]
  },
  {
   "cell_type": "code",
   "execution_count": 9,
   "id": "93fd358e",
   "metadata": {},
   "outputs": [
    {
     "data": {
      "text/html": [
       "<div>\n",
       "<style scoped>\n",
       "    .dataframe tbody tr th:only-of-type {\n",
       "        vertical-align: middle;\n",
       "    }\n",
       "\n",
       "    .dataframe tbody tr th {\n",
       "        vertical-align: top;\n",
       "    }\n",
       "\n",
       "    .dataframe thead th {\n",
       "        text-align: right;\n",
       "    }\n",
       "</style>\n",
       "<table border=\"1\" class=\"dataframe\">\n",
       "  <thead>\n",
       "    <tr style=\"text-align: right;\">\n",
       "      <th></th>\n",
       "      <th>--------</th>\n",
       "      <th>-------</th>\n",
       "      <th>----</th>\n",
       "      <th>-------------</th>\n",
       "      <th>-------------------------------------------</th>\n",
       "    </tr>\n",
       "  </thead>\n",
       "  <tbody>\n",
       "    <tr>\n",
       "      <th>0</th>\n",
       "      <td>1- 22</td>\n",
       "      <td>A22</td>\n",
       "      <td>---</td>\n",
       "      <td>ID</td>\n",
       "      <td>ZTF variables catalog identifier</td>\n",
       "    </tr>\n",
       "    <tr>\n",
       "      <th>1</th>\n",
       "      <td>24- 29</td>\n",
       "      <td>I6</td>\n",
       "      <td>---</td>\n",
       "      <td>SourceID</td>\n",
       "      <td>Internal source identifier</td>\n",
       "    </tr>\n",
       "    <tr>\n",
       "      <th>2</th>\n",
       "      <td>31- 39</td>\n",
       "      <td>F9.5</td>\n",
       "      <td>deg</td>\n",
       "      <td>RAdeg</td>\n",
       "      <td>Right Ascension in decimal degrees (J2000</td>\n",
       "    </tr>\n",
       "    <tr>\n",
       "      <th>3</th>\n",
       "      <td>41- 49</td>\n",
       "      <td>F9.5</td>\n",
       "      <td>deg</td>\n",
       "      <td>DEdeg</td>\n",
       "      <td>Declination in decimal degrees (J2000)</td>\n",
       "    </tr>\n",
       "    <tr>\n",
       "      <th>4</th>\n",
       "      <td>51- 61</td>\n",
       "      <td>F11.7</td>\n",
       "      <td>d</td>\n",
       "      <td>Per</td>\n",
       "      <td>Period</td>\n",
       "    </tr>\n",
       "    <tr>\n",
       "      <th>5</th>\n",
       "      <td>63- 68</td>\n",
       "      <td>F6.3</td>\n",
       "      <td>---</td>\n",
       "      <td>R21</td>\n",
       "      <td>Ratio of a_2_/a_1_</td>\n",
       "    </tr>\n",
       "    <tr>\n",
       "      <th>6</th>\n",
       "      <td>70- 74</td>\n",
       "      <td>F5.3</td>\n",
       "      <td>---</td>\n",
       "      <td>phi21</td>\n",
       "      <td>The {phi}_2_ - 2*{phi}_1_</td>\n",
       "    </tr>\n",
       "    <tr>\n",
       "      <th>7</th>\n",
       "      <td>76- 88</td>\n",
       "      <td>F13.7</td>\n",
       "      <td>d</td>\n",
       "      <td>T0</td>\n",
       "      <td>HJD of Minimum, HJD-2,400,000</td>\n",
       "    </tr>\n",
       "    <tr>\n",
       "      <th>8</th>\n",
       "      <td>90- 95</td>\n",
       "      <td>F6.3</td>\n",
       "      <td>mag</td>\n",
       "      <td>gmag</td>\n",
       "      <td>Mean ZTF g band magnitude</td>\n",
       "    </tr>\n",
       "    <tr>\n",
       "      <th>9</th>\n",
       "      <td>97-102</td>\n",
       "      <td>F6.3</td>\n",
       "      <td>mag</td>\n",
       "      <td>rmag</td>\n",
       "      <td>Mean ZTF r band magnitude</td>\n",
       "    </tr>\n",
       "    <tr>\n",
       "      <th>10</th>\n",
       "      <td>104-116</td>\n",
       "      <td>F13.7</td>\n",
       "      <td>d</td>\n",
       "      <td>Per_g</td>\n",
       "      <td>Period determined in g band</td>\n",
       "    </tr>\n",
       "    <tr>\n",
       "      <th>11</th>\n",
       "      <td>118-130</td>\n",
       "      <td>F13.7</td>\n",
       "      <td>d</td>\n",
       "      <td>Per_r</td>\n",
       "      <td>Period determined in r band</td>\n",
       "    </tr>\n",
       "    <tr>\n",
       "      <th>12</th>\n",
       "      <td>132-135</td>\n",
       "      <td>I4</td>\n",
       "      <td>---</td>\n",
       "      <td>Num_g</td>\n",
       "      <td>Number of detections in g band</td>\n",
       "    </tr>\n",
       "    <tr>\n",
       "      <th>13</th>\n",
       "      <td>137-140</td>\n",
       "      <td>I4</td>\n",
       "      <td>---</td>\n",
       "      <td>Num_r</td>\n",
       "      <td>Number of detections in r band</td>\n",
       "    </tr>\n",
       "    <tr>\n",
       "      <th>14</th>\n",
       "      <td>142-147</td>\n",
       "      <td>F6.3</td>\n",
       "      <td>---</td>\n",
       "      <td>R21_g</td>\n",
       "      <td>Ratio of a_2_/a_1_ in g band</td>\n",
       "    </tr>\n",
       "    <tr>\n",
       "      <th>15</th>\n",
       "      <td>149-154</td>\n",
       "      <td>F6.3</td>\n",
       "      <td>---</td>\n",
       "      <td>R21_r</td>\n",
       "      <td>Ratio of a_2_/a_1_ in r band</td>\n",
       "    </tr>\n",
       "    <tr>\n",
       "      <th>16</th>\n",
       "      <td>156-160</td>\n",
       "      <td>F5.3</td>\n",
       "      <td>---</td>\n",
       "      <td>phi21_g</td>\n",
       "      <td>The {phi}_2_ - 2*{phi}_1_ in g band</td>\n",
       "    </tr>\n",
       "    <tr>\n",
       "      <th>17</th>\n",
       "      <td>162-166</td>\n",
       "      <td>F5.3</td>\n",
       "      <td>---</td>\n",
       "      <td>phi21_r</td>\n",
       "      <td>The {phi}_2_ - 2*{phi}_1_ in r band</td>\n",
       "    </tr>\n",
       "    <tr>\n",
       "      <th>18</th>\n",
       "      <td>168-173</td>\n",
       "      <td>F6.3</td>\n",
       "      <td>---</td>\n",
       "      <td>R2_g</td>\n",
       "      <td>R-square in g band</td>\n",
       "    </tr>\n",
       "    <tr>\n",
       "      <th>19</th>\n",
       "      <td>175-180</td>\n",
       "      <td>F6.3</td>\n",
       "      <td>---</td>\n",
       "      <td>R2_r</td>\n",
       "      <td>R-square in r band</td>\n",
       "    </tr>\n",
       "    <tr>\n",
       "      <th>20</th>\n",
       "      <td>182-186</td>\n",
       "      <td>F5.3</td>\n",
       "      <td>mag</td>\n",
       "      <td>Amp_g</td>\n",
       "      <td>Amplitude in g band</td>\n",
       "    </tr>\n",
       "    <tr>\n",
       "      <th>21</th>\n",
       "      <td>188-192</td>\n",
       "      <td>F5.3</td>\n",
       "      <td>mag</td>\n",
       "      <td>Amp_r</td>\n",
       "      <td>Amplitude in r band</td>\n",
       "    </tr>\n",
       "    <tr>\n",
       "      <th>22</th>\n",
       "      <td>194-201</td>\n",
       "      <td>F8.3</td>\n",
       "      <td>[-]</td>\n",
       "      <td>log(FAP_g)</td>\n",
       "      <td>False alarm probability in g band</td>\n",
       "    </tr>\n",
       "    <tr>\n",
       "      <th>23</th>\n",
       "      <td>203-210</td>\n",
       "      <td>F8.3</td>\n",
       "      <td>[-]</td>\n",
       "      <td>log(FAP_r)</td>\n",
       "      <td>False alarm probability in r band</td>\n",
       "    </tr>\n",
       "    <tr>\n",
       "      <th>24</th>\n",
       "      <td>212-216</td>\n",
       "      <td>A5</td>\n",
       "      <td>---</td>\n",
       "      <td>Type</td>\n",
       "      <td>Variable type</td>\n",
       "    </tr>\n",
       "    <tr>\n",
       "      <th>25</th>\n",
       "      <td>218-222</td>\n",
       "      <td>F5.3</td>\n",
       "      <td>mag</td>\n",
       "      <td>Dmin_g</td>\n",
       "      <td>Minumum difference in g band</td>\n",
       "    </tr>\n",
       "    <tr>\n",
       "      <th>26</th>\n",
       "      <td>224-228</td>\n",
       "      <td>F5.3</td>\n",
       "      <td>mag</td>\n",
       "      <td>Dmin_r</td>\n",
       "      <td>Minumum difference in r band</td>\n",
       "    </tr>\n",
       "  </tbody>\n",
       "</table>\n",
       "</div>"
      ],
      "text/plain": [
       "   -------- ------- ---- -------------  \\\n",
       "0     1- 22     A22  ---            ID   \n",
       "1    24- 29      I6  ---      SourceID   \n",
       "2    31- 39    F9.5  deg         RAdeg   \n",
       "3    41- 49    F9.5  deg         DEdeg   \n",
       "4    51- 61   F11.7    d           Per   \n",
       "5    63- 68    F6.3  ---           R21   \n",
       "6    70- 74    F5.3  ---         phi21   \n",
       "7    76- 88   F13.7    d            T0   \n",
       "8    90- 95    F6.3  mag          gmag   \n",
       "9    97-102    F6.3  mag          rmag   \n",
       "10  104-116   F13.7    d         Per_g   \n",
       "11  118-130   F13.7    d         Per_r   \n",
       "12  132-135      I4  ---         Num_g   \n",
       "13  137-140      I4  ---         Num_r   \n",
       "14  142-147    F6.3  ---         R21_g   \n",
       "15  149-154    F6.3  ---         R21_r   \n",
       "16  156-160    F5.3  ---       phi21_g   \n",
       "17  162-166    F5.3  ---       phi21_r   \n",
       "18  168-173    F6.3  ---          R2_g   \n",
       "19  175-180    F6.3  ---          R2_r   \n",
       "20  182-186    F5.3  mag         Amp_g   \n",
       "21  188-192    F5.3  mag         Amp_r   \n",
       "22  194-201    F8.3  [-]    log(FAP_g)   \n",
       "23  203-210    F8.3  [-]    log(FAP_r)   \n",
       "24  212-216      A5  ---          Type   \n",
       "25  218-222    F5.3  mag        Dmin_g   \n",
       "26  224-228    F5.3  mag        Dmin_r   \n",
       "\n",
       "   -------------------------------------------  \n",
       "0             ZTF variables catalog identifier  \n",
       "1                   Internal source identifier  \n",
       "2    Right Ascension in decimal degrees (J2000  \n",
       "3       Declination in decimal degrees (J2000)  \n",
       "4                                       Period  \n",
       "5                           Ratio of a_2_/a_1_  \n",
       "6                    The {phi}_2_ - 2*{phi}_1_  \n",
       "7                HJD of Minimum, HJD-2,400,000  \n",
       "8                    Mean ZTF g band magnitude  \n",
       "9                    Mean ZTF r band magnitude  \n",
       "10                 Period determined in g band  \n",
       "11                 Period determined in r band  \n",
       "12              Number of detections in g band  \n",
       "13              Number of detections in r band  \n",
       "14                Ratio of a_2_/a_1_ in g band  \n",
       "15                Ratio of a_2_/a_1_ in r band  \n",
       "16         The {phi}_2_ - 2*{phi}_1_ in g band  \n",
       "17         The {phi}_2_ - 2*{phi}_1_ in r band  \n",
       "18                          R-square in g band  \n",
       "19                          R-square in r band  \n",
       "20                         Amplitude in g band  \n",
       "21                         Amplitude in r band  \n",
       "22           False alarm probability in g band  \n",
       "23           False alarm probability in r band  \n",
       "24                               Variable type  \n",
       "25                Minumum difference in g band  \n",
       "26                Minumum difference in r band  "
      ]
     },
     "execution_count": 9,
     "metadata": {},
     "output_type": "execute_result"
    }
   ],
   "source": [
    "# Feature Description\n",
    "widths = (8,7,4,13,43)\n",
    "header_pd = pd.read_fwf('../databases/Labeled_data.txt', widths = widths,skiprows=7, nrows=27)\n",
    "header_pd.head(30)"
   ]
  },
  {
   "cell_type": "code",
   "execution_count": 10,
   "id": "ada10f9f",
   "metadata": {},
   "outputs": [
    {
     "data": {
      "text/plain": [
       "-------------\n",
       "Per           0.159252\n",
       "Dmin_r        0.131074\n",
       "Per_r         0.118007\n",
       "Dmin_g        0.109639\n",
       "R21           0.070938\n",
       "Per_g         0.053362\n",
       "Amp_r         0.051922\n",
       "Amp_g         0.043743\n",
       "R21_r         0.042750\n",
       "phi21         0.030613\n",
       "R2_r          0.024559\n",
       "R2_g          0.024224\n",
       "phi21_r       0.023045\n",
       "R21_g         0.021984\n",
       "phi21_g       0.016086\n",
       "rmag          0.015516\n",
       "Num_g         0.013979\n",
       "gmag          0.012427\n",
       "log(FAP_g)    0.010667\n",
       "log(FAP_r)    0.009976\n",
       "Num_r         0.009019\n",
       "T0            0.007218\n",
       "dtype: float64"
      ]
     },
     "execution_count": 10,
     "metadata": {},
     "output_type": "execute_result"
    }
   ],
   "source": [
    "# feature importance\n",
    "feature_imp = pd.Series(clf.feature_importances_,index=X_train.columns).sort_values(ascending=False)\n",
    "feature_imp"
   ]
  },
  {
   "cell_type": "code",
   "execution_count": 11,
   "id": "24543ac0",
   "metadata": {
    "scrolled": true
   },
   "outputs": [
    {
     "name": "stderr",
     "output_type": "stream",
     "text": [
      "No handles with labels found to put in legend.\n"
     ]
    },
    {
     "data": {
      "image/png": "[encoded data removed]",
      "text/plain": [
       "<Figure size 432x288 with 1 Axes>"
      ]
     },
     "metadata": {
      "needs_background": "light"
     },
     "output_type": "display_data"
    }
   ],
   "source": [
    "# Creating a bar plot\n",
    "sns.barplot(x=feature_imp, y=feature_imp.index)\n",
    "# Add labels to your graph\n",
    "plt.xlabel('Feature Importance Score')\n",
    "plt.ylabel('Features')\n",
    "plt.title(\"Visualizing Important Features\")\n",
    "plt.legend()\n",
    "plt.show()"
   ]
  },
  {
   "cell_type": "markdown",
   "id": "ca19f7a7",
   "metadata": {},
   "source": [
    "# Plot location of test data"
   ]
  },
  {
   "cell_type": "code",
   "execution_count": 12,
   "id": "a7663057",
   "metadata": {},
   "outputs": [
    {
     "data": {
      "text/plain": [
       "<matplotlib.collections.PathCollection at 0x7fada0886850>"
      ]
     },
     "execution_count": 12,
     "metadata": {},
     "output_type": "execute_result"
    },
    {
     "data": {
      "image/png": "[encoded data removed]",
      "text/plain": [
       "<Figure size 576x432 with 1 Axes>"
      ]
     },
     "metadata": {
      "needs_background": "light"
     },
     "output_type": "display_data"
    }
   ],
   "source": [
    "import astropy.coordinates as coord\n",
    "import astropy.units as u\n",
    "\n",
    "ra = coord.Angle(X_ts.RAdeg, unit=u.degree)\n",
    "\n",
    "ra = ra.wrap_at(180*u.degree)\n",
    "dec = coord.Angle(X_ts.DEdeg, unit=u.degree)\n",
    "\n",
    "fig = plt.figure(figsize=(8,6))\n",
    "ax = fig.add_subplot(111, projection=\"mollweide\")\n",
    "ax.scatter(ra.radian, dec.radian)"
   ]
  },
  {
   "cell_type": "markdown",
   "id": "94aae0c4",
   "metadata": {},
   "source": [
    "# Hypertune the Random Forest Classifier"
   ]
  },
  {
   "cell_type": "code",
   "execution_count": 13,
   "id": "8ed271f6",
   "metadata": {},
   "outputs": [],
   "source": [
    "from sklearn.model_selection import RandomizedSearchCV# Number of trees in random forest\n",
    "n_estimators = [int(x) for x in np.linspace(start = 100, stop = 1000, num = 10)]\n",
    "# Number of features to consider at every split\n",
    "max_features = ['auto', 'sqrt']\n",
    "# Maximum number of levels in tree\n",
    "max_depth = [int(x) for x in np.linspace(10, 110, num = 11)]\n",
    "max_depth.append(None)\n",
    "# Minimum number of samples required to split a node\n",
    "min_samples_split = [2, 5, 10]\n",
    "# Minimum number of samples required at each leaf node\n",
    "min_samples_leaf = [1, 2, 4]\n",
    "# Method of selecting samples for training each tree\n",
    "bootstrap = [True, False]# Create the random grid\n",
    "random_grid = {'n_estimators': n_estimators,\n",
    "               'max_features': max_features,\n",
    "               'max_depth': max_depth,\n",
    "               'min_samples_split': min_samples_split,\n",
    "               'min_samples_leaf': min_samples_leaf,\n",
    "               'bootstrap': bootstrap}"
   ]
  },
  {
   "cell_type": "code",
   "execution_count": 14,
   "id": "502400fd",
   "metadata": {},
   "outputs": [
    {
     "name": "stdout",
     "output_type": "stream",
     "text": [
      "Fitting 3 folds for each of 5 candidates, totalling 15 fits\n"
     ]
    },
    {
     "data": {
      "text/plain": [
       "RandomizedSearchCV(cv=3, estimator=RandomForestClassifier(), n_iter=5,\n",
       "                   n_jobs=-1,\n",
       "                   param_distributions={'bootstrap': [True, False],\n",
       "                                        'max_depth': [10, 20, 30, 40, 50, 60,\n",
       "                                                      70, 80, 90, 100, 110,\n",
       "                                                      None],\n",
       "                                        'max_features': ['auto', 'sqrt'],\n",
       "                                        'min_samples_leaf': [1, 2, 4],\n",
       "                                        'min_samples_split': [2, 5, 10],\n",
       "                                        'n_estimators': [100, 200, 300, 400,\n",
       "                                                         500, 600, 700, 800,\n",
       "                                                         900, 1000]},\n",
       "                   random_state=42, verbose=2)"
      ]
     },
     "execution_count": 14,
     "metadata": {},
     "output_type": "execute_result"
    }
   ],
   "source": [
    "# Use the random grid to search for best hyperparameters\n",
    "# First create the base model to tune\n",
    "rf = RandomForestClassifier()\n",
    "# Random search of parameters, using 3 fold cross validation, \n",
    "# search across 100 different combinations, and use all available cores\n",
    "rf_random = RandomizedSearchCV(estimator = rf, param_distributions = random_grid, n_iter = 5, cv = 3, verbose=2, random_state=42, n_jobs = -1)# Fit the random search model\n",
    "rf_random.fit(X_train, y_train)"
   ]
  },
  {
   "cell_type": "code",
   "execution_count": 15,
   "id": "200f6a7b",
   "metadata": {},
   "outputs": [
    {
     "name": "stdout",
     "output_type": "stream",
     "text": [
      "Accuracy: 0.9372827649148545\n"
     ]
    }
   ],
   "source": [
    "best_rf = rf_random.best_estimator_\n",
    "# Predict test data output\n",
    "y_pred=best_rf.predict(X_test)\n",
    "# Estimate model accuracy\n",
    "print(\"Accuracy:\",metrics.accuracy_score(y_test, y_pred))"
   ]
  }
 ],
 "metadata": {
  "kernelspec": {
   "display_name": "Python 3",
   "language": "python",
   "name": "python3"
  },
  "language_info": {
   "codemirror_mode": {
    "name": "ipython",
    "version": 3
   },
   "file_extension": ".py",
   "mimetype": "text/x-python",
   "name": "python",
   "nbconvert_exporter": "python",
   "pygments_lexer": "ipython3",
   "version": "3.8.5"
  }
 },
 "nbformat": 4,
 "nbformat_minor": 5
}
