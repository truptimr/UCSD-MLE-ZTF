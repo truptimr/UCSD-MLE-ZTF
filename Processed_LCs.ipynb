{
 "cells": [
  {
   "cell_type": "markdown",
   "id": "f7d22d7b",
   "metadata": {},
   "source": [
    "This notebook collectes 1000 light curves of each variable type from Xiaodian's ZTF labeled dataset"
   ]
  },
  {
   "cell_type": "code",
   "execution_count": null,
   "id": "5a55c6d1",
   "metadata": {},
   "outputs": [],
   "source": [
    "%matplotlib inline\n",
    "import pandas as pd\n",
    "import matplotlib.pyplot as plt\n",
    "import numpy as np\n",
    "import time\n",
    "import sqlalchemy as db"
   ]
  },
  {
   "cell_type": "markdown",
   "id": "30a45011",
   "metadata": {},
   "source": [
    "Xiaodian's ZTF labeled dataset feature and label table"
   ]
  },
  {
   "cell_type": "code",
   "execution_count": null,
   "id": "aad6e7df",
   "metadata": {},
   "outputs": [],
   "source": [
    "widths = (8,7,4,13,43)\n",
    "header_pd = pd.read_fwf('Labeled_data.txt', widths = widths,skiprows=7, nrows=27)\n",
    "labeled_data = pd.read_csv('Labeled_data.txt', header=None, delim_whitespace=True, skiprows=36) # extract data\n",
    "labeled_data.columns = header_pd.iloc[:,3]\n",
    "labeled_data.head()"
   ]
  },
  {
   "cell_type": "code",
   "execution_count": null,
   "id": "eab10995",
   "metadata": {},
   "outputs": [],
   "source": [
    "label = labeled_data.Type.unique()\n",
    "label = np.delete(label, np.where(label == 'CEPII')) # CEPII has very few example so we ignore it\n",
    "print(label)"
   ]
  },
  {
   "cell_type": "markdown",
   "id": "500295ed",
   "metadata": {},
   "source": [
    "Download light curve csv file for fetaure and label row for 1000 of each label type. Store lightcurves in an SQLite database"
   ]
  },
  {
   "cell_type": "code",
   "execution_count": null,
   "id": "f23148fc",
   "metadata": {},
   "outputs": [],
   "source": [
    "engine = db.create_engine('sqlite:///save_LC_1000each.db', echo=False)\n",
    "sqlite_connection = engine.connect()\n",
    "for variable_type in label:\n",
    "    print(str(variable_type))\n",
    "    df = labeled_data[labeled_data['Type']==variable_type]\n",
    "    for i in range(0,1000):\n",
    "        k = df.index[i]\n",
    "        url = 'http://variables.cn:88/seldataz.php?SourceID=' + str(df.SourceID[k])   \n",
    "        try:\n",
    "            lc = pd.read_csv(url, header='infer')\n",
    "            lc['Type'] = variable_type\n",
    "            lc['ID'] = labeled_data.ID[k]\n",
    "        except:\n",
    "            continue\n",
    "        sqlite_table = labeled_data.ID[k]\n",
    "        lc.to_sql(sqlite_table, sqlite_connection, if_exists='replace')\n",
    "        print(i)"
   ]
  },
  {
   "cell_type": "code",
   "execution_count": null,
   "id": "1374808a",
   "metadata": {},
   "outputs": [],
   "source": []
  }
 ],
 "metadata": {
  "kernelspec": {
   "display_name": "Python 3",
   "language": "python",
   "name": "python3"
  },
  "language_info": {
   "codemirror_mode": {
    "name": "ipython",
    "version": 3
   },
   "file_extension": ".py",
   "mimetype": "text/x-python",
   "name": "python",
   "nbconvert_exporter": "python",
   "pygments_lexer": "ipython3",
   "version": "3.8.5"
  }
 },
 "nbformat": 4,
 "nbformat_minor": 5
}
