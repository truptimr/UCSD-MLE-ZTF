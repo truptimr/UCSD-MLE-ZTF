{
 "cells": [
  {
   "cell_type": "code",
   "execution_count": null,
   "id": "5a55c6d1",
   "metadata": {},
   "outputs": [],
   "source": [
    "%matplotlib inline\n",
    "import pandas as pd\n",
    "import matplotlib.pyplot as plt\n",
    "import numpy as np\n",
    "import time\n",
    "import sqlalchemy as db"
   ]
  },
  {
   "cell_type": "code",
   "execution_count": null,
   "id": "aad6e7df",
   "metadata": {},
   "outputs": [],
   "source": [
    "widths = (8,7,4,13,43)\n",
    "header_pd = pd.read_fwf('Labeled_data.txt', widths = widths,skiprows=7, nrows=27)\n",
    "labeled_data = pd.read_csv('Labeled_data.txt', header=None, delim_whitespace=True, skiprows=37) # extract data\n",
    "labeled_data.columns = header_pd.iloc[:,3]\n",
    "labeled_data.head()\n",
    "#shuffle data\n",
    "# labeled_data_sampled = labeled_data.sample(n=10000, random_state=1)"
   ]
  },
  {
   "cell_type": "code",
   "execution_count": null,
   "id": "542e1d47",
   "metadata": {},
   "outputs": [],
   "source": [
    "\n",
    "engine = db.create_engine('sqlite:///save_LC_procssed.db', echo=False)\n",
    "sqlite_connection = engine.connect()\n",
    "for i in range(1,10000):\n",
    "    try:\n",
    "        url = 'http://variables.cn:88/seldataz.php?SourceID=' + str(i)\n",
    "    except:\n",
    "        pass\n",
    "    lc = pd.read_csv(url, header='infer')\n",
    "    sqlite_table = labeled_data.ID[i]\n",
    "    lc.to_sql(sqlite_table, sqlite_connection, if_exists='replace')\n",
    "    print(i)\n",
    "    "
   ]
  },
  {
   "cell_type": "code",
   "execution_count": null,
   "id": "24eae4f0",
   "metadata": {},
   "outputs": [],
   "source": []
  }
 ],
 "metadata": {
  "kernelspec": {
   "display_name": "Python 3",
   "language": "python",
   "name": "python3"
  },
  "language_info": {
   "codemirror_mode": {
    "name": "ipython",
    "version": 3
   },
   "file_extension": ".py",
   "mimetype": "text/x-python",
   "name": "python",
   "nbconvert_exporter": "python",
   "pygments_lexer": "ipython3",
   "version": "3.8.5"
  }
 },
 "nbformat": 4,
 "nbformat_minor": 5
}
