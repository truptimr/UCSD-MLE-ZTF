{
 "cells": [
  {
   "cell_type": "code",
   "execution_count": null,
   "id": "c05308fe",
   "metadata": {},
   "outputs": [],
   "source": [
    "%matplotlib inline\n",
    "import pandas as pd\n",
    "import matplotlib.pyplot as plt\n",
    "import numpy as np\n",
    "import time\n",
    "from sqlalchemy import create_engine"
   ]
  },
  {
   "cell_type": "code",
   "execution_count": null,
   "id": "075ef1a1",
   "metadata": {},
   "outputs": [],
   "source": [
    "widths = (8,7,4,13,43)\n",
    "header_pd = pd.read_fwf('Labeled_data.txt', widths = widths,skiprows=7, nrows=27)\n",
    "labeled_data = pd.read_csv('Labeled_data.txt', header=None, delim_whitespace=True, skiprows=37) # extract data\n",
    "labeled_data.columns = header_pd.iloc[:,3]\n",
    "labeled_data.head()\n",
    "#shuffle data\n",
    "labeled_data_sampled = labeled_data.sample(n=1000, random_state=1)"
   ]
  },
  {
   "cell_type": "code",
   "execution_count": null,
   "id": "2b43114e",
   "metadata": {},
   "outputs": [],
   "source": [
    "# lightcurves = {} # empty dictionary to hold dataframe for each light curve\n",
    "circle_radius = 0.00028 # 1 arcsec = 0.00028 degress\n",
    "t_format = \"ipac_table\"\n",
    "table_format = \"FORMAT=\" + str(t_format)\n",
    "flag_mask = 32768\n",
    "mask = \"BAD_CATFLAGS_MASK=\" + str(flag_mask)\n",
    "collect=\"COLLECTION=\"+\"ztf_dr2\"\n",
    "numobs = \"NOBS_MIN=20\"\n",
    "filter_band = \"g\"\n",
    "label = []\n",
    "SourceID =[]\n",
    "start_time = time.time()\n",
    "k = 0\n",
    "for i in labeled_data_sampled.index:\n",
    "    label.append(labeled_data_sampled.Type[i])\n",
    "    SourceID.append(labeled_data_sampled.SourceID[i])\n",
    "    ra = labeled_data_sampled.RAdeg[i]\n",
    "    dec = labeled_data_sampled.DEdeg[i]\n",
    "    circle = \"POS=CIRCLE\"+\"+\"+str(ra)+\"+\"+str(dec)+\"+\"+str(circle_radius)\n",
    "    band = \"BANDNAME=\"+ filter_band\n",
    "    params = circle + \"&\" +  mask + \"&\" + numobs + \"&\" + collect + \"&\" + table_format\n",
    "    \n",
    "    url= \"https://irsa.ipac.caltech.edu/cgi-bin/ZTF/nph_light_curves?\" + params\n",
    "    data = pd.read_csv(url, header=None, delim_whitespace=True, skiprows=55) # extract data\n",
    "    header = pd.read_csv(url, header=None, sep='|', skiprows=50,usecols=range(1,25), nrows=1)\n",
    "    data.columns = header.iloc[0].str.strip()\n",
    "    lc = data\n",
    "    \n",
    "\n",
    "end_time = time.time()# total time taken\n",
    "print(f\"Runtime of the program is {end_time - start_time}\")"
   ]
  },
  {
   "cell_type": "code",
   "execution_count": null,
   "id": "248b39ba",
   "metadata": {},
   "outputs": [],
   "source": []
  }
 ],
 "metadata": {
  "kernelspec": {
   "display_name": "Python 3",
   "language": "python",
   "name": "python3"
  },
  "language_info": {
   "codemirror_mode": {
    "name": "ipython",
    "version": 3
   },
   "file_extension": ".py",
   "mimetype": "text/x-python",
   "name": "python",
   "nbconvert_exporter": "python",
   "pygments_lexer": "ipython3",
   "version": "3.8.5"
  }
 },
 "nbformat": 4,
 "nbformat_minor": 5
}
