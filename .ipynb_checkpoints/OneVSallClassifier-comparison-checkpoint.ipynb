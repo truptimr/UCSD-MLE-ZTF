{
 "cells": [
  {
   "cell_type": "markdown",
   "id": "dcce19ed",
   "metadata": {},
   "source": [
    "## Objective:\n",
    "- Fit a One vs All Random Forest Classifier for variable star data set imported from Xiaodian's website. \n",
    "- Show two examples variable star classes: one of with good accuracy outcome and one with moderate accuracy outcome"
   ]
  },
  {
   "cell_type": "code",
   "execution_count": 1,
   "id": "6cdab3f2",
   "metadata": {},
   "outputs": [],
   "source": [
    "%matplotlib inline\n",
    "import pandas as pd\n",
    "import matplotlib.pyplot as plt\n",
    "import numpy as np"
   ]
  },
  {
   "cell_type": "markdown",
   "id": "96ff13e0",
   "metadata": {},
   "source": [
    "## Complete features and lables table from Xiadian's website"
   ]
  },
  {
   "cell_type": "code",
   "execution_count": 2,
   "id": "6f99040f",
   "metadata": {},
   "outputs": [
    {
     "name": "stdout",
     "output_type": "stream",
     "text": [
      "['BYDra' 'EW' 'SR' 'RSCVN' 'RR' 'DSCT' 'EA' 'Mira' 'RRc' 'CEP']\n"
     ]
    }
   ],
   "source": [
    "widths = (8,7,4,13,43)\n",
    "header_pd = pd.read_fwf('Labeled_data.txt', widths = widths,skiprows=7, nrows=27)\n",
    "labeled_data = pd.read_csv('Labeled_data.txt', header=None, delim_whitespace=True, skiprows=36) # extract data\n",
    "labeled_data.columns = header_pd.iloc[:,3]\n",
    "labeled_data.head()\n",
    "label = labeled_data.Type.unique()\n",
    "label = np.delete(label, np.where(label == 'CEPII')) # CEPII has very few example so we ignore it\n",
    "print(label)"
   ]
  },
  {
   "cell_type": "markdown",
   "id": "f12dbb2a",
   "metadata": {},
   "source": [
    "## Import features extracted from light curves\n",
    "These features are caluclated on 1000 light curves of each variable type. The light curves are imported from variables.cn:88/\n",
    "Feature list\n",
    "- mean : mean of the light curve\n",
    "- wmean : weight mean of the light curve\n",
    "- MAD : deviation about the median\n",
    "- IQR : inter quartile percentile of the light curve\n",
    "- f60 : 60 percentile  of light curve\n",
    "- f70 : 70 percentile of the light curve\n",
    "- f80 : 80 percentile of the light curve\n",
    "- f90 : 90 percentile of the light curve\n",
    "- skew : skewness of the light curve\n",
    "- kurtosis : kurtosis of the light curve\n",
    "- welsk_k, welsh_j : welsh and staton J and K statistics of the light curve\n",
    "- g_ : g band filter\n",
    "- r_ : r band filter"
   ]
  },
  {
   "cell_type": "code",
   "execution_count": 3,
   "id": "6847d92f",
   "metadata": {},
   "outputs": [],
   "source": [
    "df = pd.read_csv('features10000.csv', header=None, skiprows=1)\n",
    "header = pd.read_csv('features10000.csv', header=None, nrows=1)\n",
    "df.columns = header.iloc[0]"
   ]
  },
  {
   "cell_type": "code",
   "execution_count": 4,
   "id": "25639401",
   "metadata": {},
   "outputs": [
    {
     "data": {
      "text/html": [
       "<div>\n",
       "<style scoped>\n",
       "    .dataframe tbody tr th:only-of-type {\n",
       "        vertical-align: middle;\n",
       "    }\n",
       "\n",
       "    .dataframe tbody tr th {\n",
       "        vertical-align: top;\n",
       "    }\n",
       "\n",
       "    .dataframe thead th {\n",
       "        text-align: right;\n",
       "    }\n",
       "</style>\n",
       "<table border=\"1\" class=\"dataframe\">\n",
       "  <thead>\n",
       "    <tr style=\"text-align: right;\">\n",
       "      <th></th>\n",
       "      <th>sourceid</th>\n",
       "      <th>ID</th>\n",
       "      <th>RAdeg</th>\n",
       "      <th>DEdeg</th>\n",
       "      <th>g_mean</th>\n",
       "      <th>g_wmean</th>\n",
       "      <th>g_MAD</th>\n",
       "      <th>g_IQR</th>\n",
       "      <th>g_f60</th>\n",
       "      <th>g_f70</th>\n",
       "      <th>...</th>\n",
       "      <th>r_IQR</th>\n",
       "      <th>r_f60</th>\n",
       "      <th>r_f70</th>\n",
       "      <th>r_f80</th>\n",
       "      <th>r_f90</th>\n",
       "      <th>r_skew</th>\n",
       "      <th>r_kurtosis</th>\n",
       "      <th>r_welsh_J</th>\n",
       "      <th>r_welsh_K</th>\n",
       "      <th>Type</th>\n",
       "    </tr>\n",
       "  </thead>\n",
       "  <tbody>\n",
       "    <tr>\n",
       "      <th>0</th>\n",
       "      <td>1.0</td>\n",
       "      <td>ZTFJ000000.13+620605.8</td>\n",
       "      <td>0.000566</td>\n",
       "      <td>62.101631</td>\n",
       "      <td>17.994656</td>\n",
       "      <td>17.992102</td>\n",
       "      <td>0.034</td>\n",
       "      <td>0.07000</td>\n",
       "      <td>0.0820</td>\n",
       "      <td>0.10000</td>\n",
       "      <td>...</td>\n",
       "      <td>0.05125</td>\n",
       "      <td>0.0580</td>\n",
       "      <td>0.06655</td>\n",
       "      <td>0.0797</td>\n",
       "      <td>0.09370</td>\n",
       "      <td>0.105202</td>\n",
       "      <td>-0.632720</td>\n",
       "      <td>40.723268</td>\n",
       "      <td>1678.291273</td>\n",
       "      <td>BYDra</td>\n",
       "    </tr>\n",
       "    <tr>\n",
       "      <th>1</th>\n",
       "      <td>2.0</td>\n",
       "      <td>ZTFJ000000.14+721413.7</td>\n",
       "      <td>0.000620</td>\n",
       "      <td>72.237174</td>\n",
       "      <td>19.619402</td>\n",
       "      <td>19.579923</td>\n",
       "      <td>0.111</td>\n",
       "      <td>0.22650</td>\n",
       "      <td>0.2850</td>\n",
       "      <td>0.35950</td>\n",
       "      <td>...</td>\n",
       "      <td>0.22750</td>\n",
       "      <td>0.2712</td>\n",
       "      <td>0.30765</td>\n",
       "      <td>0.3614</td>\n",
       "      <td>0.44115</td>\n",
       "      <td>0.334634</td>\n",
       "      <td>-0.775188</td>\n",
       "      <td>258.579275</td>\n",
       "      <td>3360.702573</td>\n",
       "      <td>EW</td>\n",
       "    </tr>\n",
       "    <tr>\n",
       "      <th>2</th>\n",
       "      <td>3.0</td>\n",
       "      <td>ZTFJ000000.19+320847.2</td>\n",
       "      <td>0.000795</td>\n",
       "      <td>32.146449</td>\n",
       "      <td>15.313984</td>\n",
       "      <td>15.313984</td>\n",
       "      <td>0.072</td>\n",
       "      <td>0.14200</td>\n",
       "      <td>0.1580</td>\n",
       "      <td>0.18300</td>\n",
       "      <td>...</td>\n",
       "      <td>0.12600</td>\n",
       "      <td>0.1470</td>\n",
       "      <td>0.16080</td>\n",
       "      <td>0.1760</td>\n",
       "      <td>0.18860</td>\n",
       "      <td>-0.212606</td>\n",
       "      <td>-1.485137</td>\n",
       "      <td>171.745322</td>\n",
       "      <td>891.052032</td>\n",
       "      <td>EW</td>\n",
       "    </tr>\n",
       "    <tr>\n",
       "      <th>3</th>\n",
       "      <td>4.0</td>\n",
       "      <td>ZTFJ000000.26+311206.3</td>\n",
       "      <td>0.001085</td>\n",
       "      <td>31.201756</td>\n",
       "      <td>16.353295</td>\n",
       "      <td>16.353295</td>\n",
       "      <td>0.077</td>\n",
       "      <td>0.14900</td>\n",
       "      <td>0.1710</td>\n",
       "      <td>0.18700</td>\n",
       "      <td>...</td>\n",
       "      <td>0.10200</td>\n",
       "      <td>0.1322</td>\n",
       "      <td>0.15980</td>\n",
       "      <td>0.1946</td>\n",
       "      <td>0.20560</td>\n",
       "      <td>0.418285</td>\n",
       "      <td>-1.009552</td>\n",
       "      <td>202.025570</td>\n",
       "      <td>966.503331</td>\n",
       "      <td>EW</td>\n",
       "    </tr>\n",
       "    <tr>\n",
       "      <th>4</th>\n",
       "      <td>6.0</td>\n",
       "      <td>ZTFJ000000.30+233400.5</td>\n",
       "      <td>0.001249</td>\n",
       "      <td>23.566828</td>\n",
       "      <td>17.892283</td>\n",
       "      <td>17.878715</td>\n",
       "      <td>0.102</td>\n",
       "      <td>0.18975</td>\n",
       "      <td>0.2526</td>\n",
       "      <td>0.28225</td>\n",
       "      <td>...</td>\n",
       "      <td>0.22900</td>\n",
       "      <td>0.2700</td>\n",
       "      <td>0.29620</td>\n",
       "      <td>0.3132</td>\n",
       "      <td>0.33620</td>\n",
       "      <td>0.158998</td>\n",
       "      <td>-1.484462</td>\n",
       "      <td>253.787215</td>\n",
       "      <td>1019.579800</td>\n",
       "      <td>EW</td>\n",
       "    </tr>\n",
       "  </tbody>\n",
       "</table>\n",
       "<p>5 rows × 29 columns</p>\n",
       "</div>"
      ],
      "text/plain": [
       "0  sourceid                      ID     RAdeg      DEdeg     g_mean  \\\n",
       "0       1.0  ZTFJ000000.13+620605.8  0.000566  62.101631  17.994656   \n",
       "1       2.0  ZTFJ000000.14+721413.7  0.000620  72.237174  19.619402   \n",
       "2       3.0  ZTFJ000000.19+320847.2  0.000795  32.146449  15.313984   \n",
       "3       4.0  ZTFJ000000.26+311206.3  0.001085  31.201756  16.353295   \n",
       "4       6.0  ZTFJ000000.30+233400.5  0.001249  23.566828  17.892283   \n",
       "\n",
       "0    g_wmean  g_MAD    g_IQR   g_f60    g_f70  ...    r_IQR   r_f60    r_f70  \\\n",
       "0  17.992102  0.034  0.07000  0.0820  0.10000  ...  0.05125  0.0580  0.06655   \n",
       "1  19.579923  0.111  0.22650  0.2850  0.35950  ...  0.22750  0.2712  0.30765   \n",
       "2  15.313984  0.072  0.14200  0.1580  0.18300  ...  0.12600  0.1470  0.16080   \n",
       "3  16.353295  0.077  0.14900  0.1710  0.18700  ...  0.10200  0.1322  0.15980   \n",
       "4  17.878715  0.102  0.18975  0.2526  0.28225  ...  0.22900  0.2700  0.29620   \n",
       "\n",
       "0   r_f80    r_f90    r_skew  r_kurtosis   r_welsh_J    r_welsh_K   Type  \n",
       "0  0.0797  0.09370  0.105202   -0.632720   40.723268  1678.291273  BYDra  \n",
       "1  0.3614  0.44115  0.334634   -0.775188  258.579275  3360.702573     EW  \n",
       "2  0.1760  0.18860 -0.212606   -1.485137  171.745322   891.052032     EW  \n",
       "3  0.1946  0.20560  0.418285   -1.009552  202.025570   966.503331     EW  \n",
       "4  0.3132  0.33620  0.158998   -1.484462  253.787215  1019.579800     EW  \n",
       "\n",
       "[5 rows x 29 columns]"
      ]
     },
     "execution_count": 4,
     "metadata": {},
     "output_type": "execute_result"
    }
   ],
   "source": [
    "df.head()"
   ]
  },
  {
   "cell_type": "markdown",
   "id": "ac258357",
   "metadata": {},
   "source": [
    "## Drop rows with Blank values"
   ]
  },
  {
   "cell_type": "code",
   "execution_count": 5,
   "id": "bc7a1171",
   "metadata": {},
   "outputs": [],
   "source": [
    "df.replace('', np.nan, inplace=True)\n",
    "df.dropna(inplace=True)"
   ]
  },
  {
   "cell_type": "code",
   "execution_count": 6,
   "id": "0fbdddf3",
   "metadata": {},
   "outputs": [
    {
     "data": {
      "text/html": [
       "<div>\n",
       "<style scoped>\n",
       "    .dataframe tbody tr th:only-of-type {\n",
       "        vertical-align: middle;\n",
       "    }\n",
       "\n",
       "    .dataframe tbody tr th {\n",
       "        vertical-align: top;\n",
       "    }\n",
       "\n",
       "    .dataframe thead th {\n",
       "        text-align: right;\n",
       "    }\n",
       "</style>\n",
       "<table border=\"1\" class=\"dataframe\">\n",
       "  <thead>\n",
       "    <tr style=\"text-align: right;\">\n",
       "      <th></th>\n",
       "      <th>sourceid</th>\n",
       "      <th>ID</th>\n",
       "      <th>RAdeg</th>\n",
       "      <th>DEdeg</th>\n",
       "      <th>g_mean</th>\n",
       "      <th>g_wmean</th>\n",
       "      <th>g_MAD</th>\n",
       "      <th>g_IQR</th>\n",
       "      <th>g_f60</th>\n",
       "      <th>g_f70</th>\n",
       "      <th>...</th>\n",
       "      <th>r_IQR</th>\n",
       "      <th>r_f60</th>\n",
       "      <th>r_f70</th>\n",
       "      <th>r_f80</th>\n",
       "      <th>r_f90</th>\n",
       "      <th>r_skew</th>\n",
       "      <th>r_kurtosis</th>\n",
       "      <th>r_welsh_J</th>\n",
       "      <th>r_welsh_K</th>\n",
       "      <th>Type</th>\n",
       "    </tr>\n",
       "  </thead>\n",
       "  <tbody>\n",
       "    <tr>\n",
       "      <th>0</th>\n",
       "      <td>1.0</td>\n",
       "      <td>ZTFJ000000.13+620605.8</td>\n",
       "      <td>0.000566</td>\n",
       "      <td>62.101631</td>\n",
       "      <td>17.994656</td>\n",
       "      <td>17.992102</td>\n",
       "      <td>0.034</td>\n",
       "      <td>0.07000</td>\n",
       "      <td>0.0820</td>\n",
       "      <td>0.10000</td>\n",
       "      <td>...</td>\n",
       "      <td>0.05125</td>\n",
       "      <td>0.0580</td>\n",
       "      <td>0.06655</td>\n",
       "      <td>0.0797</td>\n",
       "      <td>0.09370</td>\n",
       "      <td>0.105202</td>\n",
       "      <td>-0.632720</td>\n",
       "      <td>40.723268</td>\n",
       "      <td>1678.291273</td>\n",
       "      <td>BYDra</td>\n",
       "    </tr>\n",
       "    <tr>\n",
       "      <th>1</th>\n",
       "      <td>2.0</td>\n",
       "      <td>ZTFJ000000.14+721413.7</td>\n",
       "      <td>0.000620</td>\n",
       "      <td>72.237174</td>\n",
       "      <td>19.619402</td>\n",
       "      <td>19.579923</td>\n",
       "      <td>0.111</td>\n",
       "      <td>0.22650</td>\n",
       "      <td>0.2850</td>\n",
       "      <td>0.35950</td>\n",
       "      <td>...</td>\n",
       "      <td>0.22750</td>\n",
       "      <td>0.2712</td>\n",
       "      <td>0.30765</td>\n",
       "      <td>0.3614</td>\n",
       "      <td>0.44115</td>\n",
       "      <td>0.334634</td>\n",
       "      <td>-0.775188</td>\n",
       "      <td>258.579275</td>\n",
       "      <td>3360.702573</td>\n",
       "      <td>EW</td>\n",
       "    </tr>\n",
       "    <tr>\n",
       "      <th>2</th>\n",
       "      <td>3.0</td>\n",
       "      <td>ZTFJ000000.19+320847.2</td>\n",
       "      <td>0.000795</td>\n",
       "      <td>32.146449</td>\n",
       "      <td>15.313984</td>\n",
       "      <td>15.313984</td>\n",
       "      <td>0.072</td>\n",
       "      <td>0.14200</td>\n",
       "      <td>0.1580</td>\n",
       "      <td>0.18300</td>\n",
       "      <td>...</td>\n",
       "      <td>0.12600</td>\n",
       "      <td>0.1470</td>\n",
       "      <td>0.16080</td>\n",
       "      <td>0.1760</td>\n",
       "      <td>0.18860</td>\n",
       "      <td>-0.212606</td>\n",
       "      <td>-1.485137</td>\n",
       "      <td>171.745322</td>\n",
       "      <td>891.052032</td>\n",
       "      <td>EW</td>\n",
       "    </tr>\n",
       "    <tr>\n",
       "      <th>3</th>\n",
       "      <td>4.0</td>\n",
       "      <td>ZTFJ000000.26+311206.3</td>\n",
       "      <td>0.001085</td>\n",
       "      <td>31.201756</td>\n",
       "      <td>16.353295</td>\n",
       "      <td>16.353295</td>\n",
       "      <td>0.077</td>\n",
       "      <td>0.14900</td>\n",
       "      <td>0.1710</td>\n",
       "      <td>0.18700</td>\n",
       "      <td>...</td>\n",
       "      <td>0.10200</td>\n",
       "      <td>0.1322</td>\n",
       "      <td>0.15980</td>\n",
       "      <td>0.1946</td>\n",
       "      <td>0.20560</td>\n",
       "      <td>0.418285</td>\n",
       "      <td>-1.009552</td>\n",
       "      <td>202.025570</td>\n",
       "      <td>966.503331</td>\n",
       "      <td>EW</td>\n",
       "    </tr>\n",
       "    <tr>\n",
       "      <th>4</th>\n",
       "      <td>6.0</td>\n",
       "      <td>ZTFJ000000.30+233400.5</td>\n",
       "      <td>0.001249</td>\n",
       "      <td>23.566828</td>\n",
       "      <td>17.892283</td>\n",
       "      <td>17.878715</td>\n",
       "      <td>0.102</td>\n",
       "      <td>0.18975</td>\n",
       "      <td>0.2526</td>\n",
       "      <td>0.28225</td>\n",
       "      <td>...</td>\n",
       "      <td>0.22900</td>\n",
       "      <td>0.2700</td>\n",
       "      <td>0.29620</td>\n",
       "      <td>0.3132</td>\n",
       "      <td>0.33620</td>\n",
       "      <td>0.158998</td>\n",
       "      <td>-1.484462</td>\n",
       "      <td>253.787215</td>\n",
       "      <td>1019.579800</td>\n",
       "      <td>EW</td>\n",
       "    </tr>\n",
       "  </tbody>\n",
       "</table>\n",
       "<p>5 rows × 29 columns</p>\n",
       "</div>"
      ],
      "text/plain": [
       "0  sourceid                      ID     RAdeg      DEdeg     g_mean  \\\n",
       "0       1.0  ZTFJ000000.13+620605.8  0.000566  62.101631  17.994656   \n",
       "1       2.0  ZTFJ000000.14+721413.7  0.000620  72.237174  19.619402   \n",
       "2       3.0  ZTFJ000000.19+320847.2  0.000795  32.146449  15.313984   \n",
       "3       4.0  ZTFJ000000.26+311206.3  0.001085  31.201756  16.353295   \n",
       "4       6.0  ZTFJ000000.30+233400.5  0.001249  23.566828  17.892283   \n",
       "\n",
       "0    g_wmean  g_MAD    g_IQR   g_f60    g_f70  ...    r_IQR   r_f60    r_f70  \\\n",
       "0  17.992102  0.034  0.07000  0.0820  0.10000  ...  0.05125  0.0580  0.06655   \n",
       "1  19.579923  0.111  0.22650  0.2850  0.35950  ...  0.22750  0.2712  0.30765   \n",
       "2  15.313984  0.072  0.14200  0.1580  0.18300  ...  0.12600  0.1470  0.16080   \n",
       "3  16.353295  0.077  0.14900  0.1710  0.18700  ...  0.10200  0.1322  0.15980   \n",
       "4  17.878715  0.102  0.18975  0.2526  0.28225  ...  0.22900  0.2700  0.29620   \n",
       "\n",
       "0   r_f80    r_f90    r_skew  r_kurtosis   r_welsh_J    r_welsh_K   Type  \n",
       "0  0.0797  0.09370  0.105202   -0.632720   40.723268  1678.291273  BYDra  \n",
       "1  0.3614  0.44115  0.334634   -0.775188  258.579275  3360.702573     EW  \n",
       "2  0.1760  0.18860 -0.212606   -1.485137  171.745322   891.052032     EW  \n",
       "3  0.1946  0.20560  0.418285   -1.009552  202.025570   966.503331     EW  \n",
       "4  0.3132  0.33620  0.158998   -1.484462  253.787215  1019.579800     EW  \n",
       "\n",
       "[5 rows x 29 columns]"
      ]
     },
     "execution_count": 6,
     "metadata": {},
     "output_type": "execute_result"
    }
   ],
   "source": [
    "df.head()"
   ]
  },
  {
   "cell_type": "code",
   "execution_count": 7,
   "id": "497e4ec2",
   "metadata": {},
   "outputs": [
    {
     "name": "stdout",
     "output_type": "stream",
     "text": [
      "['BYDra' 'EW' 'SR' 'RSCVN' 'RR' 'DSCT' 'EA' 'RRc' 'Mira' 'CEP']\n"
     ]
    }
   ],
   "source": [
    "label = df.Type.unique()\n",
    "print(label)"
   ]
  },
  {
   "cell_type": "markdown",
   "id": "39d40826",
   "metadata": {},
   "source": [
    "## Plot histogram of variable types in the dataset"
   ]
  },
  {
   "cell_type": "code",
   "execution_count": 8,
   "id": "4e0c17f2",
   "metadata": {},
   "outputs": [
    {
     "data": {
      "text/plain": [
       "<AxesSubplot:xlabel='Type', ylabel='Count'>"
      ]
     },
     "execution_count": 8,
     "metadata": {},
     "output_type": "execute_result"
    },
    {
     "data": {
      "image/png": "[encoded data removed]",
      "text/plain": [
       "<Figure size 432x288 with 1 Axes>"
      ]
     },
     "metadata": {
      "needs_background": "light"
     },
     "output_type": "display_data"
    }
   ],
   "source": [
    "import seaborn as sns\n",
    "sns.histplot(data=df, x=df.Type)"
   ]
  },
  {
   "cell_type": "markdown",
   "id": "2e11cf40",
   "metadata": {},
   "source": [
    "# Classify RR variable vs all"
   ]
  },
  {
   "cell_type": "code",
   "execution_count": 9,
   "id": "59379cba",
   "metadata": {},
   "outputs": [],
   "source": [
    "OneClass = 'RR'\n",
    "df0 = df.copy()\n",
    "df0.loc[df0.Type != OneClass,'Type'] = 'Other'\n",
    "df1 = df0[df0.Type == 'Other']\n",
    "df2 = df0[df0.Type == OneClass]\n",
    "\n",
    "df3 = df1[0:1000] # balance data type by only selecting 1000 of other type\n",
    "frames = [df2,df3]\n",
    "df_onevsall = pd.concat(frames)"
   ]
  },
  {
   "cell_type": "markdown",
   "id": "df2a0a7c",
   "metadata": {},
   "source": [
    "## Split into training and test data"
   ]
  },
  {
   "cell_type": "code",
   "execution_count": 10,
   "id": "cee3e2b6",
   "metadata": {},
   "outputs": [],
   "source": [
    "from sklearn import preprocessing\n",
    "from sklearn.model_selection import train_test_split\n",
    "\n",
    "# Map string labels to numbers\n",
    "label = df_onevsall.Type\n",
    "\n",
    "\n",
    "le = preprocessing.LabelEncoder()\n",
    "le.fit(label)\n",
    "\n",
    "# Drop columns that are not features\n",
    "X = df0\n",
    "# Encode labels to form y labels\n",
    "y = le.transform(df0.Type)\n",
    "\n",
    "# Split dataset into training set and test set\n",
    "X_tr, X_ts, y_train, y_test = train_test_split(X, y, test_size=0.3) # 70% training and 30% test\n",
    "X_train = X_tr.drop(['Type','sourceid', 'RAdeg','DEdeg','ID'],axis='columns')\n",
    "X_test = X_ts.drop(['Type','sourceid', 'RAdeg','DEdeg','ID'],axis='columns')"
   ]
  },
  {
   "cell_type": "markdown",
   "id": "4206d385",
   "metadata": {},
   "source": [
    "## Train a simple Random Forest"
   ]
  },
  {
   "cell_type": "code",
   "execution_count": 13,
   "id": "23bba0ec",
   "metadata": {},
   "outputs": [
    {
     "name": "stdout",
     "output_type": "stream",
     "text": [
      "Accuracy: 0.957533234859675\n",
      "Confusion matrix : \n",
      "[[2408   40]\n",
      " [  75  185]]\n"
     ]
    }
   ],
   "source": [
    "#Import Random Forest Model\n",
    "from sklearn.ensemble import RandomForestClassifier\n",
    "from sklearn import metrics\n",
    "from sklearn.metrics import confusion_matrix\n",
    "\n",
    "#Create a Gaussian Classifier\n",
    "clf_RR=RandomForestClassifier(n_estimators=100)\n",
    "\n",
    "#Train the model using the training sets y_pred=clf.predict(X_test)\n",
    "clf_RR.fit(X_train,y_train)\n",
    "\n",
    "# Predict test data output\n",
    "y_pred = clf_RR.predict(X_test)\n",
    "y_pred_train = clf_RR.predict(X_test)\n",
    "\n",
    "# Estimate model accuracy on test data\n",
    "print(\"Accuracy:\",metrics.accuracy_score(y_test, y_pred))\n",
    "\n",
    "print(\"Confusion matrix : \")\n",
    "print(confusion_matrix(y_test, clf_RR.predict(X_test)))"
   ]
  },
  {
   "cell_type": "markdown",
   "id": "76377418",
   "metadata": {},
   "source": [
    "## Visualize Feature importance"
   ]
  },
  {
   "cell_type": "code",
   "execution_count": 14,
   "id": "346c94d1",
   "metadata": {},
   "outputs": [
    {
     "data": {
      "text/plain": [
       "0\n",
       "g_skew        0.152237\n",
       "r_skew        0.089169\n",
       "g_f90         0.056301\n",
       "g_welsh_J     0.052605\n",
       "r_welsh_K     0.049626\n",
       "r_f90         0.044200\n",
       "r_welsh_J     0.043310\n",
       "g_f80         0.043213\n",
       "r_f80         0.039704\n",
       "g_f70         0.038196\n",
       "g_f60         0.038136\n",
       "r_mean        0.038032\n",
       "r_f60         0.036894\n",
       "r_f70         0.033980\n",
       "g_mean        0.032882\n",
       "g_wmean       0.031985\n",
       "g_IQR         0.026833\n",
       "g_MAD         0.024681\n",
       "r_MAD         0.023702\n",
       "g_kurtosis    0.023110\n",
       "r_IQR         0.022516\n",
       "r_wmean       0.022306\n",
       "r_kurtosis    0.019014\n",
       "g_welsh_K     0.017369\n",
       "dtype: float64"
      ]
     },
     "execution_count": 14,
     "metadata": {},
     "output_type": "execute_result"
    }
   ],
   "source": [
    "# feature importance\n",
    "feature_imp = pd.Series(clf_RR.feature_importances_,index=X_train.columns).sort_values(ascending=False)\n",
    "feature_imp"
   ]
  },
  {
   "cell_type": "code",
   "execution_count": 15,
   "id": "16dc06f3",
   "metadata": {
    "scrolled": true
   },
   "outputs": [
    {
     "name": "stderr",
     "output_type": "stream",
     "text": [
      "No handles with labels found to put in legend.\n"
     ]
    },
    {
     "data": {
      "image/png": "[encoded data removed]",
      "text/plain": [
       "<Figure size 432x288 with 1 Axes>"
      ]
     },
     "metadata": {
      "needs_background": "light"
     },
     "output_type": "display_data"
    }
   ],
   "source": [
    "# Creating a bar plot\n",
    "sns.barplot(x=feature_imp, y=feature_imp.index)\n",
    "# Add labels to your graph\n",
    "plt.xlabel('Feature Importance Score')\n",
    "plt.ylabel('Features')\n",
    "plt.title(\"Visualizing Important Features\")\n",
    "plt.legend()\n",
    "plt.show()"
   ]
  },
  {
   "cell_type": "markdown",
   "id": "8d6ea4a5",
   "metadata": {},
   "source": [
    "# Classify RSCVN variable vs all"
   ]
  },
  {
   "cell_type": "code",
   "execution_count": 17,
   "id": "f1a520a1",
   "metadata": {},
   "outputs": [],
   "source": [
    "OneClass = 'RSCVN'\n",
    "df0 = df.copy()\n",
    "df0.loc[df0.Type != OneClass,'Type'] = 'Other'\n",
    "df1 = df0[df0.Type == 'Other']\n",
    "df2 = df0[df0.Type == OneClass]\n",
    "\n",
    "df3 = df1[0:1000] # balance data type by only selecting 1000 of other type\n",
    "frames = [df2,df3]\n",
    "df_onevsall = pd.concat(frames)"
   ]
  },
  {
   "cell_type": "markdown",
   "id": "de01ab80",
   "metadata": {},
   "source": [
    "## Split into training and test data"
   ]
  },
  {
   "cell_type": "code",
   "execution_count": 19,
   "id": "0f5fcb6d",
   "metadata": {},
   "outputs": [],
   "source": [
    "\n",
    "# Map string labels to numbers\n",
    "label = df_onevsall.Type\n",
    "\n",
    "\n",
    "le = preprocessing.LabelEncoder()\n",
    "le.fit(label)\n",
    "\n",
    "# Drop columns that are not features\n",
    "X = df0\n",
    "# Encode labels to form y labels\n",
    "y = le.transform(df0.Type)\n",
    "\n",
    "# Split dataset into training set and test set\n",
    "X_tr, X_ts, y_train, y_test = train_test_split(X, y, test_size=0.3) # 70% training and 30% test\n",
    "X_train = X_tr.drop(['Type','sourceid', 'RAdeg','DEdeg','ID'],axis='columns')\n",
    "X_test = X_ts.drop(['Type','sourceid', 'RAdeg','DEdeg','ID'],axis='columns')"
   ]
  },
  {
   "cell_type": "markdown",
   "id": "79ebae35",
   "metadata": {},
   "source": [
    "## Train a simple Random Forest"
   ]
  },
  {
   "cell_type": "code",
   "execution_count": 20,
   "id": "e4c60c24",
   "metadata": {},
   "outputs": [
    {
     "name": "stdout",
     "output_type": "stream",
     "text": [
      "Accuracy: 0.9132200886262924\n",
      "Confusion matrix : \n",
      "[[2148  288]\n",
      " [ 271    1]]\n"
     ]
    }
   ],
   "source": [
    "#Create a Gaussian Classifier\n",
    "clf_RSCVN=RandomForestClassifier(n_estimators=100)\n",
    "\n",
    "#Train the model using the training sets y_pred=clf.predict(X_test)\n",
    "clf_RSCVN.fit(X_train,y_train)\n",
    "\n",
    "# Predict test data output\n",
    "y_pred=clf_RSCVN.predict(X_test)\n",
    "y_pred_train = clf_RSCVN.predict(X_train)\n",
    "\n",
    "# Estimate model accuracy on test data\n",
    "print(\"Accuracy:\",metrics.accuracy_score(y_test, y_pred))\n",
    "\n",
    "print(\"Confusion matrix : \")\n",
    "print(confusion_matrix(y_test, clf_RR.predict(X_test)))"
   ]
  },
  {
   "cell_type": "markdown",
   "id": "a0160e61",
   "metadata": {},
   "source": [
    "## Prediction Error distribution accross variable type class"
   ]
  },
  {
   "cell_type": "code",
   "execution_count": 21,
   "id": "72e15240",
   "metadata": {},
   "outputs": [
    {
     "data": {
      "text/plain": [
       "<AxesSubplot:xlabel='Test', ylabel='Count'>"
      ]
     },
     "execution_count": 21,
     "metadata": {},
     "output_type": "execute_result"
    },
    {
     "data": {
      "image/png": "[encoded data removed]",
      "text/plain": [
       "<Figure size 432x288 with 1 Axes>"
      ]
     },
     "metadata": {
      "needs_background": "light"
     },
     "output_type": "display_data"
    }
   ],
   "source": [
    "y_test_labels = le.inverse_transform(y_test)\n",
    "y_pred_labels = le.inverse_transform(y_pred)\n",
    "\n",
    "# Form a dataframe of test vs predicted labels\n",
    "pd_prediction = pd.DataFrame()\n",
    "pd_prediction['Test'] = y_test_labels\n",
    "pd_prediction['Pred'] = y_pred_labels\n",
    "pd_prediction['Accuracy'] = y_test_labels == y_pred_labels\n",
    "pd_prediction.head()\n",
    "\n",
    "sns.histplot(data=pd_prediction, x=pd_prediction.Test, hue = pd_prediction.Accuracy,multiple=\"dodge\", shrink=.8)\n"
   ]
  },
  {
   "cell_type": "markdown",
   "id": "b1f3fd1d",
   "metadata": {},
   "source": [
    "## Visualize Feature importance"
   ]
  },
  {
   "cell_type": "code",
   "execution_count": 22,
   "id": "7352f2b4",
   "metadata": {},
   "outputs": [
    {
     "data": {
      "text/plain": [
       "0\n",
       "r_f90         0.063006\n",
       "g_f90         0.062474\n",
       "r_f80         0.058302\n",
       "r_f70         0.048466\n",
       "g_welsh_J     0.048257\n",
       "r_welsh_K     0.046332\n",
       "g_f70         0.044500\n",
       "r_f60         0.043460\n",
       "r_skew        0.043224\n",
       "g_f80         0.041309\n",
       "r_mean        0.041057\n",
       "g_mean        0.039197\n",
       "g_f60         0.038513\n",
       "g_kurtosis    0.038405\n",
       "g_skew        0.038005\n",
       "g_wmean       0.037753\n",
       "r_kurtosis    0.037430\n",
       "r_wmean       0.035442\n",
       "g_welsh_K     0.034613\n",
       "g_IQR         0.034443\n",
       "r_IQR         0.033053\n",
       "r_welsh_J     0.031728\n",
       "r_MAD         0.030696\n",
       "g_MAD         0.030334\n",
       "dtype: float64"
      ]
     },
     "execution_count": 22,
     "metadata": {},
     "output_type": "execute_result"
    }
   ],
   "source": [
    "# feature importance\n",
    "feature_imp = pd.Series(clf_RSCVN.feature_importances_,index=X_train.columns).sort_values(ascending=False)\n",
    "feature_imp"
   ]
  },
  {
   "cell_type": "code",
   "execution_count": 23,
   "id": "c8bd18d1",
   "metadata": {
    "scrolled": true
   },
   "outputs": [
    {
     "name": "stderr",
     "output_type": "stream",
     "text": [
      "No handles with labels found to put in legend.\n"
     ]
    },
    {
     "data": {
      "image/png": "[encoded data removed]",
      "text/plain": [
       "<Figure size 432x288 with 1 Axes>"
      ]
     },
     "metadata": {
      "needs_background": "light"
     },
     "output_type": "display_data"
    }
   ],
   "source": [
    "# Creating a bar plot\n",
    "sns.barplot(x=feature_imp, y=feature_imp.index)\n",
    "# Add labels to your graph\n",
    "plt.xlabel('Feature Importance Score')\n",
    "plt.ylabel('Features')\n",
    "plt.title(\"Visualizing Important Features\")\n",
    "plt.legend()\n",
    "plt.show()"
   ]
  }
 ],
 "metadata": {
  "kernelspec": {
   "display_name": "Python 3",
   "language": "python",
   "name": "python3"
  },
  "language_info": {
   "codemirror_mode": {
    "name": "ipython",
    "version": 3
   },
   "file_extension": ".py",
   "mimetype": "text/x-python",
   "name": "python",
   "nbconvert_exporter": "python",
   "pygments_lexer": "ipython3",
   "version": "3.8.5"
  }
 },
 "nbformat": 4,
 "nbformat_minor": 5
}
